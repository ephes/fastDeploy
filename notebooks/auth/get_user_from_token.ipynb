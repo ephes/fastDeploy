{
 "cells": [
  {
   "cell_type": "code",
   "execution_count": 1,
   "id": "d6d3cdde-2bae-4069-879a-8ac9259c8d8e",
   "metadata": {},
   "outputs": [],
   "source": [
    "from deploy.domain import model\n",
    "from deploy.adapters import orm\n",
    "from deploy.bootstrap import bootstrap\n",
    "\n",
    "from sqlalchemy import select"
   ]
  },
  {
   "cell_type": "code",
   "execution_count": 2,
   "id": "51fcf533-9d29-41a3-8c1c-4c63c3c7c07f",
   "metadata": {},
   "outputs": [],
   "source": [
    "bus = bootstrap()"
   ]
  },
  {
   "cell_type": "code",
   "execution_count": 3,
   "id": "d2971346-d972-4776-9b30-0c2b347a5309",
   "metadata": {},
   "outputs": [],
   "source": [
    "with bus.uow as uow:\n",
    "    [user_in_db] = uow.users.get(\"jochen\")\n",
    "    user = model.User(**user_in_db.dict())"
   ]
  },
  {
   "cell_type": "code",
   "execution_count": 4,
   "id": "9ba4bfd4-8f74-4bb9-84bf-233a7ade4a99",
   "metadata": {},
   "outputs": [
    {
     "data": {
      "text/plain": [
       "User(id=2, name=jochen)"
      ]
     },
     "execution_count": 4,
     "metadata": {},
     "output_type": "execute_result"
    }
   ],
   "source": [
    "user"
   ]
  },
  {
   "cell_type": "code",
   "execution_count": null,
   "id": "67ed2629-8a77-49ba-99a3-72104dbeee6c",
   "metadata": {},
   "outputs": [],
   "source": []
  }
 ],
 "metadata": {
  "kernelspec": {
   "display_name": "Python 3 (ipykernel)",
   "language": "python",
   "name": "python3"
  },
  "language_info": {
   "codemirror_mode": {
    "name": "ipython",
    "version": 3
   },
   "file_extension": ".py",
   "mimetype": "text/x-python",
   "name": "python",
   "nbconvert_exporter": "python",
   "pygments_lexer": "ipython3",
   "version": "3.10.2"
  }
 },
 "nbformat": 4,
 "nbformat_minor": 5
}
