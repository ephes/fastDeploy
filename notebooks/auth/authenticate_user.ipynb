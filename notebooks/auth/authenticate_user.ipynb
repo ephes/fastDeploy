{
 "cells": [
  {
   "cell_type": "code",
   "execution_count": 5,
   "id": "1ab4dac7-df0a-4899-9600-f4e8cecf40d0",
   "metadata": {},
   "outputs": [],
   "source": [
    "from deploy.bootstrap import bootstrap\n",
    "from deploy.auth import authenticate_user\n",
    "\n",
    "from getpass import getpass"
   ]
  },
  {
   "cell_type": "code",
   "execution_count": 4,
   "id": "94f2a710-56a8-4368-ab7a-752af7315c3d",
   "metadata": {},
   "outputs": [
    {
     "name": "stdout",
     "output_type": "stream",
     "text": [
      "starting mappers\n"
     ]
    }
   ],
   "source": [
    "bus = await bootstrap()"
   ]
  },
  {
   "cell_type": "code",
   "execution_count": 7,
   "id": "b0fc43d3-b10f-4b7e-91c1-18a9b6bfa83b",
   "metadata": {},
   "outputs": [
    {
     "name": "stdin",
     "output_type": "stream",
     "text": [
      " ·········\n"
     ]
    },
    {
     "ename": "NoResultFound",
     "evalue": "No row was found when one was required",
     "output_type": "error",
     "traceback": [
      "\u001b[0;31m---------------------------------------------------------------------------\u001b[0m",
      "\u001b[0;31mNoResultFound\u001b[0m                             Traceback (most recent call last)",
      "Input \u001b[0;32mIn [7]\u001b[0m, in \u001b[0;36m<module>\u001b[0;34m\u001b[0m\n\u001b[1;32m      1\u001b[0m password \u001b[38;5;241m=\u001b[39m getpass()\n\u001b[0;32m----> 2\u001b[0m user \u001b[38;5;241m=\u001b[39m \u001b[38;5;28;01mawait\u001b[39;00m authenticate_user(\u001b[38;5;124m\"\u001b[39m\u001b[38;5;124mjochen\u001b[39m\u001b[38;5;124m\"\u001b[39m, password, bus\u001b[38;5;241m.\u001b[39muow)\n",
      "File \u001b[0;32m~/projects/fastdeploy/deploy/auth.py:32\u001b[0m, in \u001b[0;36mauthenticate_user\u001b[0;34m(username, password, uow)\u001b[0m\n\u001b[1;32m     27\u001b[0m \u001b[38;5;124;03m\"\"\"\u001b[39;00m\n\u001b[1;32m     28\u001b[0m \u001b[38;5;124;03mAuthenticate a user against the database. Raise an exception if the\u001b[39;00m\n\u001b[1;32m     29\u001b[0m \u001b[38;5;124;03muser is not found or the password is incorrect.\u001b[39;00m\n\u001b[1;32m     30\u001b[0m \u001b[38;5;124;03m\"\"\"\u001b[39;00m\n\u001b[1;32m     31\u001b[0m \u001b[38;5;28;01masync\u001b[39;00m \u001b[38;5;28;01mwith\u001b[39;00m uow \u001b[38;5;28;01mas\u001b[39;00m uow:\n\u001b[0;32m---> 32\u001b[0m     [user] \u001b[38;5;241m=\u001b[39m \u001b[38;5;28;01mawait\u001b[39;00m uow\u001b[38;5;241m.\u001b[39musers\u001b[38;5;241m.\u001b[39mget(username)\n\u001b[1;32m     33\u001b[0m     uow\u001b[38;5;241m.\u001b[39msession\u001b[38;5;241m.\u001b[39mexpunge_all()\n\u001b[1;32m     35\u001b[0m \u001b[38;5;28;01mif\u001b[39;00m user \u001b[38;5;129;01mis\u001b[39;00m \u001b[38;5;28;01mNone\u001b[39;00m:\n",
      "File \u001b[0;32m~/projects/fastdeploy/deploy/adapters/repository.py:119\u001b[0m, in \u001b[0;36mSqlAlchemyUserRepository.get\u001b[0;34m(self, name)\u001b[0m\n\u001b[1;32m    117\u001b[0m stmt \u001b[38;5;241m=\u001b[39m select(model\u001b[38;5;241m.\u001b[39mUser)\u001b[38;5;241m.\u001b[39mwhere(model\u001b[38;5;241m.\u001b[39mUser\u001b[38;5;241m.\u001b[39mname \u001b[38;5;241m==\u001b[39m name)\n\u001b[1;32m    118\u001b[0m result \u001b[38;5;241m=\u001b[39m \u001b[38;5;28;01mawait\u001b[39;00m \u001b[38;5;28mself\u001b[39m\u001b[38;5;241m.\u001b[39msession\u001b[38;5;241m.\u001b[39mexecute(stmt)\n\u001b[0;32m--> 119\u001b[0m \u001b[38;5;28;01mreturn\u001b[39;00m \u001b[43mresult\u001b[49m\u001b[38;5;241;43m.\u001b[39;49m\u001b[43mone\u001b[49m\u001b[43m(\u001b[49m\u001b[43m)\u001b[49m\n",
      "File \u001b[0;32m~/.virtualenvs/fd/lib/python3.10/site-packages/sqlalchemy/engine/result.py:1190\u001b[0m, in \u001b[0;36mResult.one\u001b[0;34m(self)\u001b[0m\n\u001b[1;32m   1163\u001b[0m \u001b[38;5;28;01mdef\u001b[39;00m \u001b[38;5;21mone\u001b[39m(\u001b[38;5;28mself\u001b[39m):\n\u001b[1;32m   1164\u001b[0m     \u001b[38;5;124;03m\"\"\"Return exactly one row or raise an exception.\u001b[39;00m\n\u001b[1;32m   1165\u001b[0m \n\u001b[1;32m   1166\u001b[0m \u001b[38;5;124;03m    Raises :class:`.NoResultFound` if the result returns no\u001b[39;00m\n\u001b[0;32m   (...)\u001b[0m\n\u001b[1;32m   1188\u001b[0m \n\u001b[1;32m   1189\u001b[0m \u001b[38;5;124;03m    \"\"\"\u001b[39;00m\n\u001b[0;32m-> 1190\u001b[0m     \u001b[38;5;28;01mreturn\u001b[39;00m \u001b[38;5;28;43mself\u001b[39;49m\u001b[38;5;241;43m.\u001b[39;49m\u001b[43m_only_one_row\u001b[49m\u001b[43m(\u001b[49m\n\u001b[1;32m   1191\u001b[0m \u001b[43m        \u001b[49m\u001b[43mraise_for_second_row\u001b[49m\u001b[38;5;241;43m=\u001b[39;49m\u001b[38;5;28;43;01mTrue\u001b[39;49;00m\u001b[43m,\u001b[49m\u001b[43m \u001b[49m\u001b[43mraise_for_none\u001b[49m\u001b[38;5;241;43m=\u001b[39;49m\u001b[38;5;28;43;01mTrue\u001b[39;49;00m\u001b[43m,\u001b[49m\u001b[43m \u001b[49m\u001b[43mscalar\u001b[49m\u001b[38;5;241;43m=\u001b[39;49m\u001b[38;5;28;43;01mFalse\u001b[39;49;00m\n\u001b[1;32m   1192\u001b[0m \u001b[43m    \u001b[49m\u001b[43m)\u001b[49m\n",
      "File \u001b[0;32m~/.virtualenvs/fd/lib/python3.10/site-packages/sqlalchemy/engine/result.py:561\u001b[0m, in \u001b[0;36mResultInternal._only_one_row\u001b[0;34m(self, raise_for_second_row, raise_for_none, scalar)\u001b[0m\n\u001b[1;32m    559\u001b[0m \u001b[38;5;28;01mif\u001b[39;00m row \u001b[38;5;129;01mis\u001b[39;00m \u001b[38;5;28;01mNone\u001b[39;00m:\n\u001b[1;32m    560\u001b[0m     \u001b[38;5;28;01mif\u001b[39;00m raise_for_none:\n\u001b[0;32m--> 561\u001b[0m         \u001b[38;5;28;01mraise\u001b[39;00m exc\u001b[38;5;241m.\u001b[39mNoResultFound(\n\u001b[1;32m    562\u001b[0m             \u001b[38;5;124m\"\u001b[39m\u001b[38;5;124mNo row was found when one was required\u001b[39m\u001b[38;5;124m\"\u001b[39m\n\u001b[1;32m    563\u001b[0m         )\n\u001b[1;32m    564\u001b[0m     \u001b[38;5;28;01melse\u001b[39;00m:\n\u001b[1;32m    565\u001b[0m         \u001b[38;5;28;01mreturn\u001b[39;00m \u001b[38;5;28;01mNone\u001b[39;00m\n",
      "\u001b[0;31mNoResultFound\u001b[0m: No row was found when one was required"
     ]
    }
   ],
   "source": [
    "password = getpass()\n",
    "user = await authenticate_user(\"jochen\", password, bus.uow)"
   ]
  },
  {
   "cell_type": "code",
   "execution_count": 8,
   "id": "86761689-5d84-47dc-992d-141124cfb76b",
   "metadata": {},
   "outputs": [],
   "source": [
    "from deploy.config import settings"
   ]
  },
  {
   "cell_type": "code",
   "execution_count": 9,
   "id": "8367a388-4d62-40bc-90b3-63ca3f8f7c3c",
   "metadata": {},
   "outputs": [
    {
     "data": {
      "text/plain": [
       "'postgresql+asyncpg:///deploy'"
      ]
     },
     "execution_count": 9,
     "metadata": {},
     "output_type": "execute_result"
    }
   ],
   "source": [
    "settings.database_url"
   ]
  },
  {
   "cell_type": "code",
   "execution_count": 11,
   "id": "a2b989f2-a917-4315-9e29-c6ab3d651f85",
   "metadata": {},
   "outputs": [
    {
     "name": "stderr",
     "output_type": "stream",
     "text": [
      "The garbage collector is trying to clean up connection <AdaptedConnection <asyncpg.connection.Connection object at 0x10b719700>>. This feature is unsupported on async dbapi, since no IO can be performed at this stage to reset the connection. Please close out all connections when they are no longer used, calling ``close()`` or using a context manager to manage their lifetime.\n"
     ]
    },
    {
     "name": "stdout",
     "output_type": "stream",
     "text": [
      "[(User(id=1, name=jochen),)]\n"
     ]
    },
    {
     "name": "stderr",
     "output_type": "stream",
     "text": [
      "/Users/jochen/projects/fastdeploy/deploy/service_layer/unit_of_work.py:89: SAWarning: The garbage collector is trying to clean up connection <AdaptedConnection <asyncpg.connection.Connection object at 0x10b719700>>. This feature is unsupported on async dbapi, since no IO can be performed at this stage to reset the connection. Please close out all connections when they are no longer used, calling ``close()`` or using a context manager to manage their lifetime.\n",
      "  self.deployments = repository.SqlAlchemyDeploymentRepository(self.session)\n"
     ]
    }
   ],
   "source": [
    "async with bus.uow as uow:\n",
    "    users = await uow.users.list()\n",
    "    print(users)"
   ]
  },
  {
   "cell_type": "code",
   "execution_count": null,
   "id": "f68eaf95-43ca-4e40-8f5e-2a9775a4b7f9",
   "metadata": {},
   "outputs": [],
   "source": [
    "async with bus.uow as uow:\n",
    "    users = await uow.users.list()\n",
    "    print(users)"
   ]
  }
 ],
 "metadata": {
  "kernelspec": {
   "display_name": "Python 3 (ipykernel)",
   "language": "python",
   "name": "python3"
  },
  "language_info": {
   "codemirror_mode": {
    "name": "ipython",
    "version": 3
   },
   "file_extension": ".py",
   "mimetype": "text/x-python",
   "name": "python",
   "nbconvert_exporter": "python",
   "pygments_lexer": "ipython3",
   "version": "3.10.2"
  }
 },
 "nbformat": 4,
 "nbformat_minor": 5
}
