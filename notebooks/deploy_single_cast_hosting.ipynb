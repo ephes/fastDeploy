{
 "cells": [
  {
   "cell_type": "code",
   "execution_count": 1,
   "id": "9a2d230b-6f70-49b7-b273-7f0da611e3b5",
   "metadata": {},
   "outputs": [
    {
     "data": {
      "application/javascript": [
       "\n",
       "            setTimeout(function() {\n",
       "                var nbb_cell_id = 1;\n",
       "                var nbb_unformatted_code = \"%load_ext nb_black\";\n",
       "                var nbb_formatted_code = \"%load_ext nb_black\";\n",
       "                var nbb_cells = Jupyter.notebook.get_cells();\n",
       "                for (var i = 0; i < nbb_cells.length; ++i) {\n",
       "                    if (nbb_cells[i].input_prompt_number == nbb_cell_id) {\n",
       "                        if (nbb_cells[i].get_text() == nbb_unformatted_code) {\n",
       "                             nbb_cells[i].set_text(nbb_formatted_code);\n",
       "                        }\n",
       "                        break;\n",
       "                    }\n",
       "                }\n",
       "            }, 500);\n",
       "            "
      ],
      "text/plain": [
       "<IPython.core.display.Javascript object>"
      ]
     },
     "metadata": {},
     "output_type": "display_data"
    }
   ],
   "source": [
    "%load_ext nb_black"
   ]
  },
  {
   "cell_type": "code",
   "execution_count": 2,
   "id": "89161b31-cce6-41ec-a3e5-9575ce358a3a",
   "metadata": {},
   "outputs": [
    {
     "data": {
      "application/javascript": [
       "\n",
       "            setTimeout(function() {\n",
       "                var nbb_cell_id = 2;\n",
       "                var nbb_unformatted_code = \"import json\\nimport httpx\\nimport string\\nimport secrets\\n\\nfrom time import sleep\\n\\nfrom getpass import getpass\\n\\nfrom app.models import DeploymentContext\\nfrom app.auth import token_to_payload\";\n",
       "                var nbb_formatted_code = \"import json\\nimport httpx\\nimport string\\nimport secrets\\n\\nfrom time import sleep\\n\\nfrom getpass import getpass\\n\\nfrom app.models import DeploymentContext\\nfrom app.auth import token_to_payload\";\n",
       "                var nbb_cells = Jupyter.notebook.get_cells();\n",
       "                for (var i = 0; i < nbb_cells.length; ++i) {\n",
       "                    if (nbb_cells[i].input_prompt_number == nbb_cell_id) {\n",
       "                        if (nbb_cells[i].get_text() == nbb_unformatted_code) {\n",
       "                             nbb_cells[i].set_text(nbb_formatted_code);\n",
       "                        }\n",
       "                        break;\n",
       "                    }\n",
       "                }\n",
       "            }, 500);\n",
       "            "
      ],
      "text/plain": [
       "<IPython.core.display.Javascript object>"
      ]
     },
     "metadata": {},
     "output_type": "display_data"
    }
   ],
   "source": [
    "import json\n",
    "import httpx\n",
    "import string\n",
    "import secrets\n",
    "\n",
    "from time import sleep\n",
    "\n",
    "from getpass import getpass\n",
    "\n",
    "from app.models import DeploymentContext\n",
    "from app.auth import token_to_payload"
   ]
  },
  {
   "cell_type": "code",
   "execution_count": 4,
   "id": "a3f1a7d3-6b8d-4052-b019-252f8e4f5304",
   "metadata": {},
   "outputs": [
    {
     "name": "stdin",
     "output_type": "stream",
     "text": [
      " ········\n"
     ]
    },
    {
     "data": {
      "application/javascript": [
       "\n",
       "            setTimeout(function() {\n",
       "                var nbb_cell_id = 4;\n",
       "                var nbb_unformatted_code = \"base_url = \\\"http://localhost:8000\\\"\\nusername = \\\"jochen\\\"\\npassword = getpass()\\nservice = \\\"single_cast_hosting\\\"\\n\\n# get access_token\\nclient = httpx.Client(base_url=base_url)\\nr = client.post(\\\"/token\\\", data={\\\"username\\\": username, \\\"password\\\": password})\\naccess_token = r.json()[\\\"access_token\\\"]\\nheaders={\\\"authorization\\\": f\\\"Bearer {access_token}\\\"}\\n\\n# get service token\\ndata = {\\\"service\\\": service, \\\"origin\\\": \\\"notebook\\\"}\\nr = client.post(\\\"/service-token\\\", json=data, headers=headers)\\nservice_token = r.json()[\\\"service_token\\\"]\\nheaders={\\\"authorization\\\": f\\\"Bearer {service_token}\\\"}\\nclient.headers = headers\";\n",
       "                var nbb_formatted_code = \"base_url = \\\"http://localhost:8000\\\"\\nusername = \\\"jochen\\\"\\npassword = getpass()\\nservice = \\\"single_cast_hosting\\\"\\n\\n# get access_token\\nclient = httpx.Client(base_url=base_url)\\nr = client.post(\\\"/token\\\", data={\\\"username\\\": username, \\\"password\\\": password})\\naccess_token = r.json()[\\\"access_token\\\"]\\nheaders = {\\\"authorization\\\": f\\\"Bearer {access_token}\\\"}\\n\\n# get service token\\ndata = {\\\"service\\\": service, \\\"origin\\\": \\\"notebook\\\"}\\nr = client.post(\\\"/service-token\\\", json=data, headers=headers)\\nservice_token = r.json()[\\\"service_token\\\"]\\nheaders = {\\\"authorization\\\": f\\\"Bearer {service_token}\\\"}\\nclient.headers = headers\";\n",
       "                var nbb_cells = Jupyter.notebook.get_cells();\n",
       "                for (var i = 0; i < nbb_cells.length; ++i) {\n",
       "                    if (nbb_cells[i].input_prompt_number == nbb_cell_id) {\n",
       "                        if (nbb_cells[i].get_text() == nbb_unformatted_code) {\n",
       "                             nbb_cells[i].set_text(nbb_formatted_code);\n",
       "                        }\n",
       "                        break;\n",
       "                    }\n",
       "                }\n",
       "            }, 500);\n",
       "            "
      ],
      "text/plain": [
       "<IPython.core.display.Javascript object>"
      ]
     },
     "metadata": {},
     "output_type": "display_data"
    }
   ],
   "source": [
    "base_url = \"http://localhost:8000\"\n",
    "username = \"jochen\"\n",
    "password = getpass()\n",
    "service = \"single_cast_hosting\"\n",
    "\n",
    "# get access_token\n",
    "client = httpx.Client(base_url=base_url)\n",
    "r = client.post(\"/token\", data={\"username\": username, \"password\": password})\n",
    "access_token = r.json()[\"access_token\"]\n",
    "headers={\"authorization\": f\"Bearer {access_token}\"}\n",
    "\n",
    "# get service token\n",
    "data = {\"service\": service, \"origin\": \"notebook\"}\n",
    "r = client.post(\"/service-token\", json=data, headers=headers)\n",
    "service_token = r.json()[\"service_token\"]\n",
    "headers={\"authorization\": f\"Bearer {service_token}\"}\n",
    "client.headers = headers"
   ]
  },
  {
   "cell_type": "markdown",
   "id": "9819b75d-4a21-411b-b22c-9bbe8781b8d8",
   "metadata": {},
   "source": [
    "# Deploy"
   ]
  },
  {
   "cell_type": "code",
   "execution_count": 5,
   "id": "7f7c0a80-4c09-41ae-8ca9-6e7c02bd8e70",
   "metadata": {},
   "outputs": [
    {
     "data": {
      "application/javascript": [
       "\n",
       "            setTimeout(function() {\n",
       "                var nbb_cell_id = 5;\n",
       "                var nbb_unformatted_code = \"def show_details(details_url):\\n    r = client.get(details_url, headers=headers)\\n    rdata = r.json()\\n    len_steps = len([s for s in rdata[\\\"steps\\\"] if s[\\\"state\\\"] == \\\"success\\\"])\\n    started = rdata[\\\"started\\\"]\\n    finished = rdata[\\\"finished\\\"]\\n    print(f\\\"{len_steps} {started} {finished}\\\")\";\n",
       "                var nbb_formatted_code = \"def show_details(details_url):\\n    r = client.get(details_url, headers=headers)\\n    rdata = r.json()\\n    len_steps = len([s for s in rdata[\\\"steps\\\"] if s[\\\"state\\\"] == \\\"success\\\"])\\n    started = rdata[\\\"started\\\"]\\n    finished = rdata[\\\"finished\\\"]\\n    print(f\\\"{len_steps} {started} {finished}\\\")\";\n",
       "                var nbb_cells = Jupyter.notebook.get_cells();\n",
       "                for (var i = 0; i < nbb_cells.length; ++i) {\n",
       "                    if (nbb_cells[i].input_prompt_number == nbb_cell_id) {\n",
       "                        if (nbb_cells[i].get_text() == nbb_unformatted_code) {\n",
       "                             nbb_cells[i].set_text(nbb_formatted_code);\n",
       "                        }\n",
       "                        break;\n",
       "                    }\n",
       "                }\n",
       "            }, 500);\n",
       "            "
      ],
      "text/plain": [
       "<IPython.core.display.Javascript object>"
      ]
     },
     "metadata": {},
     "output_type": "display_data"
    }
   ],
   "source": [
    "def show_details(details_url):\n",
    "    r = client.get(details_url, headers=headers)\n",
    "    rdata = r.json()\n",
    "    len_steps = len([s for s in rdata[\"steps\"] if s[\"state\"] == \"success\"])\n",
    "    started = rdata[\"started\"]\n",
    "    finished = rdata[\"finished\"]\n",
    "    print(f\"{len_steps} {started} {finished}\")"
   ]
  },
  {
   "cell_type": "code",
   "execution_count": 6,
   "id": "16d60e56-9373-4920-82c6-b31248e351dd",
   "metadata": {},
   "outputs": [
    {
     "data": {
      "application/javascript": [
       "\n",
       "            setTimeout(function() {\n",
       "                var nbb_cell_id = 6;\n",
       "                var nbb_unformatted_code = \"alphabet = string.ascii_letters + string.digits\\ndatabase_password = ''.join(secrets.choice(alphabet) for i in range(20))\\nsecret_key = \\\"\\\".join(secrets.choice(alphabet) for i in range(32))\";\n",
       "                var nbb_formatted_code = \"alphabet = string.ascii_letters + string.digits\\ndatabase_password = \\\"\\\".join(secrets.choice(alphabet) for i in range(20))\\nsecret_key = \\\"\\\".join(secrets.choice(alphabet) for i in range(32))\";\n",
       "                var nbb_cells = Jupyter.notebook.get_cells();\n",
       "                for (var i = 0; i < nbb_cells.length; ++i) {\n",
       "                    if (nbb_cells[i].input_prompt_number == nbb_cell_id) {\n",
       "                        if (nbb_cells[i].get_text() == nbb_unformatted_code) {\n",
       "                             nbb_cells[i].set_text(nbb_formatted_code);\n",
       "                        }\n",
       "                        break;\n",
       "                    }\n",
       "                }\n",
       "            }, 500);\n",
       "            "
      ],
      "text/plain": [
       "<IPython.core.display.Javascript object>"
      ]
     },
     "metadata": {},
     "output_type": "display_data"
    }
   ],
   "source": [
    "alphabet = string.ascii_letters + string.digits\n",
    "database_password = ''.join(secrets.choice(alphabet) for i in range(20))\n",
    "secret_key = \"\".join(secrets.choice(alphabet) for i in range(32))"
   ]
  },
  {
   "cell_type": "code",
   "execution_count": 14,
   "id": "05e73c57-4c4d-4db1-bcdf-c2d624d39e4b",
   "metadata": {},
   "outputs": [
    {
     "name": "stdout",
     "output_type": "stream",
     "text": [
      "{'id': 125, 'service_id': 6, 'origin': 'notebook', 'user': 'jochen', 'started': '2022-01-23T21:35:55.711897', 'finished': None, 'context': {'env': {'fqdn': 'foobar.staging.wersdoerfer.de', 'database_name': 'cast_foobar.staging.wersdoerfer.de', 'database_user': 'cast_foobar.staging.wersdoerfer.de', 'database_password': '6It0n1QGoMM4GtAkGmRr', 'secret_key': '2oCTxJIo9YBpWquiVG5Ks3cJHcIPKZUB', 'port': 10001, 'settings_file_name': 'foobar_staging_wersdoerfer_de'}}, 'type': 'deployment', 'deleted': False, 'details': 'http://localhost:8000/deployments/125'}\n"
     ]
    },
    {
     "data": {
      "application/javascript": [
       "\n",
       "            setTimeout(function() {\n",
       "                var nbb_cell_id = 14;\n",
       "                var nbb_unformatted_code = \"fqdn = \\\"foobar.staging.wersdoerfer.de\\\"\\nenv = {\\n    \\\"fqdn\\\": fqdn,\\n    \\\"database_name\\\": f\\\"cast_{fqdn}\\\",\\n    \\\"database_user\\\": f\\\"cast_{fqdn}\\\",\\n    \\\"database_password\\\": database_password,\\n    \\\"secret_key\\\": secret_key,\\n    \\\"port\\\": 10001,\\n    \\\"settings_file_name\\\": fqdn.replace(\\\".\\\", \\\"_\\\")\\n}\\ncontext = DeploymentContext(env=env)\\nr = client.post(\\\"/deployments/\\\", json=context.dict(), headers=headers)\\nrdata = r.json()\\nprint(rdata)\\ndetails_url = r.json()[\\\"details\\\"]\\n\\n# for i in range(3):\\n#     show_details(details_url)\\n#     sleep(1)\";\n",
       "                var nbb_formatted_code = \"fqdn = \\\"foobar.staging.wersdoerfer.de\\\"\\nenv = {\\n    \\\"fqdn\\\": fqdn,\\n    \\\"database_name\\\": f\\\"cast_{fqdn}\\\",\\n    \\\"database_user\\\": f\\\"cast_{fqdn}\\\",\\n    \\\"database_password\\\": database_password,\\n    \\\"secret_key\\\": secret_key,\\n    \\\"port\\\": 10001,\\n    \\\"settings_file_name\\\": fqdn.replace(\\\".\\\", \\\"_\\\"),\\n}\\ncontext = DeploymentContext(env=env)\\nr = client.post(\\\"/deployments/\\\", json=context.dict(), headers=headers)\\nrdata = r.json()\\nprint(rdata)\\ndetails_url = r.json()[\\\"details\\\"]\\n\\n# for i in range(3):\\n#     show_details(details_url)\\n#     sleep(1)\";\n",
       "                var nbb_cells = Jupyter.notebook.get_cells();\n",
       "                for (var i = 0; i < nbb_cells.length; ++i) {\n",
       "                    if (nbb_cells[i].input_prompt_number == nbb_cell_id) {\n",
       "                        if (nbb_cells[i].get_text() == nbb_unformatted_code) {\n",
       "                             nbb_cells[i].set_text(nbb_formatted_code);\n",
       "                        }\n",
       "                        break;\n",
       "                    }\n",
       "                }\n",
       "            }, 500);\n",
       "            "
      ],
      "text/plain": [
       "<IPython.core.display.Javascript object>"
      ]
     },
     "metadata": {},
     "output_type": "display_data"
    }
   ],
   "source": [
    "fqdn = \"foobar.staging.wersdoerfer.de\"\n",
    "env = {\n",
    "    \"fqdn\": fqdn,\n",
    "    \"database_name\": f\"cast_{fqdn}\",\n",
    "    \"database_user\": f\"cast_{fqdn}\",\n",
    "    \"database_password\": database_password,\n",
    "    \"secret_key\": secret_key,\n",
    "    \"port\": 10001,\n",
    "    \"settings_file_name\": fqdn.replace(\".\", \"_\")\n",
    "}\n",
    "context = DeploymentContext(env=env)\n",
    "r = client.post(\"/deployments/\", json=context.dict(), headers=headers)\n",
    "rdata = r.json()\n",
    "print(rdata)\n",
    "details_url = r.json()[\"details\"]\n",
    "\n",
    "# for i in range(3):\n",
    "#     show_details(details_url)\n",
    "#     sleep(1)"
   ]
  },
  {
   "cell_type": "code",
   "execution_count": 1,
   "id": "e4de2375-a0dc-479c-b304-45b9dfc031f8",
   "metadata": {},
   "outputs": [],
   "source": [
    "foo = {\"bar\": \"baz\"}"
   ]
  },
  {
   "cell_type": "code",
   "execution_count": 2,
   "id": "1a637757-54a5-4e5c-84bc-fa5080f1407b",
   "metadata": {},
   "outputs": [
    {
     "data": {
      "text/plain": [
       "{'bar': 'baz', 'blub': 'bla'}"
      ]
     },
     "execution_count": 2,
     "metadata": {},
     "output_type": "execute_result"
    }
   ],
   "source": [
    "dict(foo, blub=\"bla\")"
   ]
  },
  {
   "cell_type": "code",
   "execution_count": null,
   "id": "ec798487-7305-42b0-8976-34ac08e1730d",
   "metadata": {},
   "outputs": [],
   "source": []
  }
 ],
 "metadata": {
  "kernelspec": {
   "display_name": "Python 3 (ipykernel)",
   "language": "python",
   "name": "python3"
  },
  "language_info": {
   "codemirror_mode": {
    "name": "ipython",
    "version": 3
   },
   "file_extension": ".py",
   "mimetype": "text/x-python",
   "name": "python",
   "nbconvert_exporter": "python",
   "pygments_lexer": "ipython3",
   "version": "3.10.1"
  }
 },
 "nbformat": 4,
 "nbformat_minor": 5
}
