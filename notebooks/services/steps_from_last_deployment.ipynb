{
 "cells": [
  {
   "cell_type": "code",
   "execution_count": 1,
   "id": "b59d232e-5795-47a0-a8d9-073d527fa978",
   "metadata": {},
   "outputs": [],
   "source": [
    "stmt = \"\"\"\n",
    "    select step.deployment_id\n",
    "    from deployment, step\n",
    "    where step.deployment_id=deployment.id\n",
    "    and step.state == \"success\"\n",
    "    and deployment.service_id = :service_id\n",
    "    and deployment.finished is not null\n",
    "    and step.deployment_id not in (\n",
    "        select distinct(step.deployment_id)\n",
    "        from step, deployment\n",
    "            on step.deployment_id=deployment.id\n",
    "        where deployment.service_id = :service_id\n",
    "        and step.state != 'success'\n",
    "        group by step.deployment_id\n",
    "        having count(step.id) > 1\n",
    "    )\n",
    "    group by step.deployment_id\n",
    "    having count(step.id) > 0\n",
    "    order by deployment.started desc\n",
    "\"\"\""
   ]
  },
  {
   "cell_type": "code",
   "execution_count": null,
   "id": "9189c71d-52d7-41bd-94ee-c426971722b2",
   "metadata": {},
   "outputs": [],
   "source": [
    "stmt = \"\"\"\n",
    "    select step.deployment_id\n",
    "    from deployment, step\n",
    "    where step.deployment_id=deployment.id\n",
    "    and step.state == \"success\"\n",
    "    and deployment.service_id = 1\n",
    "    and deployment.finished is not null\n",
    "    and step.deployment_id not in (\n",
    "        select distinct(step.deployment_id)\n",
    "        from step, deployment\n",
    "        where step.deployment_id=deployment.id\n",
    "        and deployment.service_id = 1\n",
    "        and step.state != 'success'\n",
    "        group by step.deployment_id\n",
    "        having count(step.id) > 1\n",
    "    )\n",
    "    group by step.deployment_id\n",
    "    having count(step.id) > 0\n",
    "    order by deployment.started desc\n",
    "\"\"\""
   ]
  },
  {
   "cell_type": "code",
   "execution_count": null,
   "id": "3229c139-3ea7-4f05-bb63-03f3d743051e",
   "metadata": {},
   "outputs": [],
   "source": [
    "stmt = \"\"\"\n",
    "    select distinct(step.deployment_id)\n",
    "    from step, deployment\n",
    "    where\n",
    "    step.deployment_id=deployment.id\n",
    "    and deployment.service_id = 1\n",
    "    and step.state != 'success'\n",
    "    group by step.deployment_id\n",
    "    having count(step.id) > 1\n",
    "\"\"\""
   ]
  }
 ],
 "metadata": {
  "kernelspec": {
   "display_name": "Python 3 (ipykernel)",
   "language": "python",
   "name": "python3"
  },
  "language_info": {
   "codemirror_mode": {
    "name": "ipython",
    "version": 3
   },
   "file_extension": ".py",
   "mimetype": "text/x-python",
   "name": "python",
   "nbconvert_exporter": "python",
   "pygments_lexer": "ipython3",
   "version": "3.10.2"
  }
 },
 "nbformat": 4,
 "nbformat_minor": 5
}
