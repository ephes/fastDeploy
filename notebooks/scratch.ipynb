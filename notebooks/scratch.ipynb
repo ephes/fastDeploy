{
 "cells": [
  {
   "cell_type": "code",
   "execution_count": 8,
   "id": "134cfbc3",
   "metadata": {},
   "outputs": [],
   "source": [
    "import os\n",
    "\n",
    "from pathlib import Path\n",
    "from app.config import settings"
   ]
  },
  {
   "cell_type": "code",
   "execution_count": 10,
   "id": "e138937b",
   "metadata": {},
   "outputs": [],
   "source": [
    "os.chdir(settings.project_root)"
   ]
  },
  {
   "cell_type": "code",
   "execution_count": 11,
   "id": "e9251e97",
   "metadata": {},
   "outputs": [],
   "source": [
    "from app.main import app as fastapi_app"
   ]
  },
  {
   "cell_type": "code",
   "execution_count": 12,
   "id": "e30d2c3f",
   "metadata": {},
   "outputs": [
    {
     "data": {
      "text/plain": [
       "'/deployments/finish/'"
      ]
     },
     "execution_count": 12,
     "metadata": {},
     "output_type": "execute_result"
    }
   ],
   "source": [
    "fastapi_app.url_path_for(\"finish_deployment\")"
   ]
  },
  {
   "cell_type": "code",
   "execution_count": null,
   "id": "400fe47e",
   "metadata": {},
   "outputs": [],
   "source": []
  }
 ],
 "metadata": {
  "kernelspec": {
   "display_name": "Python 3 (ipykernel)",
   "language": "python",
   "name": "python3"
  },
  "language_info": {
   "codemirror_mode": {
    "name": "ipython",
    "version": 3
   },
   "file_extension": ".py",
   "mimetype": "text/x-python",
   "name": "python",
   "nbconvert_exporter": "python",
   "pygments_lexer": "ipython3",
   "version": "3.10.0"
  }
 },
 "nbformat": 4,
 "nbformat_minor": 5
}
