{
 "cells": [
  {
   "cell_type": "code",
   "execution_count": 5,
   "id": "a6388c05",
   "metadata": {},
   "outputs": [
    {
     "name": "stdout",
     "output_type": "stream",
     "text": [
      "The nb_black extension is already loaded. To reload it, use:\n",
      "  %reload_ext nb_black\n"
     ]
    },
    {
     "data": {
      "application/javascript": [
       "\n",
       "            setTimeout(function() {\n",
       "                var nbb_cell_id = 5;\n",
       "                var nbb_unformatted_code = \"%load_ext nb_black\";\n",
       "                var nbb_formatted_code = \"%load_ext nb_black\";\n",
       "                var nbb_cells = Jupyter.notebook.get_cells();\n",
       "                for (var i = 0; i < nbb_cells.length; ++i) {\n",
       "                    if (nbb_cells[i].input_prompt_number == nbb_cell_id) {\n",
       "                        if (nbb_cells[i].get_text() == nbb_unformatted_code) {\n",
       "                             nbb_cells[i].set_text(nbb_formatted_code);\n",
       "                        }\n",
       "                        break;\n",
       "                    }\n",
       "                }\n",
       "            }, 500);\n",
       "            "
      ],
      "text/plain": [
       "<IPython.core.display.Javascript object>"
      ]
     },
     "metadata": {},
     "output_type": "display_data"
    }
   ],
   "source": [
    "%load_ext nb_black"
   ]
  },
  {
   "cell_type": "code",
   "execution_count": 9,
   "id": "340d43ed",
   "metadata": {},
   "outputs": [
    {
     "data": {
      "application/javascript": [
       "\n",
       "            setTimeout(function() {\n",
       "                var nbb_cell_id = 9;\n",
       "                var nbb_unformatted_code = \"from sqlmodel import Session, select\\n\\nfrom app import database\\nfrom app.auth import get_password_hash, authenticate_user\\n\\nfrom app.models import User, Service\";\n",
       "                var nbb_formatted_code = \"from sqlmodel import Session, select\\n\\nfrom app import database\\nfrom app.auth import get_password_hash, authenticate_user\\n\\nfrom app.models import User, Service\";\n",
       "                var nbb_cells = Jupyter.notebook.get_cells();\n",
       "                for (var i = 0; i < nbb_cells.length; ++i) {\n",
       "                    if (nbb_cells[i].input_prompt_number == nbb_cell_id) {\n",
       "                        if (nbb_cells[i].get_text() == nbb_unformatted_code) {\n",
       "                             nbb_cells[i].set_text(nbb_formatted_code);\n",
       "                        }\n",
       "                        break;\n",
       "                    }\n",
       "                }\n",
       "            }, 500);\n",
       "            "
      ],
      "text/plain": [
       "<IPython.core.display.Javascript object>"
      ]
     },
     "metadata": {},
     "output_type": "display_data"
    }
   ],
   "source": [
    "from sqlmodel import Session, select\n",
    "\n",
    "from app import database\n",
    "from app.auth import get_password_hash, authenticate_user\n",
    "\n",
    "from app.models import User, Service"
   ]
  },
  {
   "cell_type": "code",
   "execution_count": 7,
   "id": "8172572d",
   "metadata": {},
   "outputs": [
    {
     "data": {
      "application/javascript": [
       "\n",
       "            setTimeout(function() {\n",
       "                var nbb_cell_id = 7;\n",
       "                var nbb_unformatted_code = \"database.create_db_and_tables()\";\n",
       "                var nbb_formatted_code = \"database.create_db_and_tables()\";\n",
       "                var nbb_cells = Jupyter.notebook.get_cells();\n",
       "                for (var i = 0; i < nbb_cells.length; ++i) {\n",
       "                    if (nbb_cells[i].input_prompt_number == nbb_cell_id) {\n",
       "                        if (nbb_cells[i].get_text() == nbb_unformatted_code) {\n",
       "                             nbb_cells[i].set_text(nbb_formatted_code);\n",
       "                        }\n",
       "                        break;\n",
       "                    }\n",
       "                }\n",
       "            }, 500);\n",
       "            "
      ],
      "text/plain": [
       "<IPython.core.display.Javascript object>"
      ]
     },
     "metadata": {},
     "output_type": "display_data"
    }
   ],
   "source": [
    "database.create_db_and_tables()"
   ]
  },
  {
   "cell_type": "code",
   "execution_count": 11,
   "id": "93b020d2",
   "metadata": {},
   "outputs": [
    {
     "data": {
      "application/javascript": [
       "\n",
       "            setTimeout(function() {\n",
       "                var nbb_cell_id = 11;\n",
       "                var nbb_unformatted_code = \"username = \\\"jochen\\\"\\npassword = \\\"password\\\"\";\n",
       "                var nbb_formatted_code = \"username = \\\"jochen\\\"\\npassword = \\\"password\\\"\";\n",
       "                var nbb_cells = Jupyter.notebook.get_cells();\n",
       "                for (var i = 0; i < nbb_cells.length; ++i) {\n",
       "                    if (nbb_cells[i].input_prompt_number == nbb_cell_id) {\n",
       "                        if (nbb_cells[i].get_text() == nbb_unformatted_code) {\n",
       "                             nbb_cells[i].set_text(nbb_formatted_code);\n",
       "                        }\n",
       "                        break;\n",
       "                    }\n",
       "                }\n",
       "            }, 500);\n",
       "            "
      ],
      "text/plain": [
       "<IPython.core.display.Javascript object>"
      ]
     },
     "metadata": {},
     "output_type": "display_data"
    }
   ],
   "source": [
    "username = \"jochen\"\n",
    "password = \"password\""
   ]
  },
  {
   "cell_type": "markdown",
   "id": "83fba04b",
   "metadata": {},
   "source": [
    "# List Users"
   ]
  },
  {
   "cell_type": "code",
   "execution_count": 8,
   "id": "0b601c24",
   "metadata": {},
   "outputs": [
    {
     "name": "stdout",
     "output_type": "stream",
     "text": [
      "id=1 password='$2b$12$0ir8t2bcTDMA8MzRdFkuWus7KEYi14khAYtL9UBmyzJ3t3PbBXIs.' name='jochen'\n"
     ]
    },
    {
     "data": {
      "application/javascript": [
       "\n",
       "            setTimeout(function() {\n",
       "                var nbb_cell_id = 8;\n",
       "                var nbb_unformatted_code = \"with Session(database.engine) as session:\\n    for user in session.exec(select(User)).all():\\n        print(user)\";\n",
       "                var nbb_formatted_code = \"with Session(database.engine) as session:\\n    for user in session.exec(select(User)).all():\\n        print(user)\";\n",
       "                var nbb_cells = Jupyter.notebook.get_cells();\n",
       "                for (var i = 0; i < nbb_cells.length; ++i) {\n",
       "                    if (nbb_cells[i].input_prompt_number == nbb_cell_id) {\n",
       "                        if (nbb_cells[i].get_text() == nbb_unformatted_code) {\n",
       "                             nbb_cells[i].set_text(nbb_formatted_code);\n",
       "                        }\n",
       "                        break;\n",
       "                    }\n",
       "                }\n",
       "            }, 500);\n",
       "            "
      ],
      "text/plain": [
       "<IPython.core.display.Javascript object>"
      ]
     },
     "metadata": {},
     "output_type": "display_data"
    }
   ],
   "source": [
    "with Session(database.engine) as session:\n",
    "    for user in session.exec(select(User)).all():\n",
    "        print(user)"
   ]
  },
  {
   "cell_type": "markdown",
   "id": "1d5f29bc",
   "metadata": {},
   "source": [
    "# Authenticate User"
   ]
  },
  {
   "cell_type": "code",
   "execution_count": 12,
   "id": "2d1b2694",
   "metadata": {},
   "outputs": [
    {
     "data": {
      "text/plain": [
       "<coroutine object authenticate_user at 0x11166fa70>"
      ]
     },
     "execution_count": 12,
     "metadata": {},
     "output_type": "execute_result"
    },
    {
     "data": {
      "application/javascript": [
       "\n",
       "            setTimeout(function() {\n",
       "                var nbb_cell_id = 12;\n",
       "                var nbb_unformatted_code = \"authenticate_user(username, password)\";\n",
       "                var nbb_formatted_code = \"authenticate_user(username, password)\";\n",
       "                var nbb_cells = Jupyter.notebook.get_cells();\n",
       "                for (var i = 0; i < nbb_cells.length; ++i) {\n",
       "                    if (nbb_cells[i].input_prompt_number == nbb_cell_id) {\n",
       "                        if (nbb_cells[i].get_text() == nbb_unformatted_code) {\n",
       "                             nbb_cells[i].set_text(nbb_formatted_code);\n",
       "                        }\n",
       "                        break;\n",
       "                    }\n",
       "                }\n",
       "            }, 500);\n",
       "            "
      ],
      "text/plain": [
       "<IPython.core.display.Javascript object>"
      ]
     },
     "metadata": {},
     "output_type": "display_data"
    }
   ],
   "source": [
    "authenticate_user(username, password)"
   ]
  },
  {
   "cell_type": "markdown",
   "id": "b279307c",
   "metadata": {},
   "source": [
    "# Create User"
   ]
  },
  {
   "cell_type": "code",
   "execution_count": 5,
   "id": "a25e5665",
   "metadata": {},
   "outputs": [
    {
     "data": {
      "application/javascript": [
       "\n",
       "            setTimeout(function() {\n",
       "                var nbb_cell_id = 5;\n",
       "                var nbb_unformatted_code = \"user = User(name=username, password=get_password_hash(password), deploy_only=False)\\nwith Session(database.engine) as session:\\n    session.add(user)\\n    session.commit()\\n    session.refresh(user)\";\n",
       "                var nbb_formatted_code = \"user = User(name=username, password=get_password_hash(password), deploy_only=False)\\nwith Session(database.engine) as session:\\n    session.add(user)\\n    session.commit()\\n    session.refresh(user)\";\n",
       "                var nbb_cells = Jupyter.notebook.get_cells();\n",
       "                for (var i = 0; i < nbb_cells.length; ++i) {\n",
       "                    if (nbb_cells[i].input_prompt_number == nbb_cell_id) {\n",
       "                        if (nbb_cells[i].get_text() == nbb_unformatted_code) {\n",
       "                             nbb_cells[i].set_text(nbb_formatted_code);\n",
       "                        }\n",
       "                        break;\n",
       "                    }\n",
       "                }\n",
       "            }, 500);\n",
       "            "
      ],
      "text/plain": [
       "<IPython.core.display.Javascript object>"
      ]
     },
     "metadata": {},
     "output_type": "display_data"
    }
   ],
   "source": [
    "user = User(name=username, password=get_password_hash(password))\n",
    "with Session(database.engine) as session:\n",
    "    session.add(user)\n",
    "    session.commit()\n",
    "    session.refresh(user)"
   ]
  },
  {
   "cell_type": "markdown",
   "id": "e38a5c07",
   "metadata": {},
   "source": [
    "# Delete User"
   ]
  },
  {
   "cell_type": "code",
   "execution_count": 10,
   "id": "53509439",
   "metadata": {},
   "outputs": [
    {
     "name": "stdout",
     "output_type": "stream",
     "text": [
      "id=1 name='jochen' password='password'\n"
     ]
    },
    {
     "data": {
      "application/javascript": [
       "\n",
       "            setTimeout(function() {\n",
       "                var nbb_cell_id = 10;\n",
       "                var nbb_unformatted_code = \"with Session(database.engine) as session:\\n    user = session.exec(select(User).where(User.name == username)).one()\\n    print(user)\\n    session.delete(user)\\n    session.commit()\";\n",
       "                var nbb_formatted_code = \"with Session(database.engine) as session:\\n    user = session.exec(select(User).where(User.name == username)).one()\\n    print(user)\\n    session.delete(user)\\n    session.commit()\";\n",
       "                var nbb_cells = Jupyter.notebook.get_cells();\n",
       "                for (var i = 0; i < nbb_cells.length; ++i) {\n",
       "                    if (nbb_cells[i].input_prompt_number == nbb_cell_id) {\n",
       "                        if (nbb_cells[i].get_text() == nbb_unformatted_code) {\n",
       "                             nbb_cells[i].set_text(nbb_formatted_code);\n",
       "                        }\n",
       "                        break;\n",
       "                    }\n",
       "                }\n",
       "            }, 500);\n",
       "            "
      ],
      "text/plain": [
       "<IPython.core.display.Javascript object>"
      ]
     },
     "metadata": {},
     "output_type": "display_data"
    }
   ],
   "source": [
    "with Session(database.engine) as session:\n",
    "    user = session.exec(select(User).where(User.name == username)).one()\n",
    "    print(user)\n",
    "    session.delete(user)\n",
    "    session.commit()"
   ]
  },
  {
   "cell_type": "markdown",
   "id": "d784d56a",
   "metadata": {},
   "source": [
    "# Delete Service"
   ]
  },
  {
   "cell_type": "code",
   "execution_count": 5,
   "id": "6cfa2fd6",
   "metadata": {},
   "outputs": [
    {
     "name": "stdout",
     "output_type": "stream",
     "text": [
      "name='fastdeploy' collect='fastdeploy_collect.py' deploy='fastdeploy_deploy.sh' id=1\n"
     ]
    },
    {
     "data": {
      "application/javascript": [
       "\n",
       "            setTimeout(function() {\n",
       "                var nbb_cell_id = 5;\n",
       "                var nbb_unformatted_code = \"with Session(database.engine) as session:\\n    service = session.exec(select(Service).where(Service.name == \\\"fastdeploy\\\")).one()\\n    print(service)\\n    session.delete(service)\\n    session.commit()\";\n",
       "                var nbb_formatted_code = \"with Session(database.engine) as session:\\n    service = session.exec(select(Service).where(Service.name == \\\"fastdeploy\\\")).one()\\n    print(service)\\n    session.delete(service)\\n    session.commit()\";\n",
       "                var nbb_cells = Jupyter.notebook.get_cells();\n",
       "                for (var i = 0; i < nbb_cells.length; ++i) {\n",
       "                    if (nbb_cells[i].input_prompt_number == nbb_cell_id) {\n",
       "                        if (nbb_cells[i].get_text() == nbb_unformatted_code) {\n",
       "                             nbb_cells[i].set_text(nbb_formatted_code);\n",
       "                        }\n",
       "                        break;\n",
       "                    }\n",
       "                }\n",
       "            }, 500);\n",
       "            "
      ],
      "text/plain": [
       "<IPython.core.display.Javascript object>"
      ]
     },
     "metadata": {},
     "output_type": "display_data"
    }
   ],
   "source": [
    "with Session(database.engine) as session:\n",
    "    service = session.exec(select(Service).where(Service.name == \"fastdeploy\")).one()\n",
    "    print(service)\n",
    "    session.delete(service)\n",
    "    session.commit()"
   ]
  },
  {
   "cell_type": "code",
   "execution_count": 4,
   "id": "15900054",
   "metadata": {},
   "outputs": [
    {
     "name": "stdout",
     "output_type": "stream",
     "text": [
      "name='fastdeploy' collect='fastdeploy_collect.py' deploy='fastdeploy_deploy.sh' id=1\n"
     ]
    },
    {
     "data": {
      "application/javascript": [
       "\n",
       "            setTimeout(function() {\n",
       "                var nbb_cell_id = 4;\n",
       "                var nbb_unformatted_code = \"with Session(database.engine) as session:\\n    service = session.exec(select(Service).where(Service.name == \\\"fastdeploy\\\")).one()\\n    print(service)\";\n",
       "                var nbb_formatted_code = \"with Session(database.engine) as session:\\n    service = session.exec(select(Service).where(Service.name == \\\"fastdeploy\\\")).one()\\n    print(service)\";\n",
       "                var nbb_cells = Jupyter.notebook.get_cells();\n",
       "                for (var i = 0; i < nbb_cells.length; ++i) {\n",
       "                    if (nbb_cells[i].input_prompt_number == nbb_cell_id) {\n",
       "                        if (nbb_cells[i].get_text() == nbb_unformatted_code) {\n",
       "                             nbb_cells[i].set_text(nbb_formatted_code);\n",
       "                        }\n",
       "                        break;\n",
       "                    }\n",
       "                }\n",
       "            }, 500);\n",
       "            "
      ],
      "text/plain": [
       "<IPython.core.display.Javascript object>"
      ]
     },
     "metadata": {},
     "output_type": "display_data"
    }
   ],
   "source": [
    "with Session(database.engine) as session:\n",
    "    service = session.exec(select(Service).where(Service.name == \"fastdeploy\")).one()\n",
    "    print(service)"
   ]
  }
 ],
 "metadata": {
  "kernelspec": {
   "display_name": "Python 3 (ipykernel)",
   "language": "python",
   "name": "python3"
  },
  "language_info": {
   "codemirror_mode": {
    "name": "ipython",
    "version": 3
   },
   "file_extension": ".py",
   "mimetype": "text/x-python",
   "name": "python",
   "nbconvert_exporter": "python",
   "pygments_lexer": "ipython3",
   "version": "3.10.0"
  }
 },
 "nbformat": 4,
 "nbformat_minor": 5
}
