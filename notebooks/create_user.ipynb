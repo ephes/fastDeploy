{
 "cells": [
  {
   "cell_type": "code",
   "execution_count": 10,
   "id": "340d43ed",
   "metadata": {},
   "outputs": [],
   "source": [
    "from sqlmodel import Session\n",
    "\n",
    "from app import database\n",
    "from app.auth import get_password_hash\n",
    "\n",
    "from app.models import User"
   ]
  },
  {
   "cell_type": "code",
   "execution_count": 6,
   "id": "8172572d",
   "metadata": {},
   "outputs": [],
   "source": [
    "database.create_db_and_tables()"
   ]
  },
  {
   "cell_type": "code",
   "execution_count": 9,
   "id": "93b020d2",
   "metadata": {},
   "outputs": [],
   "source": [
    "username = \"jochen\"\n",
    "password = \"password\""
   ]
  },
  {
   "cell_type": "code",
   "execution_count": 11,
   "id": "a25e5665",
   "metadata": {},
   "outputs": [],
   "source": [
    "user = User(name=username, password=get_password_hash(password), is_active=True)\n",
    "with Session(database.engine) as session:\n",
    "    session.add(user)\n",
    "    session.commit()\n",
    "    session.refresh(user)"
   ]
  },
  {
   "cell_type": "code",
   "execution_count": 12,
   "id": "d4cb99a2",
   "metadata": {},
   "outputs": [
    {
     "data": {
      "text/plain": [
       "'/Users/jochen/.virtualenvs/fd/bin/python'"
      ]
     },
     "execution_count": 12,
     "metadata": {},
     "output_type": "execute_result"
    }
   ],
   "source": [
    "import sys\n",
    "sys.executable"
   ]
  },
  {
   "cell_type": "code",
   "execution_count": null,
   "id": "03b1b82a",
   "metadata": {},
   "outputs": [],
   "source": []
  }
 ],
 "metadata": {
  "kernelspec": {
   "display_name": "Python 3 (ipykernel)",
   "language": "python",
   "name": "python3"
  },
  "language_info": {
   "codemirror_mode": {
    "name": "ipython",
    "version": 3
   },
   "file_extension": ".py",
   "mimetype": "text/x-python",
   "name": "python",
   "nbconvert_exporter": "python",
   "pygments_lexer": "ipython3",
   "version": "3.10.0"
  }
 },
 "nbformat": 4,
 "nbformat_minor": 5
}
