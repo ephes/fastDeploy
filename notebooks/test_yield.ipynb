{
 "cells": [
  {
   "cell_type": "code",
   "execution_count": 1,
   "id": "d7edee84-3049-44b5-9d50-f7db84437151",
   "metadata": {},
   "outputs": [],
   "source": [
    "def foo():\n",
    "    yield \"foobar\"\n",
    "    print(\"blub\")"
   ]
  },
  {
   "cell_type": "code",
   "execution_count": 4,
   "id": "82866e5b-9db9-4c3a-bb8c-621ee1da7077",
   "metadata": {},
   "outputs": [],
   "source": [
    "x = next(foo())"
   ]
  },
  {
   "cell_type": "code",
   "execution_count": 5,
   "id": "d3a6c232-0815-4346-b0fc-a7bf6524f5b4",
   "metadata": {},
   "outputs": [
    {
     "data": {
      "text/plain": [
       "'foobar'"
      ]
     },
     "execution_count": 5,
     "metadata": {},
     "output_type": "execute_result"
    }
   ],
   "source": [
    "x"
   ]
  },
  {
   "cell_type": "code",
   "execution_count": 7,
   "id": "2d4576ee-e2a6-4c44-ad17-873c8ecf34b7",
   "metadata": {},
   "outputs": [
    {
     "data": {
      "text/plain": [
       "'foobar'"
      ]
     },
     "execution_count": 7,
     "metadata": {},
     "output_type": "execute_result"
    }
   ],
   "source": [
    "next(foo())"
   ]
  },
  {
   "cell_type": "code",
   "execution_count": null,
   "id": "d431616d-d889-4d9e-8bdc-4e71a5f7162c",
   "metadata": {},
   "outputs": [],
   "source": []
  }
 ],
 "metadata": {
  "kernelspec": {
   "display_name": "Python 3 (ipykernel)",
   "language": "python",
   "name": "python3"
  },
  "language_info": {
   "codemirror_mode": {
    "name": "ipython",
    "version": 3
   },
   "file_extension": ".py",
   "mimetype": "text/x-python",
   "name": "python",
   "nbconvert_exporter": "python",
   "pygments_lexer": "ipython3",
   "version": "3.10.2"
  }
 },
 "nbformat": 4,
 "nbformat_minor": 5
}
