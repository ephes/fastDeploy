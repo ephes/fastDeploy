{
 "cells": [
  {
   "cell_type": "code",
   "execution_count": 1,
   "id": "bed855b2",
   "metadata": {},
   "outputs": [
    {
     "data": {
      "application/javascript": [
       "\n",
       "            setTimeout(function() {\n",
       "                var nbb_cell_id = 1;\n",
       "                var nbb_unformatted_code = \"%load_ext nb_black\";\n",
       "                var nbb_formatted_code = \"%load_ext nb_black\";\n",
       "                var nbb_cells = Jupyter.notebook.get_cells();\n",
       "                for (var i = 0; i < nbb_cells.length; ++i) {\n",
       "                    if (nbb_cells[i].input_prompt_number == nbb_cell_id) {\n",
       "                        if (nbb_cells[i].get_text() == nbb_unformatted_code) {\n",
       "                             nbb_cells[i].set_text(nbb_formatted_code);\n",
       "                        }\n",
       "                        break;\n",
       "                    }\n",
       "                }\n",
       "            }, 500);\n",
       "            "
      ],
      "text/plain": [
       "<IPython.core.display.Javascript object>"
      ]
     },
     "metadata": {},
     "output_type": "display_data"
    }
   ],
   "source": [
    "%load_ext nb_black"
   ]
  },
  {
   "cell_type": "code",
   "execution_count": 2,
   "id": "98b1f62f",
   "metadata": {},
   "outputs": [
    {
     "data": {
      "application/javascript": [
       "\n",
       "            setTimeout(function() {\n",
       "                var nbb_cell_id = 2;\n",
       "                var nbb_unformatted_code = \"x = [\\\"foo\\\", \\\"bar\\\"]\";\n",
       "                var nbb_formatted_code = \"x = [\\\"foo\\\", \\\"bar\\\"]\";\n",
       "                var nbb_cells = Jupyter.notebook.get_cells();\n",
       "                for (var i = 0; i < nbb_cells.length; ++i) {\n",
       "                    if (nbb_cells[i].input_prompt_number == nbb_cell_id) {\n",
       "                        if (nbb_cells[i].get_text() == nbb_unformatted_code) {\n",
       "                             nbb_cells[i].set_text(nbb_formatted_code);\n",
       "                        }\n",
       "                        break;\n",
       "                    }\n",
       "                }\n",
       "            }, 500);\n",
       "            "
      ],
      "text/plain": [
       "<IPython.core.display.Javascript object>"
      ]
     },
     "metadata": {},
     "output_type": "display_data"
    }
   ],
   "source": [
    "x = [\"foo\", \"bar\"]"
   ]
  },
  {
   "cell_type": "code",
   "execution_count": 3,
   "id": "4d4b2c7f",
   "metadata": {},
   "outputs": [
    {
     "data": {
      "application/javascript": [
       "\n",
       "            setTimeout(function() {\n",
       "                var nbb_cell_id = 3;\n",
       "                var nbb_unformatted_code = \"x.append(\\\"baz\\\")\";\n",
       "                var nbb_formatted_code = \"x.append(\\\"baz\\\")\";\n",
       "                var nbb_cells = Jupyter.notebook.get_cells();\n",
       "                for (var i = 0; i < nbb_cells.length; ++i) {\n",
       "                    if (nbb_cells[i].input_prompt_number == nbb_cell_id) {\n",
       "                        if (nbb_cells[i].get_text() == nbb_unformatted_code) {\n",
       "                             nbb_cells[i].set_text(nbb_formatted_code);\n",
       "                        }\n",
       "                        break;\n",
       "                    }\n",
       "                }\n",
       "            }, 500);\n",
       "            "
      ],
      "text/plain": [
       "<IPython.core.display.Javascript object>"
      ]
     },
     "metadata": {},
     "output_type": "display_data"
    }
   ],
   "source": [
    "x.append(\"baz\")"
   ]
  },
  {
   "cell_type": "code",
   "execution_count": 4,
   "id": "7f7af5c8",
   "metadata": {},
   "outputs": [
    {
     "data": {
      "text/plain": [
       "3"
      ]
     },
     "execution_count": 4,
     "metadata": {},
     "output_type": "execute_result"
    },
    {
     "data": {
      "application/javascript": [
       "\n",
       "            setTimeout(function() {\n",
       "                var nbb_cell_id = 4;\n",
       "                var nbb_unformatted_code = \"len(x)\";\n",
       "                var nbb_formatted_code = \"len(x)\";\n",
       "                var nbb_cells = Jupyter.notebook.get_cells();\n",
       "                for (var i = 0; i < nbb_cells.length; ++i) {\n",
       "                    if (nbb_cells[i].input_prompt_number == nbb_cell_id) {\n",
       "                        if (nbb_cells[i].get_text() == nbb_unformatted_code) {\n",
       "                             nbb_cells[i].set_text(nbb_formatted_code);\n",
       "                        }\n",
       "                        break;\n",
       "                    }\n",
       "                }\n",
       "            }, 500);\n",
       "            "
      ],
      "text/plain": [
       "<IPython.core.display.Javascript object>"
      ]
     },
     "metadata": {},
     "output_type": "display_data"
    }
   ],
   "source": [
    "len(x)"
   ]
  },
  {
   "cell_type": "code",
   "execution_count": 6,
   "id": "9216bdfa",
   "metadata": {},
   "outputs": [
    {
     "data": {
      "text/plain": [
       "'baz'"
      ]
     },
     "execution_count": 6,
     "metadata": {},
     "output_type": "execute_result"
    },
    {
     "data": {
      "application/javascript": [
       "\n",
       "            setTimeout(function() {\n",
       "                var nbb_cell_id = 6;\n",
       "                var nbb_unformatted_code = \"x[2]\";\n",
       "                var nbb_formatted_code = \"x[2]\";\n",
       "                var nbb_cells = Jupyter.notebook.get_cells();\n",
       "                for (var i = 0; i < nbb_cells.length; ++i) {\n",
       "                    if (nbb_cells[i].input_prompt_number == nbb_cell_id) {\n",
       "                        if (nbb_cells[i].get_text() == nbb_unformatted_code) {\n",
       "                             nbb_cells[i].set_text(nbb_formatted_code);\n",
       "                        }\n",
       "                        break;\n",
       "                    }\n",
       "                }\n",
       "            }, 500);\n",
       "            "
      ],
      "text/plain": [
       "<IPython.core.display.Javascript object>"
      ]
     },
     "metadata": {},
     "output_type": "display_data"
    }
   ],
   "source": [
    "x[2]"
   ]
  },
  {
   "cell_type": "code",
   "execution_count": 7,
   "id": "bdee8d28",
   "metadata": {},
   "outputs": [
    {
     "data": {
      "application/javascript": [
       "\n",
       "            setTimeout(function() {\n",
       "                var nbb_cell_id = 7;\n",
       "                var nbb_unformatted_code = \"x.remove(\\\"foo\\\")\";\n",
       "                var nbb_formatted_code = \"x.remove(\\\"foo\\\")\";\n",
       "                var nbb_cells = Jupyter.notebook.get_cells();\n",
       "                for (var i = 0; i < nbb_cells.length; ++i) {\n",
       "                    if (nbb_cells[i].input_prompt_number == nbb_cell_id) {\n",
       "                        if (nbb_cells[i].get_text() == nbb_unformatted_code) {\n",
       "                             nbb_cells[i].set_text(nbb_formatted_code);\n",
       "                        }\n",
       "                        break;\n",
       "                    }\n",
       "                }\n",
       "            }, 500);\n",
       "            "
      ],
      "text/plain": [
       "<IPython.core.display.Javascript object>"
      ]
     },
     "metadata": {},
     "output_type": "display_data"
    }
   ],
   "source": [
    "x.remove(\"foo\")"
   ]
  },
  {
   "cell_type": "code",
   "execution_count": 8,
   "id": "a1b768b2",
   "metadata": {},
   "outputs": [
    {
     "ename": "ValueError",
     "evalue": "list.remove(x): x not in list",
     "output_type": "error",
     "traceback": [
      "\u001b[0;31m---------------------------------------------------------------------------\u001b[0m",
      "\u001b[0;31mValueError\u001b[0m                                Traceback (most recent call last)",
      "\u001b[0;32m/var/folders/35/mhty_0hd42ddfvyk3_09f1hc0000gn/T/ipykernel_59086/2683090827.py\u001b[0m in \u001b[0;36m<module>\u001b[0;34m\u001b[0m\n\u001b[0;32m----> 1\u001b[0;31m \u001b[0mx\u001b[0m\u001b[0;34m.\u001b[0m\u001b[0mremove\u001b[0m\u001b[0;34m(\u001b[0m\u001b[0;34m\"asdf\"\u001b[0m\u001b[0;34m)\u001b[0m\u001b[0;34m\u001b[0m\u001b[0;34m\u001b[0m\u001b[0m\n\u001b[0m",
      "\u001b[0;31mValueError\u001b[0m: list.remove(x): x not in list"
     ]
    },
    {
     "data": {
      "application/javascript": [
       "\n",
       "            setTimeout(function() {\n",
       "                var nbb_cell_id = 8;\n",
       "                var nbb_unformatted_code = \"x.remove(\\\"asdf\\\")\";\n",
       "                var nbb_formatted_code = \"x.remove(\\\"asdf\\\")\";\n",
       "                var nbb_cells = Jupyter.notebook.get_cells();\n",
       "                for (var i = 0; i < nbb_cells.length; ++i) {\n",
       "                    if (nbb_cells[i].input_prompt_number == nbb_cell_id) {\n",
       "                        if (nbb_cells[i].get_text() == nbb_unformatted_code) {\n",
       "                             nbb_cells[i].set_text(nbb_formatted_code);\n",
       "                        }\n",
       "                        break;\n",
       "                    }\n",
       "                }\n",
       "            }, 500);\n",
       "            "
      ],
      "text/plain": [
       "<IPython.core.display.Javascript object>"
      ]
     },
     "metadata": {},
     "output_type": "display_data"
    }
   ],
   "source": [
    "x.remove(\"asdf\")"
   ]
  },
  {
   "cell_type": "code",
   "execution_count": 3,
   "id": "e5a4f0f5",
   "metadata": {},
   "outputs": [
    {
     "data": {
      "application/javascript": [
       "\n",
       "            setTimeout(function() {\n",
       "                var nbb_cell_id = 3;\n",
       "                var nbb_unformatted_code = \"import sqlmodel\";\n",
       "                var nbb_formatted_code = \"import sqlmodel\";\n",
       "                var nbb_cells = Jupyter.notebook.get_cells();\n",
       "                for (var i = 0; i < nbb_cells.length; ++i) {\n",
       "                    if (nbb_cells[i].input_prompt_number == nbb_cell_id) {\n",
       "                        if (nbb_cells[i].get_text() == nbb_unformatted_code) {\n",
       "                             nbb_cells[i].set_text(nbb_formatted_code);\n",
       "                        }\n",
       "                        break;\n",
       "                    }\n",
       "                }\n",
       "            }, 500);\n",
       "            "
      ],
      "text/plain": [
       "<IPython.core.display.Javascript object>"
      ]
     },
     "metadata": {},
     "output_type": "display_data"
    }
   ],
   "source": [
    "import sqlmodel"
   ]
  },
  {
   "cell_type": "code",
   "execution_count": 4,
   "id": "31cea6bc",
   "metadata": {},
   "outputs": [
    {
     "data": {
      "text/plain": [
       "['ARRAY',\n",
       " 'AutoString',\n",
       " 'BIGINT',\n",
       " 'BINARY',\n",
       " 'BLANK_SCHEMA',\n",
       " 'BLOB',\n",
       " 'BOOLEAN',\n",
       " 'BigInteger',\n",
       " 'Boolean',\n",
       " 'CHAR',\n",
       " 'CLOB',\n",
       " 'CheckConstraint',\n",
       " 'Column',\n",
       " 'ColumnDefault',\n",
       " 'Computed',\n",
       " 'Constraint',\n",
       " 'DATE',\n",
       " 'DATETIME',\n",
       " 'DDL',\n",
       " 'DECIMAL',\n",
       " 'Date',\n",
       " 'DateTime',\n",
       " 'DefaultClause',\n",
       " 'Enum',\n",
       " 'FLOAT',\n",
       " 'FetchedValue',\n",
       " 'Field',\n",
       " 'Float',\n",
       " 'ForeignKey',\n",
       " 'ForeignKeyConstraint',\n",
       " 'INT',\n",
       " 'INTEGER',\n",
       " 'Identity',\n",
       " 'Index',\n",
       " 'Integer',\n",
       " 'Interval',\n",
       " 'JSON',\n",
       " 'LABEL_STYLE_DEFAULT',\n",
       " 'LABEL_STYLE_DISAMBIGUATE_ONLY',\n",
       " 'LABEL_STYLE_NONE',\n",
       " 'LABEL_STYLE_TABLENAME_PLUS_COL',\n",
       " 'LargeBinary',\n",
       " 'MetaData',\n",
       " 'NCHAR',\n",
       " 'NUMERIC',\n",
       " 'NVARCHAR',\n",
       " 'Numeric',\n",
       " 'PickleType',\n",
       " 'PrimaryKeyConstraint',\n",
       " 'REAL',\n",
       " 'Relationship',\n",
       " 'SMALLINT',\n",
       " 'SQLModel',\n",
       " 'Sequence',\n",
       " 'Session',\n",
       " 'SmallInteger',\n",
       " 'String',\n",
       " 'TEXT',\n",
       " 'TIME',\n",
       " 'TIMESTAMP',\n",
       " 'Table',\n",
       " 'Text',\n",
       " 'ThreadLocalMetaData',\n",
       " 'Time',\n",
       " 'TypeDecorator',\n",
       " 'Unicode',\n",
       " 'UnicodeText',\n",
       " 'UniqueConstraint',\n",
       " 'VARBINARY',\n",
       " 'VARCHAR',\n",
       " '__builtins__',\n",
       " '__cached__',\n",
       " '__doc__',\n",
       " '__file__',\n",
       " '__loader__',\n",
       " '__name__',\n",
       " '__package__',\n",
       " '__path__',\n",
       " '__spec__',\n",
       " '__version__',\n",
       " 'alias',\n",
       " 'all_',\n",
       " 'and_',\n",
       " 'any_',\n",
       " 'asc',\n",
       " 'between',\n",
       " 'bindparam',\n",
       " 'case',\n",
       " 'cast',\n",
       " 'col',\n",
       " 'collate',\n",
       " 'column',\n",
       " 'create_engine',\n",
       " 'create_mock_engine',\n",
       " 'default',\n",
       " 'delete',\n",
       " 'desc',\n",
       " 'distinct',\n",
       " 'engine',\n",
       " 'engine_from_config',\n",
       " 'except_',\n",
       " 'except_all',\n",
       " 'exists',\n",
       " 'extract',\n",
       " 'false',\n",
       " 'func',\n",
       " 'funcfilter',\n",
       " 'insert',\n",
       " 'inspect',\n",
       " 'intersect',\n",
       " 'intersect_all',\n",
       " 'join',\n",
       " 'lambda_stmt',\n",
       " 'lateral',\n",
       " 'literal',\n",
       " 'literal_column',\n",
       " 'main',\n",
       " 'modifier',\n",
       " 'not_',\n",
       " 'null',\n",
       " 'nulls_first',\n",
       " 'nulls_last',\n",
       " 'nullsfirst',\n",
       " 'nullslast',\n",
       " 'or_',\n",
       " 'orm',\n",
       " 'outerjoin',\n",
       " 'outparam',\n",
       " 'over',\n",
       " 'select',\n",
       " 'sql',\n",
       " 'subquery',\n",
       " 'table',\n",
       " 'tablesample',\n",
       " 'text',\n",
       " 'true',\n",
       " 'tuple_',\n",
       " 'type_coerce',\n",
       " 'union',\n",
       " 'union_all',\n",
       " 'update',\n",
       " 'values',\n",
       " 'within_group']"
      ]
     },
     "execution_count": 4,
     "metadata": {},
     "output_type": "execute_result"
    },
    {
     "data": {
      "application/javascript": [
       "\n",
       "            setTimeout(function() {\n",
       "                var nbb_cell_id = 4;\n",
       "                var nbb_unformatted_code = \"dir(sqlmodel)\";\n",
       "                var nbb_formatted_code = \"dir(sqlmodel)\";\n",
       "                var nbb_cells = Jupyter.notebook.get_cells();\n",
       "                for (var i = 0; i < nbb_cells.length; ++i) {\n",
       "                    if (nbb_cells[i].input_prompt_number == nbb_cell_id) {\n",
       "                        if (nbb_cells[i].get_text() == nbb_unformatted_code) {\n",
       "                             nbb_cells[i].set_text(nbb_formatted_code);\n",
       "                        }\n",
       "                        break;\n",
       "                    }\n",
       "                }\n",
       "            }, 500);\n",
       "            "
      ],
      "text/plain": [
       "<IPython.core.display.Javascript object>"
      ]
     },
     "metadata": {},
     "output_type": "display_data"
    }
   ],
   "source": [
    "dir(sqlmodel)"
   ]
  },
  {
   "cell_type": "code",
   "execution_count": null,
   "id": "2ca14cc1",
   "metadata": {},
   "outputs": [],
   "source": []
  }
 ],
 "metadata": {
  "kernelspec": {
   "display_name": "Python 3 (ipykernel)",
   "language": "python",
   "name": "python3"
  },
  "language_info": {
   "codemirror_mode": {
    "name": "ipython",
    "version": 3
   },
   "file_extension": ".py",
   "mimetype": "text/x-python",
   "name": "python",
   "nbconvert_exporter": "python",
   "pygments_lexer": "ipython3",
   "version": "3.10.0"
  }
 },
 "nbformat": 4,
 "nbformat_minor": 5
}
