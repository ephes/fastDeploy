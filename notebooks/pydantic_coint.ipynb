{
 "cells": [
  {
   "cell_type": "code",
   "execution_count": 6,
   "id": "76cc32b0",
   "metadata": {},
   "outputs": [],
   "source": [
    "from pydantic import ValidationError\n",
    "\n",
    "from app.routers.users import ServiceIn"
   ]
  },
  {
   "cell_type": "code",
   "execution_count": 3,
   "id": "33610953",
   "metadata": {},
   "outputs": [],
   "source": [
    "si = ServiceIn(expiration_in_days=23, origin=\"GitHub\", service=\"fastdeploy\")"
   ]
  },
  {
   "cell_type": "code",
   "execution_count": 7,
   "id": "688a3ef7",
   "metadata": {},
   "outputs": [
    {
     "name": "stdout",
     "output_type": "stream",
     "text": [
      "1 validation error for ServiceIn\n",
      "expiration_in_days\n",
      "  ensure this value is greater than or equal to 1 (type=value_error.number.not_ge; limit_value=1)\n"
     ]
    }
   ],
   "source": [
    "try:\n",
    "    si = ServiceIn(expiration_in_days=0, origin=\"GitHub\", service=\"fastdeploy\")\n",
    "except ValidationError as e:\n",
    "    print(e.)"
   ]
  },
  {
   "cell_type": "code",
   "execution_count": null,
   "id": "f8fde601",
   "metadata": {},
   "outputs": [],
   "source": []
  }
 ],
 "metadata": {
  "kernelspec": {
   "display_name": "Python 3 (ipykernel)",
   "language": "python",
   "name": "python3"
  },
  "language_info": {
   "codemirror_mode": {
    "name": "ipython",
    "version": 3
   },
   "file_extension": ".py",
   "mimetype": "text/x-python",
   "name": "python",
   "nbconvert_exporter": "python",
   "pygments_lexer": "ipython3",
   "version": "3.10.0"
  }
 },
 "nbformat": 4,
 "nbformat_minor": 5
}
