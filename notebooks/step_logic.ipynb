{
 "cells": [
  {
   "cell_type": "code",
   "execution_count": 6,
   "id": "6bec7e63-9469-4b46-8b3e-7b3e1721b41c",
   "metadata": {},
   "outputs": [],
   "source": [
    "import os\n",
    "\n",
    "from pathlib import Path\n",
    "\n",
    "from sqlmodel import Session, select"
   ]
  },
  {
   "cell_type": "code",
   "execution_count": 2,
   "id": "bda60577-0ef7-49c6-b1a9-b5ac621385b9",
   "metadata": {},
   "outputs": [],
   "source": [
    "os.chdir(Path.cwd().parent)"
   ]
  },
  {
   "cell_type": "code",
   "execution_count": 3,
   "id": "da77a15e-4baa-4a1f-b493-befb8dff776a",
   "metadata": {},
   "outputs": [
    {
     "data": {
      "text/plain": [
       "PosixPath('/Users/jochen/projects/fastdeploy')"
      ]
     },
     "execution_count": 3,
     "metadata": {},
     "output_type": "execute_result"
    }
   ],
   "source": [
    "Path.cwd()"
   ]
  },
  {
   "cell_type": "code",
   "execution_count": 4,
   "id": "4984fbb0-47a9-450a-8789-e178e0431e36",
   "metadata": {},
   "outputs": [],
   "source": [
    "from app import database\n",
    "\n",
    "from app.models import Step"
   ]
  },
  {
   "cell_type": "markdown",
   "id": "9da1f9e6-bc14-494d-a8da-44f2c847f3cf",
   "metadata": {},
   "source": [
    "# Start Deployment\n",
    "\n",
    "What should start deployment do?\n",
    "\n",
    "* Create a deployment model with created = now() and finished = None timestamps\n",
    "* Look up the steps from last deployment and recreate them as \"pending\" with new deployment id\n",
    "* If there are no last steps, create one new dummy step\n",
    "* Start deployment task\n",
    "* Mark the first step as \"running\""
   ]
  },
  {
   "cell_type": "markdown",
   "id": "75ea1d23-640f-4bec-b4e6-dc840deaa619",
   "metadata": {},
   "source": [
    "# Finish Step\n",
    "\n",
    "What should finish step do?\n",
    "\n",
    "* If the currently running step != the finished step, mark the currently running step as pending again and create a new finished step\n",
    "* If the currently running step == the fninshed step, mark the currently running step as finished and set the next pending step to \"running\""
   ]
  },
  {
   "cell_type": "markdown",
   "id": "4b757576-453a-49da-8f41-3faaaa55a2cf",
   "metadata": {},
   "source": [
    "# Finish Deployment\n",
    "\n",
    "What should happen on finish deployment?\n",
    "\n",
    "* If the deployment has failed, do nothing\n",
    "* If the deployment was successful, remove all pending steps"
   ]
  },
  {
   "cell_type": "markdown",
   "id": "f9a2c0cb-05ff-4fd5-a8cb-97fbced81ed8",
   "metadata": {},
   "source": [
    "# Find Last Successful Deployment"
   ]
  },
  {
   "cell_type": "code",
   "execution_count": 38,
   "id": "f297518a-2c8f-4528-86c4-426f0ff4789b",
   "metadata": {},
   "outputs": [],
   "source": [
    "with Session(database.engine) as session:\n",
    "    stmt = \"\"\"\n",
    "        select distinct(step.deployment_id)\n",
    "          from step, deployment\n",
    "            on step.deployment_id=deployment.id\n",
    "         where\n",
    "           deployment.service_id = 4\n",
    "           and step.state != 'success'\n",
    "         group by step.deployment_id\n",
    "        having count(step.id) > 1\n",
    "    \"\"\"\n",
    "    result = session.exec(stmt).all()"
   ]
  },
  {
   "cell_type": "code",
   "execution_count": 62,
   "id": "bea3b0a3-1b2b-4de5-8fad-de17e9433023",
   "metadata": {},
   "outputs": [],
   "source": [
    "with Session(database.engine) as session:\n",
    "    stmt = \"\"\"\n",
    "        select step.deployment_id\n",
    "          from deployment, step\n",
    "         where step.deployment_id=deployment.id\n",
    "           and step.state == \"success\"\n",
    "           and deployment.service_id = 3\n",
    "           and step.deployment_id not in (\n",
    "            select distinct(step.deployment_id)\n",
    "              from step, deployment\n",
    "                on step.deployment_id=deployment.id\n",
    "             where deployment.service_id = 3\n",
    "               and step.state != 'success'\n",
    "             group by step.deployment_id\n",
    "            having count(step.id) > 1\n",
    "           )\n",
    "         group by step.deployment_id\n",
    "        having count(step.id) > 0\n",
    "         order by deployment.created desc\n",
    "    \"\"\"\n",
    "    deployment_id = session.exec(stmt).all()[0][0]\n",
    "    result = session.exec(stmt).all()"
   ]
  },
  {
   "cell_type": "code",
   "execution_count": 56,
   "id": "bb248a06-9ae2-4be2-9509-34304c1be0a0",
   "metadata": {},
   "outputs": [],
   "source": [
    "with Session(database.engine) as session:\n",
    "    stmt = \"\"\"\n",
    "        select step.deployment_id\n",
    "          from deployment, step\n",
    "         where step.deployment_id=deployment.id\n",
    "           and step.state == \"success\"\n",
    "           and deployment.service_id = 3\n",
    "         group by step.deployment_id\n",
    "        having count(step.id) > 0\n",
    "    \"\"\"\n",
    "    deployment_id = session.exec(stmt).all()[0][0]"
   ]
  },
  {
   "cell_type": "code",
   "execution_count": 54,
   "id": "57370732-ff27-47af-be0e-34a345574063",
   "metadata": {},
   "outputs": [
    {
     "data": {
      "text/plain": [
       "2"
      ]
     },
     "execution_count": 54,
     "metadata": {},
     "output_type": "execute_result"
    }
   ],
   "source": [
    "len(result)"
   ]
  },
  {
   "cell_type": "code",
   "execution_count": 63,
   "id": "4b9517b6-a5ef-4b92-ad49-639c352cac0c",
   "metadata": {},
   "outputs": [
    {
     "data": {
      "text/plain": [
       "2"
      ]
     },
     "execution_count": 63,
     "metadata": {},
     "output_type": "execute_result"
    }
   ],
   "source": [
    "deployment_id"
   ]
  },
  {
   "cell_type": "code",
   "execution_count": 79,
   "id": "7531ffb8-3137-4dee-b6a7-545bcdbf32b8",
   "metadata": {},
   "outputs": [
    {
     "name": "stdout",
     "output_type": "stream",
     "text": [
      "2\n"
     ]
    }
   ],
   "source": [
    "with Session(database.engine) as session:\n",
    "    stmt = \"\"\"\n",
    "        select step.deployment_id\n",
    "          from deployment, step\n",
    "         where step.deployment_id=deployment.id\n",
    "           and step.state == \"success\"\n",
    "           and deployment.service_id = :service_id\n",
    "           and step.deployment_id not in (\n",
    "            select distinct(step.deployment_id)\n",
    "              from step, deployment\n",
    "                on step.deployment_id=deployment.id\n",
    "             where deployment.service_id = :service_id\n",
    "               and step.state != 'success'\n",
    "             group by step.deployment_id\n",
    "            having count(step.id) > 1\n",
    "           )\n",
    "         group by step.deployment_id\n",
    "        having count(step.id) > 0\n",
    "         order by deployment.created desc\n",
    "    \"\"\"\n",
    "    deployment_id = session.exec(stmt, params={\"service_id\": 3}).all()[0][0]\n",
    "\n",
    "print(deployment_id)"
   ]
  },
  {
   "cell_type": "code",
   "execution_count": 65,
   "id": "66b4310a-6ecf-4255-a845-fef18ab1c35d",
   "metadata": {},
   "outputs": [
    {
     "name": "stdout",
     "output_type": "stream",
     "text": [
      "Help on method exec in module sqlmodel.orm.session:\n",
      "\n",
      "exec(statement: Union[sqlmodel.sql.expression.Select, sqlmodel.sql.expression.SelectOfScalar, sqlmodel.sql.base.Executable[~_TSelectParam]], *, params: Union[Mapping[str, Any], Sequence[Mapping[str, Any]], NoneType] = None, execution_options: Mapping[str, Any] = immutabledict({}), bind_arguments: Optional[Mapping[str, Any]] = None, _parent_execute_state: Optional[Any] = None, _add_event: Optional[Any] = None, **kw: Any) -> Union[sqlmodel.engine.result.Result[~_TSelectParam], sqlmodel.engine.result.ScalarResult[~_TSelectParam]] method of sqlmodel.orm.session.Session instance\n",
      "\n"
     ]
    }
   ],
   "source": [
    "with Session(database.engine) as session:\n",
    "    help(session.exec)\n"
   ]
  },
  {
   "cell_type": "code",
   "execution_count": null,
   "id": "734e511e-ae60-4214-aafc-95fff66d0fb0",
   "metadata": {},
   "outputs": [],
   "source": []
  }
 ],
 "metadata": {
  "kernelspec": {
   "display_name": "Python 3 (ipykernel)",
   "language": "python",
   "name": "python3"
  },
  "language_info": {
   "codemirror_mode": {
    "name": "ipython",
    "version": 3
   },
   "file_extension": ".py",
   "mimetype": "text/x-python",
   "name": "python",
   "nbconvert_exporter": "python",
   "pygments_lexer": "ipython3",
   "version": "3.10.1"
  }
 },
 "nbformat": 4,
 "nbformat_minor": 5
}
