{
 "cells": [
  {
   "cell_type": "code",
   "execution_count": 9,
   "id": "6bec7e63-9469-4b46-8b3e-7b3e1721b41c",
   "metadata": {},
   "outputs": [],
   "source": [
    "import os\n",
    "\n",
    "from pathlib import Path"
   ]
  },
  {
   "cell_type": "code",
   "execution_count": 7,
   "id": "bda60577-0ef7-49c6-b1a9-b5ac621385b9",
   "metadata": {},
   "outputs": [],
   "source": [
    "os.chdir(Path.cwd().parent)"
   ]
  },
  {
   "cell_type": "code",
   "execution_count": 5,
   "id": "da77a15e-4baa-4a1f-b493-befb8dff776a",
   "metadata": {},
   "outputs": [
    {
     "data": {
      "text/plain": [
       "PosixPath('/Users/jochen/projects/fastdeploy/notebooks')"
      ]
     },
     "execution_count": 5,
     "metadata": {},
     "output_type": "execute_result"
    }
   ],
   "source": [
    "Path.cwd()"
   ]
  },
  {
   "cell_type": "code",
   "execution_count": 8,
   "id": "4984fbb0-47a9-450a-8789-e178e0431e36",
   "metadata": {},
   "outputs": [],
   "source": [
    "from app.models import Step"
   ]
  },
  {
   "cell_type": "markdown",
   "id": "9da1f9e6-bc14-494d-a8da-44f2c847f3cf",
   "metadata": {},
   "source": [
    "# Start Deployment\n",
    "\n",
    "What should start deployment do?\n",
    "\n",
    "* Create a deployment model with created = now() and finished = None timestamps\n",
    "* Look up the steps from last deployment and recreate them as \"pending\" with new deployment id\n",
    "* If there are no last steps, create one new dummy step\n",
    "* Start deployment task\n",
    "* Mark the first step as \"running\""
   ]
  },
  {
   "cell_type": "markdown",
   "id": "75ea1d23-640f-4bec-b4e6-dc840deaa619",
   "metadata": {},
   "source": [
    "# Finish Step\n",
    "\n",
    "What should finish step do?\n",
    "\n",
    "* If the currently running step != the finished step, mark the currently running step as pending again and create a new finished step\n",
    "* If the currently running step == the fninshed step, mark the currently running step as finished and set the next pending step to \"running\""
   ]
  },
  {
   "cell_type": "markdown",
   "id": "4b757576-453a-49da-8f41-3faaaa55a2cf",
   "metadata": {},
   "source": [
    "# Finish Deployment\n",
    "\n",
    "What should happen on finish deployment?\n",
    "\n",
    "* If the deployment has failed, do nothing\n",
    "* If the deployment was successful, remove all pending steps"
   ]
  }
 ],
 "metadata": {
  "kernelspec": {
   "display_name": "Python 3 (ipykernel)",
   "language": "python",
   "name": "python3"
  },
  "language_info": {
   "codemirror_mode": {
    "name": "ipython",
    "version": 3
   },
   "file_extension": ".py",
   "mimetype": "text/x-python",
   "name": "python",
   "nbconvert_exporter": "python",
   "pygments_lexer": "ipython3",
   "version": "3.10.1"
  }
 },
 "nbformat": 4,
 "nbformat_minor": 5
}
