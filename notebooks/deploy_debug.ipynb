{
 "cells": [
  {
   "cell_type": "code",
   "execution_count": 1,
   "id": "9c2d07b4",
   "metadata": {},
   "outputs": [
    {
     "data": {
      "application/javascript": [
       "\n",
       "            setTimeout(function() {\n",
       "                var nbb_cell_id = 1;\n",
       "                var nbb_unformatted_code = \"%load_ext nb_black\";\n",
       "                var nbb_formatted_code = \"%load_ext nb_black\";\n",
       "                var nbb_cells = Jupyter.notebook.get_cells();\n",
       "                for (var i = 0; i < nbb_cells.length; ++i) {\n",
       "                    if (nbb_cells[i].input_prompt_number == nbb_cell_id) {\n",
       "                        if (nbb_cells[i].get_text() == nbb_unformatted_code) {\n",
       "                             nbb_cells[i].set_text(nbb_formatted_code);\n",
       "                        }\n",
       "                        break;\n",
       "                    }\n",
       "                }\n",
       "            }, 500);\n",
       "            "
      ],
      "text/plain": [
       "<IPython.core.display.Javascript object>"
      ]
     },
     "metadata": {},
     "output_type": "display_data"
    }
   ],
   "source": [
    "%load_ext nb_black"
   ]
  },
  {
   "cell_type": "code",
   "execution_count": 7,
   "id": "e7415913",
   "metadata": {},
   "outputs": [
    {
     "data": {
      "application/javascript": [
       "\n",
       "            setTimeout(function() {\n",
       "                var nbb_cell_id = 7;\n",
       "                var nbb_unformatted_code = \"from sqlmodel import Session, select\\n\\nfrom app.models import Service, Step\\nfrom app import database\";\n",
       "                var nbb_formatted_code = \"from sqlmodel import Session, select\\n\\nfrom app.models import Service, Step\\nfrom app import database\";\n",
       "                var nbb_cells = Jupyter.notebook.get_cells();\n",
       "                for (var i = 0; i < nbb_cells.length; ++i) {\n",
       "                    if (nbb_cells[i].input_prompt_number == nbb_cell_id) {\n",
       "                        if (nbb_cells[i].get_text() == nbb_unformatted_code) {\n",
       "                             nbb_cells[i].set_text(nbb_formatted_code);\n",
       "                        }\n",
       "                        break;\n",
       "                    }\n",
       "                }\n",
       "            }, 500);\n",
       "            "
      ],
      "text/plain": [
       "<IPython.core.display.Javascript object>"
      ]
     },
     "metadata": {},
     "output_type": "display_data"
    }
   ],
   "source": [
    "from sqlmodel import Session, select\n",
    "\n",
    "from app.models import Service, Step\n",
    "from app import database"
   ]
  },
  {
   "cell_type": "code",
   "execution_count": 3,
   "id": "af9dd1c2",
   "metadata": {},
   "outputs": [
    {
     "data": {
      "application/javascript": [
       "\n",
       "            setTimeout(function() {\n",
       "                var nbb_cell_id = 3;\n",
       "                var nbb_unformatted_code = \"database.create_db_and_tables()\";\n",
       "                var nbb_formatted_code = \"database.create_db_and_tables()\";\n",
       "                var nbb_cells = Jupyter.notebook.get_cells();\n",
       "                for (var i = 0; i < nbb_cells.length; ++i) {\n",
       "                    if (nbb_cells[i].input_prompt_number == nbb_cell_id) {\n",
       "                        if (nbb_cells[i].get_text() == nbb_unformatted_code) {\n",
       "                             nbb_cells[i].set_text(nbb_formatted_code);\n",
       "                        }\n",
       "                        break;\n",
       "                    }\n",
       "                }\n",
       "            }, 500);\n",
       "            "
      ],
      "text/plain": [
       "<IPython.core.display.Javascript object>"
      ]
     },
     "metadata": {},
     "output_type": "display_data"
    }
   ],
   "source": [
    "database.create_db_and_tables()"
   ]
  },
  {
   "cell_type": "code",
   "execution_count": 4,
   "id": "ade1452f",
   "metadata": {},
   "outputs": [
    {
     "data": {
      "application/javascript": [
       "\n",
       "            setTimeout(function() {\n",
       "                var nbb_cell_id = 4;\n",
       "                var nbb_unformatted_code = \"with Session(database.engine) as session:\\n    services = session.exec(select(Service)).all()\";\n",
       "                var nbb_formatted_code = \"with Session(database.engine) as session:\\n    services = session.exec(select(Service)).all()\";\n",
       "                var nbb_cells = Jupyter.notebook.get_cells();\n",
       "                for (var i = 0; i < nbb_cells.length; ++i) {\n",
       "                    if (nbb_cells[i].input_prompt_number == nbb_cell_id) {\n",
       "                        if (nbb_cells[i].get_text() == nbb_unformatted_code) {\n",
       "                             nbb_cells[i].set_text(nbb_formatted_code);\n",
       "                        }\n",
       "                        break;\n",
       "                    }\n",
       "                }\n",
       "            }, 500);\n",
       "            "
      ],
      "text/plain": [
       "<IPython.core.display.Javascript object>"
      ]
     },
     "metadata": {},
     "output_type": "display_data"
    }
   ],
   "source": [
    "with Session(database.engine) as session:\n",
    "    services = session.exec(select(Service)).all()"
   ]
  },
  {
   "cell_type": "code",
   "execution_count": 5,
   "id": "b6a9235a",
   "metadata": {},
   "outputs": [
    {
     "data": {
      "text/plain": [
       "[Service(id=1, collect='fastdeploy_collect.py', name='fastdeploy', deploy='fastdeploy_deploy.sh')]"
      ]
     },
     "execution_count": 5,
     "metadata": {},
     "output_type": "execute_result"
    },
    {
     "data": {
      "application/javascript": [
       "\n",
       "            setTimeout(function() {\n",
       "                var nbb_cell_id = 5;\n",
       "                var nbb_unformatted_code = \"services\";\n",
       "                var nbb_formatted_code = \"services\";\n",
       "                var nbb_cells = Jupyter.notebook.get_cells();\n",
       "                for (var i = 0; i < nbb_cells.length; ++i) {\n",
       "                    if (nbb_cells[i].input_prompt_number == nbb_cell_id) {\n",
       "                        if (nbb_cells[i].get_text() == nbb_unformatted_code) {\n",
       "                             nbb_cells[i].set_text(nbb_formatted_code);\n",
       "                        }\n",
       "                        break;\n",
       "                    }\n",
       "                }\n",
       "            }, 500);\n",
       "            "
      ],
      "text/plain": [
       "<IPython.core.display.Javascript object>"
      ]
     },
     "metadata": {},
     "output_type": "display_data"
    }
   ],
   "source": [
    "services"
   ]
  },
  {
   "cell_type": "code",
   "execution_count": 10,
   "id": "a0a35886",
   "metadata": {},
   "outputs": [
    {
     "data": {
      "application/javascript": [
       "\n",
       "            setTimeout(function() {\n",
       "                var nbb_cell_id = 10;\n",
       "                var nbb_unformatted_code = \"service = Service(name=\\\"fastdeploy\\\")\\nwith Session(database.engine) as session:\\n    session.add(service)\\n    session.commit()\";\n",
       "                var nbb_formatted_code = \"service = Service(name=\\\"fastdeploy\\\")\\nwith Session(database.engine) as session:\\n    session.add(service)\\n    session.commit()\";\n",
       "                var nbb_cells = Jupyter.notebook.get_cells();\n",
       "                for (var i = 0; i < nbb_cells.length; ++i) {\n",
       "                    if (nbb_cells[i].input_prompt_number == nbb_cell_id) {\n",
       "                        if (nbb_cells[i].get_text() == nbb_unformatted_code) {\n",
       "                             nbb_cells[i].set_text(nbb_formatted_code);\n",
       "                        }\n",
       "                        break;\n",
       "                    }\n",
       "                }\n",
       "            }, 500);\n",
       "            "
      ],
      "text/plain": [
       "<IPython.core.display.Javascript object>"
      ]
     },
     "metadata": {},
     "output_type": "display_data"
    }
   ],
   "source": [
    "service = Service(name=\"fastdeploy\")\n",
    "with Session(database.engine) as session:\n",
    "    session.add(service)\n",
    "    session.commit()"
   ]
  },
  {
   "cell_type": "code",
   "execution_count": 14,
   "id": "ccfcbdb0",
   "metadata": {},
   "outputs": [
    {
     "data": {
      "text/plain": [
       "'bar'"
      ]
     },
     "execution_count": 14,
     "metadata": {},
     "output_type": "execute_result"
    },
    {
     "data": {
      "application/javascript": [
       "\n",
       "            setTimeout(function() {\n",
       "                var nbb_cell_id = 14;\n",
       "                var nbb_unformatted_code = \"cond = False\\n\\\"foo\\\" if cond else \\\"bar\\\"\";\n",
       "                var nbb_formatted_code = \"cond = False\\n\\\"foo\\\" if cond else \\\"bar\\\"\";\n",
       "                var nbb_cells = Jupyter.notebook.get_cells();\n",
       "                for (var i = 0; i < nbb_cells.length; ++i) {\n",
       "                    if (nbb_cells[i].input_prompt_number == nbb_cell_id) {\n",
       "                        if (nbb_cells[i].get_text() == nbb_unformatted_code) {\n",
       "                             nbb_cells[i].set_text(nbb_formatted_code);\n",
       "                        }\n",
       "                        break;\n",
       "                    }\n",
       "                }\n",
       "            }, 500);\n",
       "            "
      ],
      "text/plain": [
       "<IPython.core.display.Javascript object>"
      ]
     },
     "metadata": {},
     "output_type": "display_data"
    }
   ],
   "source": [
    "cond = False\n",
    "\"foo\" if cond else \"bar\""
   ]
  },
  {
   "cell_type": "code",
   "execution_count": 3,
   "id": "f3f7635c",
   "metadata": {},
   "outputs": [
    {
     "data": {
      "application/javascript": [
       "\n",
       "            setTimeout(function() {\n",
       "                var nbb_cell_id = 3;\n",
       "                var nbb_unformatted_code = \"from app.main import app\";\n",
       "                var nbb_formatted_code = \"from app.main import app\";\n",
       "                var nbb_cells = Jupyter.notebook.get_cells();\n",
       "                for (var i = 0; i < nbb_cells.length; ++i) {\n",
       "                    if (nbb_cells[i].input_prompt_number == nbb_cell_id) {\n",
       "                        if (nbb_cells[i].get_text() == nbb_unformatted_code) {\n",
       "                             nbb_cells[i].set_text(nbb_formatted_code);\n",
       "                        }\n",
       "                        break;\n",
       "                    }\n",
       "                }\n",
       "            }, 500);\n",
       "            "
      ],
      "text/plain": [
       "<IPython.core.display.Javascript object>"
      ]
     },
     "metadata": {},
     "output_type": "display_data"
    }
   ],
   "source": [
    "from app.main import app"
   ]
  },
  {
   "cell_type": "code",
   "execution_count": 6,
   "id": "4b77b27e",
   "metadata": {},
   "outputs": [
    {
     "data": {
      "text/plain": [
       "'/services/1'"
      ]
     },
     "execution_count": 6,
     "metadata": {},
     "output_type": "execute_result"
    },
    {
     "data": {
      "application/javascript": [
       "\n",
       "            setTimeout(function() {\n",
       "                var nbb_cell_id = 6;\n",
       "                var nbb_unformatted_code = \"app.url_path_for(\\\"delete_service\\\", service_id=1)\";\n",
       "                var nbb_formatted_code = \"app.url_path_for(\\\"delete_service\\\", service_id=1)\";\n",
       "                var nbb_cells = Jupyter.notebook.get_cells();\n",
       "                for (var i = 0; i < nbb_cells.length; ++i) {\n",
       "                    if (nbb_cells[i].input_prompt_number == nbb_cell_id) {\n",
       "                        if (nbb_cells[i].get_text() == nbb_unformatted_code) {\n",
       "                             nbb_cells[i].set_text(nbb_formatted_code);\n",
       "                        }\n",
       "                        break;\n",
       "                    }\n",
       "                }\n",
       "            }, 500);\n",
       "            "
      ],
      "text/plain": [
       "<IPython.core.display.Javascript object>"
      ]
     },
     "metadata": {},
     "output_type": "display_data"
    }
   ],
   "source": [
    "app.url_path_for(\"delete_service\", service_id=1)"
   ]
  },
  {
   "cell_type": "code",
   "execution_count": 6,
   "id": "761c263b",
   "metadata": {},
   "outputs": [
    {
     "name": "stdout",
     "output_type": "stream",
     "text": [
      "id=1 collect='fastdeploy_collect.py' name='fastdeploy' deploy='fastdeploy_deploy.sh'\n"
     ]
    },
    {
     "data": {
      "application/javascript": [
       "\n",
       "            setTimeout(function() {\n",
       "                var nbb_cell_id = 6;\n",
       "                var nbb_unformatted_code = \"with Session(database.engine) as session:\\n    for service in session.exec(select(Service)).all():\\n        print(service)\";\n",
       "                var nbb_formatted_code = \"with Session(database.engine) as session:\\n    for service in session.exec(select(Service)).all():\\n        print(service)\";\n",
       "                var nbb_cells = Jupyter.notebook.get_cells();\n",
       "                for (var i = 0; i < nbb_cells.length; ++i) {\n",
       "                    if (nbb_cells[i].input_prompt_number == nbb_cell_id) {\n",
       "                        if (nbb_cells[i].get_text() == nbb_unformatted_code) {\n",
       "                             nbb_cells[i].set_text(nbb_formatted_code);\n",
       "                        }\n",
       "                        break;\n",
       "                    }\n",
       "                }\n",
       "            }, 500);\n",
       "            "
      ],
      "text/plain": [
       "<IPython.core.display.Javascript object>"
      ]
     },
     "metadata": {},
     "output_type": "display_data"
    }
   ],
   "source": [
    "with Session(database.engine) as session:\n",
    "    for service in session.exec(select(Service)).all():\n",
    "        print(service)"
   ]
  },
  {
   "cell_type": "code",
   "execution_count": 21,
   "id": "96d68999",
   "metadata": {},
   "outputs": [
    {
     "name": "stdout",
     "output_type": "stream",
     "text": [
      "id=446 finished=datetime.datetime(2021, 11, 9, 6, 29, 8, 937463) created=datetime.datetime(2021, 11, 9, 6, 18, 48, 897646) name='Gathering Facts' started=datetime.datetime(2021, 11, 9, 6, 29, 4, 297137) deployment_id=44\n",
      "id=447 finished=datetime.datetime(2021, 11, 9, 6, 29, 10, 319238) created=datetime.datetime(2021, 11, 9, 6, 18, 48, 897646) name='Install required build packages (git,)' started=datetime.datetime(2021, 11, 9, 6, 29, 8, 945369) deployment_id=44\n",
      "id=448 finished=datetime.datetime(2021, 11, 9, 6, 29, 11, 186686) created=datetime.datetime(2021, 11, 9, 6, 18, 48, 897646) name='Add a unix user with a bash shell' started=datetime.datetime(2021, 11, 9, 6, 29, 10, 326255) deployment_id=44\n",
      "id=449 finished=datetime.datetime(2021, 11, 9, 6, 29, 12, 444983) created=datetime.datetime(2021, 11, 9, 6, 18, 48, 897646) name='Git checkout repository' started=datetime.datetime(2021, 11, 9, 6, 29, 11, 193843) deployment_id=44\n",
      "id=450 finished=datetime.datetime(2021, 11, 9, 6, 29, 14, 291484) created=datetime.datetime(2021, 11, 9, 6, 18, 48, 897646) name='Create .env file' started=datetime.datetime(2021, 11, 9, 6, 29, 12, 451472) deployment_id=44\n",
      "id=451 finished=datetime.datetime(2021, 11, 9, 6, 29, 16, 680639) created=datetime.datetime(2021, 11, 9, 6, 18, 48, 897646) name='Create virtualenv for python' started=datetime.datetime(2021, 11, 9, 6, 29, 14, 301574) deployment_id=44\n",
      "id=452 finished=datetime.datetime(2021, 11, 9, 6, 29, 18, 332854) created=datetime.datetime(2021, 11, 9, 6, 18, 48, 897646) name='Upgrade pip' started=datetime.datetime(2021, 11, 9, 6, 29, 16, 689743) deployment_id=44\n",
      "id=453 finished=datetime.datetime(2021, 11, 9, 6, 29, 19, 860246) created=datetime.datetime(2021, 11, 9, 6, 18, 48, 897646) name='Install pip-tools' started=datetime.datetime(2021, 11, 9, 6, 29, 18, 344445) deployment_id=44\n",
      "id=454 finished=datetime.datetime(2021, 11, 9, 6, 29, 21, 186696) created=datetime.datetime(2021, 11, 9, 6, 18, 48, 897646) name='Install app production requirements' started=datetime.datetime(2021, 11, 9, 6, 29, 19, 871150) deployment_id=44\n",
      "id=455 finished=datetime.datetime(2021, 11, 9, 6, 29, 21, 954080) created=datetime.datetime(2021, 11, 9, 6, 18, 48, 897646) name='Create a symbolic link for uvicorn systemd service' started=datetime.datetime(2021, 11, 9, 6, 29, 21, 197991) deployment_id=44\n",
      "id=456 finished=datetime.datetime(2021, 11, 9, 6, 29, 23, 341079) created=datetime.datetime(2021, 11, 9, 6, 18, 48, 897646) name='Make sure deploy uvicorn service is running' started=datetime.datetime(2021, 11, 9, 6, 29, 21, 960914) deployment_id=44\n",
      "id=457 finished=datetime.datetime(2021, 11, 9, 6, 29, 24, 75209) created=datetime.datetime(2021, 11, 9, 6, 18, 48, 897646) name='Create a symbolic link for traefik loadbalancer' started=datetime.datetime(2021, 11, 9, 6, 29, 23, 352355) deployment_id=44\n"
     ]
    },
    {
     "data": {
      "application/javascript": [
       "\n",
       "            setTimeout(function() {\n",
       "                var nbb_cell_id = 21;\n",
       "                var nbb_unformatted_code = \"with Session(database.engine) as session:\\n    for step in session.exec(select(Step).where(Step.deployment_id == 44)).all():\\n        print(step)\";\n",
       "                var nbb_formatted_code = \"with Session(database.engine) as session:\\n    for step in session.exec(select(Step).where(Step.deployment_id == 44)).all():\\n        print(step)\";\n",
       "                var nbb_cells = Jupyter.notebook.get_cells();\n",
       "                for (var i = 0; i < nbb_cells.length; ++i) {\n",
       "                    if (nbb_cells[i].input_prompt_number == nbb_cell_id) {\n",
       "                        if (nbb_cells[i].get_text() == nbb_unformatted_code) {\n",
       "                             nbb_cells[i].set_text(nbb_formatted_code);\n",
       "                        }\n",
       "                        break;\n",
       "                    }\n",
       "                }\n",
       "            }, 500);\n",
       "            "
      ],
      "text/plain": [
       "<IPython.core.display.Javascript object>"
      ]
     },
     "metadata": {},
     "output_type": "display_data"
    }
   ],
   "source": [
    "with Session(database.engine) as session:\n",
    "    for step in session.exec(select(Step).where(Step.deployment_id == 44)).all():\n",
    "        print(step)"
   ]
  },
  {
   "cell_type": "code",
   "execution_count": 15,
   "id": "3e90d619",
   "metadata": {},
   "outputs": [
    {
     "data": {
      "application/javascript": [
       "\n",
       "            setTimeout(function() {\n",
       "                var nbb_cell_id = 15;\n",
       "                var nbb_unformatted_code = \"step = Step(name=\\\"foo\\\", deployment_id=37)\";\n",
       "                var nbb_formatted_code = \"step = Step(name=\\\"foo\\\", deployment_id=37)\";\n",
       "                var nbb_cells = Jupyter.notebook.get_cells();\n",
       "                for (var i = 0; i < nbb_cells.length; ++i) {\n",
       "                    if (nbb_cells[i].input_prompt_number == nbb_cell_id) {\n",
       "                        if (nbb_cells[i].get_text() == nbb_unformatted_code) {\n",
       "                             nbb_cells[i].set_text(nbb_formatted_code);\n",
       "                        }\n",
       "                        break;\n",
       "                    }\n",
       "                }\n",
       "            }, 500);\n",
       "            "
      ],
      "text/plain": [
       "<IPython.core.display.Javascript object>"
      ]
     },
     "metadata": {},
     "output_type": "display_data"
    }
   ],
   "source": [
    "step = Step(name=\"foo\", deployment_id=37)"
   ]
  },
  {
   "cell_type": "code",
   "execution_count": 16,
   "id": "970ed1d4",
   "metadata": {},
   "outputs": [
    {
     "data": {
      "application/javascript": [
       "\n",
       "            setTimeout(function() {\n",
       "                var nbb_cell_id = 16;\n",
       "                var nbb_unformatted_code = \"with Session(database.engine) as session:\\n    session.add(step)\\n    session.commit()\\n    session.refresh(step)\";\n",
       "                var nbb_formatted_code = \"with Session(database.engine) as session:\\n    session.add(step)\\n    session.commit()\\n    session.refresh(step)\";\n",
       "                var nbb_cells = Jupyter.notebook.get_cells();\n",
       "                for (var i = 0; i < nbb_cells.length; ++i) {\n",
       "                    if (nbb_cells[i].input_prompt_number == nbb_cell_id) {\n",
       "                        if (nbb_cells[i].get_text() == nbb_unformatted_code) {\n",
       "                             nbb_cells[i].set_text(nbb_formatted_code);\n",
       "                        }\n",
       "                        break;\n",
       "                    }\n",
       "                }\n",
       "            }, 500);\n",
       "            "
      ],
      "text/plain": [
       "<IPython.core.display.Javascript object>"
      ]
     },
     "metadata": {},
     "output_type": "display_data"
    }
   ],
   "source": [
    "with Session(database.engine) as session:\n",
    "    session.add(step)\n",
    "    session.commit()\n",
    "    session.refresh(step)"
   ]
  },
  {
   "cell_type": "code",
   "execution_count": 17,
   "id": "e4d0c37d",
   "metadata": {},
   "outputs": [
    {
     "data": {
      "text/plain": [
       "Step(id=373, finished=None, created=datetime.datetime(2021, 11, 9, 6, 3, 1, 935874), name='foo', started=None, deployment_id=37)"
      ]
     },
     "execution_count": 17,
     "metadata": {},
     "output_type": "execute_result"
    },
    {
     "data": {
      "application/javascript": [
       "\n",
       "            setTimeout(function() {\n",
       "                var nbb_cell_id = 17;\n",
       "                var nbb_unformatted_code = \"step\";\n",
       "                var nbb_formatted_code = \"step\";\n",
       "                var nbb_cells = Jupyter.notebook.get_cells();\n",
       "                for (var i = 0; i < nbb_cells.length; ++i) {\n",
       "                    if (nbb_cells[i].input_prompt_number == nbb_cell_id) {\n",
       "                        if (nbb_cells[i].get_text() == nbb_unformatted_code) {\n",
       "                             nbb_cells[i].set_text(nbb_formatted_code);\n",
       "                        }\n",
       "                        break;\n",
       "                    }\n",
       "                }\n",
       "            }, 500);\n",
       "            "
      ],
      "text/plain": [
       "<IPython.core.display.Javascript object>"
      ]
     },
     "metadata": {},
     "output_type": "display_data"
    }
   ],
   "source": [
    "step"
   ]
  },
  {
   "cell_type": "code",
   "execution_count": null,
   "id": "790f0016",
   "metadata": {},
   "outputs": [],
   "source": []
  }
 ],
 "metadata": {
  "kernelspec": {
   "display_name": "Python 3 (ipykernel)",
   "language": "python",
   "name": "python3"
  },
  "language_info": {
   "codemirror_mode": {
    "name": "ipython",
    "version": 3
   },
   "file_extension": ".py",
   "mimetype": "text/x-python",
   "name": "python",
   "nbconvert_exporter": "python",
   "pygments_lexer": "ipython3",
   "version": "3.10.0"
  }
 },
 "nbformat": 4,
 "nbformat_minor": 5
}
