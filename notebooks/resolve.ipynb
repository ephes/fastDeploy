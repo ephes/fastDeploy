{
 "cells": [
  {
   "cell_type": "code",
   "execution_count": 1,
   "id": "10da021d",
   "metadata": {},
   "outputs": [
    {
     "name": "stdout",
     "output_type": "stream",
     "text": [
      "/Users/jochen/projects/fastdeploy/notebooks\n"
     ]
    }
   ],
   "source": [
    "from app.main import app"
   ]
  },
  {
   "cell_type": "code",
   "execution_count": 2,
   "id": "c32b3f94",
   "metadata": {},
   "outputs": [
    {
     "data": {
      "text/plain": [
       "'/deployments/finish/'"
      ]
     },
     "execution_count": 2,
     "metadata": {},
     "output_type": "execute_result"
    }
   ],
   "source": [
    "app.url_path_for(\"finish_deployment\")"
   ]
  },
  {
   "cell_type": "code",
   "execution_count": 4,
   "id": "49264bd5-06f4-4204-a40d-f481137fd090",
   "metadata": {},
   "outputs": [
    {
     "data": {
      "text/plain": [
       "'/deployments/1'"
      ]
     },
     "execution_count": 4,
     "metadata": {},
     "output_type": "execute_result"
    }
   ],
   "source": [
    "app.url_path_for(\"get_deployment_details\", deployment_id=1)"
   ]
  },
  {
   "cell_type": "code",
   "execution_count": null,
   "id": "a94b62b8-8708-4be1-a269-5f197d9d9fbb",
   "metadata": {},
   "outputs": [],
   "source": []
  }
 ],
 "metadata": {
  "kernelspec": {
   "display_name": "Python 3 (ipykernel)",
   "language": "python",
   "name": "python3"
  },
  "language_info": {
   "codemirror_mode": {
    "name": "ipython",
    "version": 3
   },
   "file_extension": ".py",
   "mimetype": "text/x-python",
   "name": "python",
   "nbconvert_exporter": "python",
   "pygments_lexer": "ipython3",
   "version": "3.10.1"
  }
 },
 "nbformat": 4,
 "nbformat_minor": 5
}
