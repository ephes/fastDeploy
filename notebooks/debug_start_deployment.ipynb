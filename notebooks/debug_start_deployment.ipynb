{
 "cells": [
  {
   "cell_type": "code",
   "execution_count": 1,
   "id": "7d72f280",
   "metadata": {},
   "outputs": [
    {
     "data": {
      "application/javascript": [
       "\n",
       "            setTimeout(function() {\n",
       "                var nbb_cell_id = 1;\n",
       "                var nbb_unformatted_code = \"%load_ext nb_black\";\n",
       "                var nbb_formatted_code = \"%load_ext nb_black\";\n",
       "                var nbb_cells = Jupyter.notebook.get_cells();\n",
       "                for (var i = 0; i < nbb_cells.length; ++i) {\n",
       "                    if (nbb_cells[i].input_prompt_number == nbb_cell_id) {\n",
       "                        if (nbb_cells[i].get_text() == nbb_unformatted_code) {\n",
       "                             nbb_cells[i].set_text(nbb_formatted_code);\n",
       "                        }\n",
       "                        break;\n",
       "                    }\n",
       "                }\n",
       "            }, 500);\n",
       "            "
      ],
      "text/plain": [
       "<IPython.core.display.Javascript object>"
      ]
     },
     "metadata": {},
     "output_type": "display_data"
    }
   ],
   "source": [
    "%load_ext nb_black"
   ]
  },
  {
   "cell_type": "code",
   "execution_count": 2,
   "id": "6697b672",
   "metadata": {},
   "outputs": [
    {
     "data": {
      "application/javascript": [
       "\n",
       "            setTimeout(function() {\n",
       "                var nbb_cell_id = 2;\n",
       "                var nbb_unformatted_code = \"import httpx\\n\\nfrom time import sleep\\n\\nfrom getpass import getpass\\n\\nfrom app.models import DeploymentContext\";\n",
       "                var nbb_formatted_code = \"import httpx\\n\\nfrom time import sleep\\n\\nfrom getpass import getpass\\n\\nfrom app.models import DeploymentContext\";\n",
       "                var nbb_cells = Jupyter.notebook.get_cells();\n",
       "                for (var i = 0; i < nbb_cells.length; ++i) {\n",
       "                    if (nbb_cells[i].input_prompt_number == nbb_cell_id) {\n",
       "                        if (nbb_cells[i].get_text() == nbb_unformatted_code) {\n",
       "                             nbb_cells[i].set_text(nbb_formatted_code);\n",
       "                        }\n",
       "                        break;\n",
       "                    }\n",
       "                }\n",
       "            }, 500);\n",
       "            "
      ],
      "text/plain": [
       "<IPython.core.display.Javascript object>"
      ]
     },
     "metadata": {},
     "output_type": "display_data"
    }
   ],
   "source": [
    "import httpx\n",
    "\n",
    "from time import sleep\n",
    "\n",
    "from getpass import getpass\n",
    "\n",
    "from app.models import DeploymentContext"
   ]
  },
  {
   "cell_type": "code",
   "execution_count": 4,
   "id": "9ef6ee79-7652-4a63-9e19-2056cf4f8c84",
   "metadata": {},
   "outputs": [
    {
     "name": "stdin",
     "output_type": "stream",
     "text": [
      " ········\n"
     ]
    },
    {
     "data": {
      "application/javascript": [
       "\n",
       "            setTimeout(function() {\n",
       "                var nbb_cell_id = 4;\n",
       "                var nbb_unformatted_code = \"client = httpx.Client(base_url=\\\"http://localhost:8000\\\")\\nr = client.post(\\\"/token\\\", data={\\\"username\\\": \\\"jochen\\\", \\\"password\\\": getpass()})\";\n",
       "                var nbb_formatted_code = \"client = httpx.Client(base_url=\\\"http://localhost:8000\\\")\\nr = client.post(\\\"/token\\\", data={\\\"username\\\": \\\"jochen\\\", \\\"password\\\": getpass()})\";\n",
       "                var nbb_cells = Jupyter.notebook.get_cells();\n",
       "                for (var i = 0; i < nbb_cells.length; ++i) {\n",
       "                    if (nbb_cells[i].input_prompt_number == nbb_cell_id) {\n",
       "                        if (nbb_cells[i].get_text() == nbb_unformatted_code) {\n",
       "                             nbb_cells[i].set_text(nbb_formatted_code);\n",
       "                        }\n",
       "                        break;\n",
       "                    }\n",
       "                }\n",
       "            }, 500);\n",
       "            "
      ],
      "text/plain": [
       "<IPython.core.display.Javascript object>"
      ]
     },
     "metadata": {},
     "output_type": "display_data"
    }
   ],
   "source": [
    "client = httpx.Client(base_url=\"http://localhost:8000\")\n",
    "r = client.post(\"/token\", data={\"username\": \"jochen\", \"password\": getpass()})"
   ]
  },
  {
   "cell_type": "code",
   "execution_count": 5,
   "id": "96312462-dc21-45b7-9444-94d9d45adf97",
   "metadata": {},
   "outputs": [
    {
     "data": {
      "application/javascript": [
       "\n",
       "            setTimeout(function() {\n",
       "                var nbb_cell_id = 5;\n",
       "                var nbb_unformatted_code = \"access_token = r.json()[\\\"access_token\\\"]\\nheaders={\\\"authorization\\\": f\\\"Bearer {access_token}\\\"}\";\n",
       "                var nbb_formatted_code = \"access_token = r.json()[\\\"access_token\\\"]\\nheaders = {\\\"authorization\\\": f\\\"Bearer {access_token}\\\"}\";\n",
       "                var nbb_cells = Jupyter.notebook.get_cells();\n",
       "                for (var i = 0; i < nbb_cells.length; ++i) {\n",
       "                    if (nbb_cells[i].input_prompt_number == nbb_cell_id) {\n",
       "                        if (nbb_cells[i].get_text() == nbb_unformatted_code) {\n",
       "                             nbb_cells[i].set_text(nbb_formatted_code);\n",
       "                        }\n",
       "                        break;\n",
       "                    }\n",
       "                }\n",
       "            }, 500);\n",
       "            "
      ],
      "text/plain": [
       "<IPython.core.display.Javascript object>"
      ]
     },
     "metadata": {},
     "output_type": "display_data"
    }
   ],
   "source": [
    "access_token = r.json()[\"access_token\"]\n",
    "headers={\"authorization\": f\"Bearer {access_token}\"}"
   ]
  },
  {
   "cell_type": "code",
   "execution_count": 6,
   "id": "56edf82f-f03f-4689-99b0-88c658a916cb",
   "metadata": {},
   "outputs": [
    {
     "data": {
      "application/javascript": [
       "\n",
       "            setTimeout(function() {\n",
       "                var nbb_cell_id = 6;\n",
       "                var nbb_unformatted_code = \"data = {\\\"service\\\": \\\"dummy\\\", \\\"origin\\\": \\\"notebook\\\"}\\nr = client.post(\\\"/service-token\\\", json=data, headers=headers)\";\n",
       "                var nbb_formatted_code = \"data = {\\\"service\\\": \\\"dummy\\\", \\\"origin\\\": \\\"notebook\\\"}\\nr = client.post(\\\"/service-token\\\", json=data, headers=headers)\";\n",
       "                var nbb_cells = Jupyter.notebook.get_cells();\n",
       "                for (var i = 0; i < nbb_cells.length; ++i) {\n",
       "                    if (nbb_cells[i].input_prompt_number == nbb_cell_id) {\n",
       "                        if (nbb_cells[i].get_text() == nbb_unformatted_code) {\n",
       "                             nbb_cells[i].set_text(nbb_formatted_code);\n",
       "                        }\n",
       "                        break;\n",
       "                    }\n",
       "                }\n",
       "            }, 500);\n",
       "            "
      ],
      "text/plain": [
       "<IPython.core.display.Javascript object>"
      ]
     },
     "metadata": {},
     "output_type": "display_data"
    }
   ],
   "source": [
    "data = {\"service\": \"dummy\", \"origin\": \"notebook\"}\n",
    "r = client.post(\"/service-token\", json=data, headers=headers)"
   ]
  },
  {
   "cell_type": "code",
   "execution_count": 7,
   "id": "63c519fc-d619-4e1e-94dc-ad2da117f723",
   "metadata": {},
   "outputs": [
    {
     "data": {
      "application/javascript": [
       "\n",
       "            setTimeout(function() {\n",
       "                var nbb_cell_id = 7;\n",
       "                var nbb_unformatted_code = \"service_token = r.json()[\\\"service_token\\\"]\\nheaders={\\\"authorization\\\": f\\\"Bearer {service_token}\\\"}\\nclient.headers = headers\";\n",
       "                var nbb_formatted_code = \"service_token = r.json()[\\\"service_token\\\"]\\nheaders = {\\\"authorization\\\": f\\\"Bearer {service_token}\\\"}\\nclient.headers = headers\";\n",
       "                var nbb_cells = Jupyter.notebook.get_cells();\n",
       "                for (var i = 0; i < nbb_cells.length; ++i) {\n",
       "                    if (nbb_cells[i].input_prompt_number == nbb_cell_id) {\n",
       "                        if (nbb_cells[i].get_text() == nbb_unformatted_code) {\n",
       "                             nbb_cells[i].set_text(nbb_formatted_code);\n",
       "                        }\n",
       "                        break;\n",
       "                    }\n",
       "                }\n",
       "            }, 500);\n",
       "            "
      ],
      "text/plain": [
       "<IPython.core.display.Javascript object>"
      ]
     },
     "metadata": {},
     "output_type": "display_data"
    }
   ],
   "source": [
    "service_token = r.json()[\"service_token\"]\n",
    "headers={\"authorization\": f\"Bearer {service_token}\"}\n",
    "client.headers = headers"
   ]
  },
  {
   "cell_type": "code",
   "execution_count": 14,
   "id": "2341e770-943e-4dbc-acff-559ab4364d87",
   "metadata": {},
   "outputs": [
    {
     "data": {
      "application/javascript": [
       "\n",
       "            setTimeout(function() {\n",
       "                var nbb_cell_id = 14;\n",
       "                var nbb_unformatted_code = \"def show_details(details_url):\\n    r = client.get(details_url, headers=headers)\\n    rdata = r.json()\\n    len_steps = len([s for s in rdata[\\\"steps\\\"] if s[\\\"state\\\"] == \\\"success\\\"])\\n    started = rdata[\\\"started\\\"]\\n    finished = rdata[\\\"finished\\\"]\\n    print(f\\\"{len_steps} {started} {finished}\\\")\";\n",
       "                var nbb_formatted_code = \"def show_details(details_url):\\n    r = client.get(details_url, headers=headers)\\n    rdata = r.json()\\n    len_steps = len([s for s in rdata[\\\"steps\\\"] if s[\\\"state\\\"] == \\\"success\\\"])\\n    started = rdata[\\\"started\\\"]\\n    finished = rdata[\\\"finished\\\"]\\n    print(f\\\"{len_steps} {started} {finished}\\\")\";\n",
       "                var nbb_cells = Jupyter.notebook.get_cells();\n",
       "                for (var i = 0; i < nbb_cells.length; ++i) {\n",
       "                    if (nbb_cells[i].input_prompt_number == nbb_cell_id) {\n",
       "                        if (nbb_cells[i].get_text() == nbb_unformatted_code) {\n",
       "                             nbb_cells[i].set_text(nbb_formatted_code);\n",
       "                        }\n",
       "                        break;\n",
       "                    }\n",
       "                }\n",
       "            }, 500);\n",
       "            "
      ],
      "text/plain": [
       "<IPython.core.display.Javascript object>"
      ]
     },
     "metadata": {},
     "output_type": "display_data"
    }
   ],
   "source": [
    "def show_details(details_url):\n",
    "    r = client.get(details_url, headers=headers)\n",
    "    rdata = r.json()\n",
    "    len_steps = len([s for s in rdata[\"steps\"] if s[\"state\"] == \"success\"])\n",
    "    started = rdata[\"started\"]\n",
    "    finished = rdata[\"finished\"]\n",
    "    print(f\"{len_steps} {started} {finished}\")"
   ]
  },
  {
   "cell_type": "code",
   "execution_count": 23,
   "id": "c32e602c-822c-43d7-b10e-385ec31d3e3b",
   "metadata": {},
   "outputs": [
    {
     "data": {
      "application/javascript": [
       "\n",
       "            setTimeout(function() {\n",
       "                var nbb_cell_id = 23;\n",
       "                var nbb_unformatted_code = \"context = DeploymentContext(env={\\\"foo\\\": \\\"bar\\\"})\\nr = client.post(\\\"/deployments/\\\", json=context.dict(), headers=headers)\\ndetails_url = r.json()[\\\"details\\\"]\";\n",
       "                var nbb_formatted_code = \"context = DeploymentContext(env={\\\"foo\\\": \\\"bar\\\"})\\nr = client.post(\\\"/deployments/\\\", json=context.dict(), headers=headers)\\ndetails_url = r.json()[\\\"details\\\"]\";\n",
       "                var nbb_cells = Jupyter.notebook.get_cells();\n",
       "                for (var i = 0; i < nbb_cells.length; ++i) {\n",
       "                    if (nbb_cells[i].input_prompt_number == nbb_cell_id) {\n",
       "                        if (nbb_cells[i].get_text() == nbb_unformatted_code) {\n",
       "                             nbb_cells[i].set_text(nbb_formatted_code);\n",
       "                        }\n",
       "                        break;\n",
       "                    }\n",
       "                }\n",
       "            }, 500);\n",
       "            "
      ],
      "text/plain": [
       "<IPython.core.display.Javascript object>"
      ]
     },
     "metadata": {},
     "output_type": "display_data"
    }
   ],
   "source": [
    "context = DeploymentContext(env={\"foo\": \"bar\"})\n",
    "r = client.post(\"/deployments/\", json=context.dict(), headers=headers)\n",
    "details_url = r.json()[\"details\"]"
   ]
  },
  {
   "cell_type": "code",
   "execution_count": 18,
   "id": "02648e98-6a9a-40d6-b8be-a882b24f334b",
   "metadata": {},
   "outputs": [
    {
     "name": "stdout",
     "output_type": "stream",
     "text": [
      "0 2022-01-17T06:32:35.636199 None\n",
      "2 2022-01-17T06:32:35.636199 None\n",
      "4 2022-01-17T06:32:35.636199 None\n",
      "6 2022-01-17T06:32:35.636199 None\n",
      "8 2022-01-17T06:32:35.636199 None\n",
      "10 2022-01-17T06:32:35.636199 None\n",
      "10 2022-01-17T06:32:35.636199 2022-01-17T06:32:41.421359\n",
      "10 2022-01-17T06:32:35.636199 2022-01-17T06:32:41.421359\n",
      "10 2022-01-17T06:32:35.636199 2022-01-17T06:32:41.421359\n",
      "10 2022-01-17T06:32:35.636199 2022-01-17T06:32:41.421359\n"
     ]
    },
    {
     "data": {
      "application/javascript": [
       "\n",
       "            setTimeout(function() {\n",
       "                var nbb_cell_id = 18;\n",
       "                var nbb_unformatted_code = \"for i in range(10):\\n    show_details(details_url)\\n    sleep(1)\";\n",
       "                var nbb_formatted_code = \"for i in range(10):\\n    show_details(details_url)\\n    sleep(1)\";\n",
       "                var nbb_cells = Jupyter.notebook.get_cells();\n",
       "                for (var i = 0; i < nbb_cells.length; ++i) {\n",
       "                    if (nbb_cells[i].input_prompt_number == nbb_cell_id) {\n",
       "                        if (nbb_cells[i].get_text() == nbb_unformatted_code) {\n",
       "                             nbb_cells[i].set_text(nbb_formatted_code);\n",
       "                        }\n",
       "                        break;\n",
       "                    }\n",
       "                }\n",
       "            }, 500);\n",
       "            "
      ],
      "text/plain": [
       "<IPython.core.display.Javascript object>"
      ]
     },
     "metadata": {},
     "output_type": "display_data"
    }
   ],
   "source": [
    "for i in range(10):\n",
    "    show_details(details_url)\n",
    "    sleep(1)"
   ]
  },
  {
   "cell_type": "code",
   "execution_count": null,
   "id": "53921004-1d84-437c-b7c5-41c9e53fca93",
   "metadata": {},
   "outputs": [],
   "source": []
  }
 ],
 "metadata": {
  "kernelspec": {
   "display_name": "Python 3 (ipykernel)",
   "language": "python",
   "name": "python3"
  },
  "language_info": {
   "codemirror_mode": {
    "name": "ipython",
    "version": 3
   },
   "file_extension": ".py",
   "mimetype": "text/x-python",
   "name": "python",
   "nbconvert_exporter": "python",
   "pygments_lexer": "ipython3",
   "version": "3.10.1"
  }
 },
 "nbformat": 4,
 "nbformat_minor": 5
}
