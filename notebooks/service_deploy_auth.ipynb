{
 "cells": [
  {
   "cell_type": "code",
   "execution_count": 2,
   "id": "4bc0a9f7",
   "metadata": {},
   "outputs": [
    {
     "data": {
      "application/javascript": [
       "\n",
       "            setTimeout(function() {\n",
       "                var nbb_cell_id = 2;\n",
       "                var nbb_unformatted_code = \"%load_ext nb_black\";\n",
       "                var nbb_formatted_code = \"%load_ext nb_black\";\n",
       "                var nbb_cells = Jupyter.notebook.get_cells();\n",
       "                for (var i = 0; i < nbb_cells.length; ++i) {\n",
       "                    if (nbb_cells[i].input_prompt_number == nbb_cell_id) {\n",
       "                        if (nbb_cells[i].get_text() == nbb_unformatted_code) {\n",
       "                             nbb_cells[i].set_text(nbb_formatted_code);\n",
       "                        }\n",
       "                        break;\n",
       "                    }\n",
       "                }\n",
       "            }, 500);\n",
       "            "
      ],
      "text/plain": [
       "<IPython.core.display.Javascript object>"
      ]
     },
     "metadata": {},
     "output_type": "display_data"
    }
   ],
   "source": [
    "%load_ext nb_black"
   ]
  },
  {
   "cell_type": "code",
   "execution_count": 3,
   "id": "dfc5902e",
   "metadata": {},
   "outputs": [
    {
     "data": {
      "application/javascript": [
       "\n",
       "            setTimeout(function() {\n",
       "                var nbb_cell_id = 3;\n",
       "                var nbb_unformatted_code = \"import json\\n\\nfrom sqlmodel import Session, select\\n\\nfrom app.models import Service\\nfrom app import database\";\n",
       "                var nbb_formatted_code = \"import json\\n\\nfrom sqlmodel import Session, select\\n\\nfrom app.models import Service\\nfrom app import database\";\n",
       "                var nbb_cells = Jupyter.notebook.get_cells();\n",
       "                for (var i = 0; i < nbb_cells.length; ++i) {\n",
       "                    if (nbb_cells[i].input_prompt_number == nbb_cell_id) {\n",
       "                        if (nbb_cells[i].get_text() == nbb_unformatted_code) {\n",
       "                             nbb_cells[i].set_text(nbb_formatted_code);\n",
       "                        }\n",
       "                        break;\n",
       "                    }\n",
       "                }\n",
       "            }, 500);\n",
       "            "
      ],
      "text/plain": [
       "<IPython.core.display.Javascript object>"
      ]
     },
     "metadata": {},
     "output_type": "display_data"
    }
   ],
   "source": [
    "import json\n",
    "\n",
    "from sqlmodel import Session, select\n",
    "\n",
    "from app.models import Service\n",
    "from app import database"
   ]
  },
  {
   "cell_type": "code",
   "execution_count": 5,
   "id": "b2ff42dc",
   "metadata": {},
   "outputs": [
    {
     "data": {
      "application/javascript": [
       "\n",
       "            setTimeout(function() {\n",
       "                var nbb_cell_id = 5;\n",
       "                var nbb_unformatted_code = \"service_from_request = Service(name=\\\"fastdeploy\\\")\";\n",
       "                var nbb_formatted_code = \"service_from_request = Service(name=\\\"fastdeploy\\\")\";\n",
       "                var nbb_cells = Jupyter.notebook.get_cells();\n",
       "                for (var i = 0; i < nbb_cells.length; ++i) {\n",
       "                    if (nbb_cells[i].input_prompt_number == nbb_cell_id) {\n",
       "                        if (nbb_cells[i].get_text() == nbb_unformatted_code) {\n",
       "                             nbb_cells[i].set_text(nbb_formatted_code);\n",
       "                        }\n",
       "                        break;\n",
       "                    }\n",
       "                }\n",
       "            }, 500);\n",
       "            "
      ],
      "text/plain": [
       "<IPython.core.display.Javascript object>"
      ]
     },
     "metadata": {},
     "output_type": "display_data"
    }
   ],
   "source": [
    "service_from_request = Service(name=\"fastdeploy\")"
   ]
  },
  {
   "cell_type": "code",
   "execution_count": 9,
   "id": "6597848a",
   "metadata": {},
   "outputs": [
    {
     "data": {
      "application/javascript": [
       "\n",
       "            setTimeout(function() {\n",
       "                var nbb_cell_id = 9;\n",
       "                var nbb_unformatted_code = \"with Session(database.engine) as session:\\n    service = session.exec(\\n        select(Service).where(Service.name == service_from_request.name)\\n    ).first()\";\n",
       "                var nbb_formatted_code = \"with Session(database.engine) as session:\\n    service = session.exec(\\n        select(Service).where(Service.name == service_from_request.name)\\n    ).first()\";\n",
       "                var nbb_cells = Jupyter.notebook.get_cells();\n",
       "                for (var i = 0; i < nbb_cells.length; ++i) {\n",
       "                    if (nbb_cells[i].input_prompt_number == nbb_cell_id) {\n",
       "                        if (nbb_cells[i].get_text() == nbb_unformatted_code) {\n",
       "                             nbb_cells[i].set_text(nbb_formatted_code);\n",
       "                        }\n",
       "                        break;\n",
       "                    }\n",
       "                }\n",
       "            }, 500);\n",
       "            "
      ],
      "text/plain": [
       "<IPython.core.display.Javascript object>"
      ]
     },
     "metadata": {},
     "output_type": "display_data"
    }
   ],
   "source": [
    "with Session(database.engine) as session:\n",
    "    service = session.exec(\n",
    "        select(Service).where(Service.name == service_from_request.name)\n",
    "    ).first()"
   ]
  },
  {
   "cell_type": "code",
   "execution_count": 10,
   "id": "314dba8e",
   "metadata": {},
   "outputs": [
    {
     "name": "stdout",
     "output_type": "stream",
     "text": [
      "id=1 name='fastdeploy'\n"
     ]
    },
    {
     "data": {
      "application/javascript": [
       "\n",
       "            setTimeout(function() {\n",
       "                var nbb_cell_id = 10;\n",
       "                var nbb_unformatted_code = \"print(service)\";\n",
       "                var nbb_formatted_code = \"print(service)\";\n",
       "                var nbb_cells = Jupyter.notebook.get_cells();\n",
       "                for (var i = 0; i < nbb_cells.length; ++i) {\n",
       "                    if (nbb_cells[i].input_prompt_number == nbb_cell_id) {\n",
       "                        if (nbb_cells[i].get_text() == nbb_unformatted_code) {\n",
       "                             nbb_cells[i].set_text(nbb_formatted_code);\n",
       "                        }\n",
       "                        break;\n",
       "                    }\n",
       "                }\n",
       "            }, 500);\n",
       "            "
      ],
      "text/plain": [
       "<IPython.core.display.Javascript object>"
      ]
     },
     "metadata": {},
     "output_type": "display_data"
    }
   ],
   "source": [
    "print(service)"
   ]
  },
  {
   "cell_type": "code",
   "execution_count": 4,
   "id": "5e0328f6",
   "metadata": {},
   "outputs": [
    {
     "data": {
      "text/plain": [
       "{'service': 'fastdeploy', 'origin': 'GitHub'}"
      ]
     },
     "execution_count": 4,
     "metadata": {},
     "output_type": "execute_result"
    },
    {
     "data": {
      "application/javascript": [
       "\n",
       "            setTimeout(function() {\n",
       "                var nbb_cell_id = 4;\n",
       "                var nbb_unformatted_code = \"json.loads('{\\\"service\\\":\\\"fastdeploy\\\",\\\"origin\\\":\\\"GitHub\\\"}')\";\n",
       "                var nbb_formatted_code = \"json.loads('{\\\"service\\\":\\\"fastdeploy\\\",\\\"origin\\\":\\\"GitHub\\\"}')\";\n",
       "                var nbb_cells = Jupyter.notebook.get_cells();\n",
       "                for (var i = 0; i < nbb_cells.length; ++i) {\n",
       "                    if (nbb_cells[i].input_prompt_number == nbb_cell_id) {\n",
       "                        if (nbb_cells[i].get_text() == nbb_unformatted_code) {\n",
       "                             nbb_cells[i].set_text(nbb_formatted_code);\n",
       "                        }\n",
       "                        break;\n",
       "                    }\n",
       "                }\n",
       "            }, 500);\n",
       "            "
      ],
      "text/plain": [
       "<IPython.core.display.Javascript object>"
      ]
     },
     "metadata": {},
     "output_type": "display_data"
    }
   ],
   "source": [
    "json.loads('{\"service\":\"fastdeploy\",\"origin\":\"GitHub\"}')"
   ]
  },
  {
   "cell_type": "code",
   "execution_count": 8,
   "id": "2e0af98f",
   "metadata": {},
   "outputs": [
    {
     "data": {
      "application/javascript": [
       "\n",
       "            setTimeout(function() {\n",
       "                var nbb_cell_id = 8;\n",
       "                var nbb_unformatted_code = \"service = Service(name=\\\"fastdeploy\\\")\\nwith Session(database.engine) as session:\\n    session.add(service)\\n    session.commit()\";\n",
       "                var nbb_formatted_code = \"service = Service(name=\\\"fastdeploy\\\")\\nwith Session(database.engine) as session:\\n    session.add(service)\\n    session.commit()\";\n",
       "                var nbb_cells = Jupyter.notebook.get_cells();\n",
       "                for (var i = 0; i < nbb_cells.length; ++i) {\n",
       "                    if (nbb_cells[i].input_prompt_number == nbb_cell_id) {\n",
       "                        if (nbb_cells[i].get_text() == nbb_unformatted_code) {\n",
       "                             nbb_cells[i].set_text(nbb_formatted_code);\n",
       "                        }\n",
       "                        break;\n",
       "                    }\n",
       "                }\n",
       "            }, 500);\n",
       "            "
      ],
      "text/plain": [
       "<IPython.core.display.Javascript object>"
      ]
     },
     "metadata": {},
     "output_type": "display_data"
    }
   ],
   "source": [
    "service = Service(name=\"fastdeploy\")\n",
    "with Session(database.engine) as session:\n",
    "    session.add(service)\n",
    "    session.commit()"
   ]
  },
  {
   "cell_type": "code",
   "execution_count": 11,
   "id": "fdcfa633",
   "metadata": {},
   "outputs": [
    {
     "data": {
      "application/javascript": [
       "\n",
       "            setTimeout(function() {\n",
       "                var nbb_cell_id = 11;\n",
       "                var nbb_unformatted_code = \"foo = \\\"\\\"\\\"\\n{\\\"position\\\": 12, \\\"start\\\": \\\"2021-10-30T06:40:13.962161\\\", \\\"end\\\": \\\"2021-10-30T06:40:14.643597\\\", \\\"name\\\": \\\"Create a symbolic link for traefik loadbalancer\\\", \\\"changed\\\": false, \\\"state\\\": \\\"link\\\", \\\"misc\\\": {\\\"dest\\\": \\\"/etc/traefik/dynamic/deploy.traefik.yml\\\", \\\"src\\\": \\\"/home/deploy/site/ansible/deploy.traefik.yml\\\", \\\"changed\\\": false, \\\"diff\\\": {\\\"before\\\": {\\\"path\\\": \\\"/etc/traefik/dynamic/deploy.traefik.yml\\\"}, \\\"after\\\": {\\\"path\\\": \\\"/etc/traefik/dynamic/deploy.traefik.yml\\\"}}, \\\"uid\\\": 0, \\\"gid\\\": 0, \\\"owner\\\": \\\"root\\\", \\\"group\\\": \\\"root\\\", \\\"mode\\\": \\\"0777\\\", \\\"state\\\": \\\"link\\\", \\\"size\\\": 44, \\\"invocation\\\": {\\\"module_args\\\": {\\\"src\\\": \\\"/home/deploy/site/ansible/deploy.traefik.yml\\\", \\\"dest\\\": \\\"/etc/traefik/dynamic/deploy.traefik.yml\\\", \\\"state\\\": \\\"link\\\", \\\"path\\\": \\\"/etc/traefik/dynamic/deploy.traefik.yml\\\", \\\"recurse\\\": false, \\\"force\\\": false, \\\"follow\\\": true, \\\"modification_time_format\\\": \\\"%Y%m%d%H%M.%S\\\", \\\"access_time_format\\\": \\\"%Y%m%d%H%M.%S\\\", \\\"unsafe_writes\\\": false, \\\"_original_basename\\\": null, \\\"_diff_peek\\\": null, \\\"modification_time\\\": null, \\\"access_time\\\": null, \\\"mode\\\": null, \\\"owner\\\": null, \\\"group\\\": null, \\\"seuser\\\": null, \\\"serole\\\": null, \\\"selevel\\\": null, \\\"setype\\\": null, \\\"attributes\\\": null}}, \\\"_ansible_no_log\\\": false}}\\n\\\"\\\"\\\"\";\n",
       "                var nbb_formatted_code = \"foo = \\\"\\\"\\\"\\n{\\\"position\\\": 12, \\\"start\\\": \\\"2021-10-30T06:40:13.962161\\\", \\\"end\\\": \\\"2021-10-30T06:40:14.643597\\\", \\\"name\\\": \\\"Create a symbolic link for traefik loadbalancer\\\", \\\"changed\\\": false, \\\"state\\\": \\\"link\\\", \\\"misc\\\": {\\\"dest\\\": \\\"/etc/traefik/dynamic/deploy.traefik.yml\\\", \\\"src\\\": \\\"/home/deploy/site/ansible/deploy.traefik.yml\\\", \\\"changed\\\": false, \\\"diff\\\": {\\\"before\\\": {\\\"path\\\": \\\"/etc/traefik/dynamic/deploy.traefik.yml\\\"}, \\\"after\\\": {\\\"path\\\": \\\"/etc/traefik/dynamic/deploy.traefik.yml\\\"}}, \\\"uid\\\": 0, \\\"gid\\\": 0, \\\"owner\\\": \\\"root\\\", \\\"group\\\": \\\"root\\\", \\\"mode\\\": \\\"0777\\\", \\\"state\\\": \\\"link\\\", \\\"size\\\": 44, \\\"invocation\\\": {\\\"module_args\\\": {\\\"src\\\": \\\"/home/deploy/site/ansible/deploy.traefik.yml\\\", \\\"dest\\\": \\\"/etc/traefik/dynamic/deploy.traefik.yml\\\", \\\"state\\\": \\\"link\\\", \\\"path\\\": \\\"/etc/traefik/dynamic/deploy.traefik.yml\\\", \\\"recurse\\\": false, \\\"force\\\": false, \\\"follow\\\": true, \\\"modification_time_format\\\": \\\"%Y%m%d%H%M.%S\\\", \\\"access_time_format\\\": \\\"%Y%m%d%H%M.%S\\\", \\\"unsafe_writes\\\": false, \\\"_original_basename\\\": null, \\\"_diff_peek\\\": null, \\\"modification_time\\\": null, \\\"access_time\\\": null, \\\"mode\\\": null, \\\"owner\\\": null, \\\"group\\\": null, \\\"seuser\\\": null, \\\"serole\\\": null, \\\"selevel\\\": null, \\\"setype\\\": null, \\\"attributes\\\": null}}, \\\"_ansible_no_log\\\": false}}\\n\\\"\\\"\\\"\";\n",
       "                var nbb_cells = Jupyter.notebook.get_cells();\n",
       "                for (var i = 0; i < nbb_cells.length; ++i) {\n",
       "                    if (nbb_cells[i].input_prompt_number == nbb_cell_id) {\n",
       "                        if (nbb_cells[i].get_text() == nbb_unformatted_code) {\n",
       "                             nbb_cells[i].set_text(nbb_formatted_code);\n",
       "                        }\n",
       "                        break;\n",
       "                    }\n",
       "                }\n",
       "            }, 500);\n",
       "            "
      ],
      "text/plain": [
       "<IPython.core.display.Javascript object>"
      ]
     },
     "metadata": {},
     "output_type": "display_data"
    }
   ],
   "source": [
    "foo = \"\"\"\n",
    "{\"position\": 12, \"start\": \"2021-10-30T06:40:13.962161\", \"end\": \"2021-10-30T06:40:14.643597\", \"name\": \"Create a symbolic link for traefik loadbalancer\", \"changed\": false, \"state\": \"link\", \"misc\": {\"dest\": \"/etc/traefik/dynamic/deploy.traefik.yml\", \"src\": \"/home/deploy/site/ansible/deploy.traefik.yml\", \"changed\": false, \"diff\": {\"before\": {\"path\": \"/etc/traefik/dynamic/deploy.traefik.yml\"}, \"after\": {\"path\": \"/etc/traefik/dynamic/deploy.traefik.yml\"}}, \"uid\": 0, \"gid\": 0, \"owner\": \"root\", \"group\": \"root\", \"mode\": \"0777\", \"state\": \"link\", \"size\": 44, \"invocation\": {\"module_args\": {\"src\": \"/home/deploy/site/ansible/deploy.traefik.yml\", \"dest\": \"/etc/traefik/dynamic/deploy.traefik.yml\", \"state\": \"link\", \"path\": \"/etc/traefik/dynamic/deploy.traefik.yml\", \"recurse\": false, \"force\": false, \"follow\": true, \"modification_time_format\": \"%Y%m%d%H%M.%S\", \"access_time_format\": \"%Y%m%d%H%M.%S\", \"unsafe_writes\": false, \"_original_basename\": null, \"_diff_peek\": null, \"modification_time\": null, \"access_time\": null, \"mode\": null, \"owner\": null, \"group\": null, \"seuser\": null, \"serole\": null, \"selevel\": null, \"setype\": null, \"attributes\": null}}, \"_ansible_no_log\": false}}\n",
    "\"\"\""
   ]
  },
  {
   "cell_type": "code",
   "execution_count": 13,
   "id": "ff289299",
   "metadata": {},
   "outputs": [
    {
     "data": {
      "application/javascript": [
       "\n",
       "            setTimeout(function() {\n",
       "                var nbb_cell_id = 13;\n",
       "                var nbb_unformatted_code = \"step = json.loads(foo)\";\n",
       "                var nbb_formatted_code = \"step = json.loads(foo)\";\n",
       "                var nbb_cells = Jupyter.notebook.get_cells();\n",
       "                for (var i = 0; i < nbb_cells.length; ++i) {\n",
       "                    if (nbb_cells[i].input_prompt_number == nbb_cell_id) {\n",
       "                        if (nbb_cells[i].get_text() == nbb_unformatted_code) {\n",
       "                             nbb_cells[i].set_text(nbb_formatted_code);\n",
       "                        }\n",
       "                        break;\n",
       "                    }\n",
       "                }\n",
       "            }, 500);\n",
       "            "
      ],
      "text/plain": [
       "<IPython.core.display.Javascript object>"
      ]
     },
     "metadata": {},
     "output_type": "display_data"
    }
   ],
   "source": [
    "step = json.loads(foo)"
   ]
  },
  {
   "cell_type": "code",
   "execution_count": null,
   "id": "3a8293ec",
   "metadata": {},
   "outputs": [],
   "source": []
  }
 ],
 "metadata": {
  "kernelspec": {
   "display_name": "Python 3 (ipykernel)",
   "language": "python",
   "name": "python3"
  },
  "language_info": {
   "codemirror_mode": {
    "name": "ipython",
    "version": 3
   },
   "file_extension": ".py",
   "mimetype": "text/x-python",
   "name": "python",
   "nbconvert_exporter": "python",
   "pygments_lexer": "ipython3",
   "version": "3.10.0"
  }
 },
 "nbformat": 4,
 "nbformat_minor": 5
}
