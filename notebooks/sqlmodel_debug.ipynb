{
 "cells": [
  {
   "cell_type": "code",
   "execution_count": 12,
   "id": "c8f12415",
   "metadata": {},
   "outputs": [],
   "source": [
    "from sqlmodel import SQLModel, create_engine, Session, select\n",
    "\n",
    "from app.auth import get_password_hash\n",
    "from app.models import User\n",
    "from app.config import settings"
   ]
  },
  {
   "cell_type": "code",
   "execution_count": 9,
   "id": "2170f35e",
   "metadata": {},
   "outputs": [],
   "source": [
    "user = User(name=\"user\", password=get_password_hash(\"password\"), is_active=True)"
   ]
  },
  {
   "cell_type": "code",
   "execution_count": 10,
   "id": "b5825397",
   "metadata": {},
   "outputs": [
    {
     "name": "stdout",
     "output_type": "stream",
     "text": [
      "2021-10-16 09:18:40,271 INFO sqlalchemy.engine.Engine BEGIN (implicit)\n",
      "2021-10-16 09:18:40,273 INFO sqlalchemy.engine.Engine INSERT INTO user (name, password, is_active) VALUES (?, ?, ?)\n",
      "2021-10-16 09:18:40,273 INFO sqlalchemy.engine.Engine [generated in 0.00034s] ('user', '$2b$12$xuQ7oDmwMYuoxPckXO2q3ORnpWqgTqX5yI8qssLPCe8jG9ONCH0du', 1)\n",
      "2021-10-16 09:18:40,275 INFO sqlalchemy.engine.Engine COMMIT\n",
      "\n"
     ]
    }
   ],
   "source": [
    "with Session(settings.db_engine) as session:\n",
    "    session.add(user)\n",
    "    session.commit()\n",
    "    print(user)"
   ]
  },
  {
   "cell_type": "code",
   "execution_count": 11,
   "id": "6e4a2d87",
   "metadata": {},
   "outputs": [
    {
     "data": {
      "text/plain": [
       "User()"
      ]
     },
     "execution_count": 11,
     "metadata": {},
     "output_type": "execute_result"
    }
   ],
   "source": [
    "user"
   ]
  },
  {
   "cell_type": "code",
   "execution_count": 20,
   "id": "bb8fb6d0",
   "metadata": {},
   "outputs": [
    {
     "name": "stdout",
     "output_type": "stream",
     "text": [
      "2021-10-16 09:22:10,233 INFO sqlalchemy.engine.Engine BEGIN (implicit)\n",
      "2021-10-16 09:22:10,235 INFO sqlalchemy.engine.Engine SELECT user.id, user.name, user.password, user.is_active \n",
      "FROM user \n",
      "WHERE user.name = ?\n",
      "2021-10-16 09:22:10,236 INFO sqlalchemy.engine.Engine [no key 0.00102s] ('user',)\n",
      "2021-10-16 09:22:10,238 INFO sqlalchemy.engine.Engine ROLLBACK\n"
     ]
    }
   ],
   "source": [
    "with Session(settings.db_engine) as session:\n",
    "    statement = select(User).where(User.name == \"user\")\n",
    "    results = session.exec(statement)\n",
    "    user = results.first()"
   ]
  },
  {
   "cell_type": "code",
   "execution_count": 21,
   "id": "d1d3294f",
   "metadata": {},
   "outputs": [
    {
     "data": {
      "text/plain": [
       "User(password='$2b$12$xuQ7oDmwMYuoxPckXO2q3ORnpWqgTqX5yI8qssLPCe8jG9ONCH0du', id=1, is_active=True, name='user')"
      ]
     },
     "execution_count": 21,
     "metadata": {},
     "output_type": "execute_result"
    }
   ],
   "source": [
    "user"
   ]
  },
  {
   "cell_type": "code",
   "execution_count": 22,
   "id": "df75e1dc",
   "metadata": {},
   "outputs": [
    {
     "data": {
      "text/plain": [
       "'user'"
      ]
     },
     "execution_count": 22,
     "metadata": {},
     "output_type": "execute_result"
    }
   ],
   "source": [
    "user.name"
   ]
  },
  {
   "cell_type": "code",
   "execution_count": 23,
   "id": "a59f88a8",
   "metadata": {},
   "outputs": [],
   "source": [
    "user = User(name=\"user\", password=get_password_hash(\"password\"), is_active=True)"
   ]
  },
  {
   "cell_type": "code",
   "execution_count": 24,
   "id": "096b4fd7",
   "metadata": {},
   "outputs": [
    {
     "data": {
      "text/plain": [
       "User(id=None, name='user', password='$2b$12$ujQriBRcmzjjupH8.1DAbe/FPHSoTYsljZ13VWbKmWwXzAo9YKDJ.', is_active=True)"
      ]
     },
     "execution_count": 24,
     "metadata": {},
     "output_type": "execute_result"
    }
   ],
   "source": [
    "user.copy()"
   ]
  },
  {
   "cell_type": "code",
   "execution_count": 25,
   "id": "4e2aa27f",
   "metadata": {},
   "outputs": [
    {
     "data": {
      "text/plain": [
       "'{\"id\": null, \"name\": \"user\", \"password\": \"$2b$12$ujQriBRcmzjjupH8.1DAbe/FPHSoTYsljZ13VWbKmWwXzAo9YKDJ.\", \"is_active\": true}'"
      ]
     },
     "execution_count": 25,
     "metadata": {},
     "output_type": "execute_result"
    }
   ],
   "source": [
    "user.json()"
   ]
  },
  {
   "cell_type": "code",
   "execution_count": null,
   "id": "c0152442",
   "metadata": {},
   "outputs": [],
   "source": []
  }
 ],
 "metadata": {
  "kernelspec": {
   "display_name": "Python 3 (ipykernel)",
   "language": "python",
   "name": "python3"
  },
  "language_info": {
   "codemirror_mode": {
    "name": "ipython",
    "version": 3
   },
   "file_extension": ".py",
   "mimetype": "text/x-python",
   "name": "python",
   "nbconvert_exporter": "python",
   "pygments_lexer": "ipython3",
   "version": "3.10.0"
  }
 },
 "nbformat": 4,
 "nbformat_minor": 5
}
