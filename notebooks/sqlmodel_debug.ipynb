{
 "cells": [
  {
   "cell_type": "code",
   "execution_count": 1,
   "id": "c8f12415",
   "metadata": {},
   "outputs": [],
   "source": [
    "from sqlmodel import SQLModel, create_engine, Session, select\n",
    "\n",
    "from app.auth import get_password_hash\n",
    "from app.models import User\n",
    "from app.config import settings"
   ]
  },
  {
   "cell_type": "code",
   "execution_count": 9,
   "id": "5677baeb",
   "metadata": {},
   "outputs": [],
   "source": [
    "user = User(name=\"user\", password=get_password_hash(\"password\"), is_active=True)"
   ]
  },
  {
   "cell_type": "code",
   "execution_count": 10,
   "id": "fa65a1d1",
   "metadata": {},
   "outputs": [
    {
     "name": "stdout",
     "output_type": "stream",
     "text": [
      "2021-10-16 09:18:40,271 INFO sqlalchemy.engine.Engine BEGIN (implicit)\n",
      "2021-10-16 09:18:40,273 INFO sqlalchemy.engine.Engine INSERT INTO user (name, password, is_active) VALUES (?, ?, ?)\n",
      "2021-10-16 09:18:40,273 INFO sqlalchemy.engine.Engine [generated in 0.00034s] ('user', '$2b$12$xuQ7oDmwMYuoxPckXO2q3ORnpWqgTqX5yI8qssLPCe8jG9ONCH0du', 1)\n",
      "2021-10-16 09:18:40,275 INFO sqlalchemy.engine.Engine COMMIT\n",
      "\n"
     ]
    }
   ],
   "source": [
    "with Session(settings.db_engine) as session:\n",
    "    session.add(user)\n",
    "    session.commit()\n",
    "    print(user)"
   ]
  },
  {
   "cell_type": "code",
   "execution_count": 11,
   "id": "db592fd1",
   "metadata": {},
   "outputs": [
    {
     "data": {
      "text/plain": [
       "User()"
      ]
     },
     "execution_count": 11,
     "metadata": {},
     "output_type": "execute_result"
    }
   ],
   "source": [
    "user"
   ]
  },
  {
   "cell_type": "code",
   "execution_count": 2,
   "id": "1c99bc75",
   "metadata": {},
   "outputs": [],
   "source": [
    "with Session(settings.db_engine) as session:\n",
    "    statement = select(User).where(User.name == \"user\")\n",
    "    results = session.exec(statement)\n",
    "    user = results.first()"
   ]
  },
  {
   "cell_type": "code",
   "execution_count": 3,
   "id": "0e464ea7",
   "metadata": {},
   "outputs": [
    {
     "data": {
      "text/plain": [
       "User(is_active=True, name='user', password='$2b$12$xuQ7oDmwMYuoxPckXO2q3ORnpWqgTqX5yI8qssLPCe8jG9ONCH0du', id=1)"
      ]
     },
     "execution_count": 3,
     "metadata": {},
     "output_type": "execute_result"
    }
   ],
   "source": [
    "user"
   ]
  },
  {
   "cell_type": "code",
   "execution_count": 22,
   "id": "ff45d0bd",
   "metadata": {},
   "outputs": [
    {
     "data": {
      "text/plain": [
       "'user'"
      ]
     },
     "execution_count": 22,
     "metadata": {},
     "output_type": "execute_result"
    }
   ],
   "source": [
    "user.name"
   ]
  },
  {
   "cell_type": "code",
   "execution_count": 23,
   "id": "d89cfc34",
   "metadata": {},
   "outputs": [],
   "source": [
    "user = User(name=\"user\", password=get_password_hash(\"password\"), is_active=True)"
   ]
  },
  {
   "cell_type": "code",
   "execution_count": 24,
   "id": "998b1a9c",
   "metadata": {},
   "outputs": [
    {
     "data": {
      "text/plain": [
       "User(id=None, name='user', password='$2b$12$ujQriBRcmzjjupH8.1DAbe/FPHSoTYsljZ13VWbKmWwXzAo9YKDJ.', is_active=True)"
      ]
     },
     "execution_count": 24,
     "metadata": {},
     "output_type": "execute_result"
    }
   ],
   "source": [
    "user.copy()"
   ]
  },
  {
   "cell_type": "code",
   "execution_count": 25,
   "id": "c739743c",
   "metadata": {},
   "outputs": [
    {
     "data": {
      "text/plain": [
       "'{\"id\": null, \"name\": \"user\", \"password\": \"$2b$12$ujQriBRcmzjjupH8.1DAbe/FPHSoTYsljZ13VWbKmWwXzAo9YKDJ.\", \"is_active\": true}'"
      ]
     },
     "execution_count": 25,
     "metadata": {},
     "output_type": "execute_result"
    }
   ],
   "source": [
    "user.json()"
   ]
  },
  {
   "cell_type": "code",
   "execution_count": 26,
   "id": "ec290675",
   "metadata": {},
   "outputs": [
    {
     "data": {
      "text/plain": [
       "User(id=None, name='user', password='$2b$12$ujQriBRcmzjjupH8.1DAbe/FPHSoTYsljZ13VWbKmWwXzAo9YKDJ.', is_active=True)"
      ]
     },
     "execution_count": 26,
     "metadata": {},
     "output_type": "execute_result"
    }
   ],
   "source": [
    "user"
   ]
  },
  {
   "cell_type": "code",
   "execution_count": 4,
   "id": "5cce0aaa",
   "metadata": {},
   "outputs": [],
   "source": [
    "from app.routers.users import UserOut"
   ]
  },
  {
   "cell_type": "code",
   "execution_count": 5,
   "id": "e2c99b92",
   "metadata": {},
   "outputs": [
    {
     "data": {
      "text/plain": [
       "UserOut(id=1, name='user')"
      ]
     },
     "execution_count": 5,
     "metadata": {},
     "output_type": "execute_result"
    }
   ],
   "source": [
    "UserOut(**user.dict())"
   ]
  },
  {
   "cell_type": "code",
   "execution_count": 6,
   "id": "342d735b",
   "metadata": {},
   "outputs": [
    {
     "data": {
      "text/plain": [
       "UserOut(id=1, name='user')"
      ]
     },
     "execution_count": 6,
     "metadata": {},
     "output_type": "execute_result"
    }
   ],
   "source": [
    "UserOut.from_orm(user)"
   ]
  },
  {
   "cell_type": "code",
   "execution_count": 36,
   "id": "742c1735",
   "metadata": {},
   "outputs": [
    {
     "data": {
      "text/plain": [
       "['Config',\n",
       " '__abstractmethods__',\n",
       " '__annotations__',\n",
       " '__class__',\n",
       " '__class_vars__',\n",
       " '__config__',\n",
       " '__custom_root_type__',\n",
       " '__delattr__',\n",
       " '__dict__',\n",
       " '__dir__',\n",
       " '__doc__',\n",
       " '__eq__',\n",
       " '__fields__',\n",
       " '__fields_set__',\n",
       " '__format__',\n",
       " '__ge__',\n",
       " '__get_validators__',\n",
       " '__getattribute__',\n",
       " '__getstate__',\n",
       " '__gt__',\n",
       " '__hash__',\n",
       " '__init__',\n",
       " '__init_subclass__',\n",
       " '__iter__',\n",
       " '__json_encoder__',\n",
       " '__le__',\n",
       " '__lt__',\n",
       " '__module__',\n",
       " '__ne__',\n",
       " '__new__',\n",
       " '__post_root_validators__',\n",
       " '__pre_root_validators__',\n",
       " '__pretty__',\n",
       " '__private_attributes__',\n",
       " '__reduce__',\n",
       " '__reduce_ex__',\n",
       " '__repr__',\n",
       " '__repr_args__',\n",
       " '__repr_name__',\n",
       " '__repr_str__',\n",
       " '__schema_cache__',\n",
       " '__setattr__',\n",
       " '__setstate__',\n",
       " '__signature__',\n",
       " '__sizeof__',\n",
       " '__slots__',\n",
       " '__str__',\n",
       " '__subclasshook__',\n",
       " '__validators__',\n",
       " '_abc_impl',\n",
       " '_calculate_keys',\n",
       " '_decompose_class',\n",
       " '_enforce_dict_if_root',\n",
       " '_get_value',\n",
       " '_init_private_attributes',\n",
       " '_iter',\n",
       " 'construct',\n",
       " 'copy',\n",
       " 'dict',\n",
       " 'from_orm',\n",
       " 'json',\n",
       " 'parse_file',\n",
       " 'parse_obj',\n",
       " 'parse_raw',\n",
       " 'schema',\n",
       " 'schema_json',\n",
       " 'update_forward_refs',\n",
       " 'validate']"
      ]
     },
     "execution_count": 36,
     "metadata": {},
     "output_type": "execute_result"
    }
   ],
   "source": [
    "dir(UserOut)"
   ]
  },
  {
   "cell_type": "code",
   "execution_count": 37,
   "id": "7136c132",
   "metadata": {},
   "outputs": [
    {
     "ename": "ConfigError",
     "evalue": "You must have the config attribute orm_mode=True to use from_orm",
     "output_type": "error",
     "traceback": [
      "\u001b[0;31m---------------------------------------------------------------------------\u001b[0m",
      "\u001b[0;31mConfigError\u001b[0m                               Traceback (most recent call last)",
      "\u001b[0;32m/var/folders/35/mhty_0hd42ddfvyk3_09f1hc0000gn/T/ipykernel_65610/3165474525.py\u001b[0m in \u001b[0;36m<module>\u001b[0;34m\u001b[0m\n\u001b[0;32m----> 1\u001b[0;31m \u001b[0mUserOut\u001b[0m\u001b[0;34m.\u001b[0m\u001b[0mfrom_orm\u001b[0m\u001b[0;34m(\u001b[0m\u001b[0muser\u001b[0m\u001b[0;34m)\u001b[0m\u001b[0;34m\u001b[0m\u001b[0;34m\u001b[0m\u001b[0m\n\u001b[0m",
      "\u001b[0;32m~/.virtualenvs/fd/lib/python3.10/site-packages/pydantic/main.py\u001b[0m in \u001b[0;36mfrom_orm\u001b[0;34m(cls, obj)\u001b[0m\n\u001b[1;32m    624\u001b[0m     \u001b[0;32mdef\u001b[0m \u001b[0mfrom_orm\u001b[0m\u001b[0;34m(\u001b[0m\u001b[0mcls\u001b[0m\u001b[0;34m:\u001b[0m \u001b[0mType\u001b[0m\u001b[0;34m[\u001b[0m\u001b[0;34m'Model'\u001b[0m\u001b[0;34m]\u001b[0m\u001b[0;34m,\u001b[0m \u001b[0mobj\u001b[0m\u001b[0;34m:\u001b[0m \u001b[0mAny\u001b[0m\u001b[0;34m)\u001b[0m \u001b[0;34m->\u001b[0m \u001b[0;34m'Model'\u001b[0m\u001b[0;34m:\u001b[0m\u001b[0;34m\u001b[0m\u001b[0;34m\u001b[0m\u001b[0m\n\u001b[1;32m    625\u001b[0m         \u001b[0;32mif\u001b[0m \u001b[0;32mnot\u001b[0m \u001b[0mcls\u001b[0m\u001b[0;34m.\u001b[0m\u001b[0m__config__\u001b[0m\u001b[0;34m.\u001b[0m\u001b[0morm_mode\u001b[0m\u001b[0;34m:\u001b[0m\u001b[0;34m\u001b[0m\u001b[0;34m\u001b[0m\u001b[0m\n\u001b[0;32m--> 626\u001b[0;31m             \u001b[0;32mraise\u001b[0m \u001b[0mConfigError\u001b[0m\u001b[0;34m(\u001b[0m\u001b[0;34m'You must have the config attribute orm_mode=True to use from_orm'\u001b[0m\u001b[0;34m)\u001b[0m\u001b[0;34m\u001b[0m\u001b[0;34m\u001b[0m\u001b[0m\n\u001b[0m\u001b[1;32m    627\u001b[0m         \u001b[0mobj\u001b[0m \u001b[0;34m=\u001b[0m \u001b[0;34m{\u001b[0m\u001b[0mROOT_KEY\u001b[0m\u001b[0;34m:\u001b[0m \u001b[0mobj\u001b[0m\u001b[0;34m}\u001b[0m \u001b[0;32mif\u001b[0m \u001b[0mcls\u001b[0m\u001b[0;34m.\u001b[0m\u001b[0m__custom_root_type__\u001b[0m \u001b[0;32melse\u001b[0m \u001b[0mcls\u001b[0m\u001b[0;34m.\u001b[0m\u001b[0m_decompose_class\u001b[0m\u001b[0;34m(\u001b[0m\u001b[0mobj\u001b[0m\u001b[0;34m)\u001b[0m\u001b[0;34m\u001b[0m\u001b[0;34m\u001b[0m\u001b[0m\n\u001b[1;32m    628\u001b[0m         \u001b[0mm\u001b[0m \u001b[0;34m=\u001b[0m \u001b[0mcls\u001b[0m\u001b[0;34m.\u001b[0m\u001b[0m__new__\u001b[0m\u001b[0;34m(\u001b[0m\u001b[0mcls\u001b[0m\u001b[0;34m)\u001b[0m\u001b[0;34m\u001b[0m\u001b[0;34m\u001b[0m\u001b[0m\n",
      "\u001b[0;31mConfigError\u001b[0m: You must have the config attribute orm_mode=True to use from_orm"
     ]
    }
   ],
   "source": [
    "UserOut.from_orm(user)"
   ]
  },
  {
   "cell_type": "code",
   "execution_count": null,
   "id": "0a286378",
   "metadata": {},
   "outputs": [],
   "source": []
  }
 ],
 "metadata": {
  "kernelspec": {
   "display_name": "Python 3 (ipykernel)",
   "language": "python",
   "name": "python3"
  },
  "language_info": {
   "codemirror_mode": {
    "name": "ipython",
    "version": 3
   },
   "file_extension": ".py",
   "mimetype": "text/x-python",
   "name": "python",
   "nbconvert_exporter": "python",
   "pygments_lexer": "ipython3",
   "version": "3.10.0"
  }
 },
 "nbformat": 4,
 "nbformat_minor": 5
}
