{
 "cells": [
  {
   "cell_type": "code",
   "execution_count": 2,
   "id": "831cc3ec",
   "metadata": {},
   "outputs": [],
   "source": [
    "from models import Hero"
   ]
  },
  {
   "cell_type": "code",
   "execution_count": 3,
   "id": "7e6887e0",
   "metadata": {},
   "outputs": [
    {
     "data": {
      "text/plain": [
       "models.Hero"
      ]
     },
     "execution_count": 3,
     "metadata": {},
     "output_type": "execute_result"
    }
   ],
   "source": [
    "Hero"
   ]
  },
  {
   "cell_type": "code",
   "execution_count": null,
   "id": "d6f8a26d",
   "metadata": {},
   "outputs": [],
   "source": []
  }
 ],
 "metadata": {
  "kernelspec": {
   "display_name": "Python 3 (ipykernel)",
   "language": "python",
   "name": "python3"
  },
  "language_info": {
   "codemirror_mode": {
    "name": "ipython",
    "version": 3
   },
   "file_extension": ".py",
   "mimetype": "text/x-python",
   "name": "python",
   "nbconvert_exporter": "python",
   "pygments_lexer": "ipython3",
   "version": "3.10.0"
  }
 },
 "nbformat": 4,
 "nbformat_minor": 5
}
