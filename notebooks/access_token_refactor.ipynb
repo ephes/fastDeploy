{
 "cells": [
  {
   "cell_type": "code",
   "execution_count": 8,
   "id": "9af64aa4",
   "metadata": {},
   "outputs": [
    {
     "name": "stdout",
     "output_type": "stream",
     "text": [
      "The nb_black extension is already loaded. To reload it, use:\n",
      "  %reload_ext nb_black\n"
     ]
    },
    {
     "data": {
      "application/javascript": [
       "\n",
       "            setTimeout(function() {\n",
       "                var nbb_cell_id = 8;\n",
       "                var nbb_unformatted_code = \"%load_ext nb_black\";\n",
       "                var nbb_formatted_code = \"%load_ext nb_black\";\n",
       "                var nbb_cells = Jupyter.notebook.get_cells();\n",
       "                for (var i = 0; i < nbb_cells.length; ++i) {\n",
       "                    if (nbb_cells[i].input_prompt_number == nbb_cell_id) {\n",
       "                        if (nbb_cells[i].get_text() == nbb_unformatted_code) {\n",
       "                             nbb_cells[i].set_text(nbb_formatted_code);\n",
       "                        }\n",
       "                        break;\n",
       "                    }\n",
       "                }\n",
       "            }, 500);\n",
       "            "
      ],
      "text/plain": [
       "<IPython.core.display.Javascript object>"
      ]
     },
     "metadata": {},
     "output_type": "display_data"
    }
   ],
   "source": [
    "%load_ext nb_black"
   ]
  },
  {
   "cell_type": "code",
   "execution_count": 53,
   "id": "8045f38e",
   "metadata": {},
   "outputs": [
    {
     "data": {
      "application/javascript": [
       "\n",
       "            setTimeout(function() {\n",
       "                var nbb_cell_id = 53;\n",
       "                var nbb_unformatted_code = \"from typing import Optional\\n\\nfrom sqlmodel import Session, select\\nfrom pydantic import BaseModel\\n\\nfrom app.models import Service\\nfrom app import database\";\n",
       "                var nbb_formatted_code = \"from typing import Optional\\n\\nfrom sqlmodel import Session, select\\nfrom pydantic import BaseModel\\n\\nfrom app.models import Service\\nfrom app import database\";\n",
       "                var nbb_cells = Jupyter.notebook.get_cells();\n",
       "                for (var i = 0; i < nbb_cells.length; ++i) {\n",
       "                    if (nbb_cells[i].input_prompt_number == nbb_cell_id) {\n",
       "                        if (nbb_cells[i].get_text() == nbb_unformatted_code) {\n",
       "                             nbb_cells[i].set_text(nbb_formatted_code);\n",
       "                        }\n",
       "                        break;\n",
       "                    }\n",
       "                }\n",
       "            }, 500);\n",
       "            "
      ],
      "text/plain": [
       "<IPython.core.display.Javascript object>"
      ]
     },
     "metadata": {},
     "output_type": "display_data"
    }
   ],
   "source": [
    "from typing import Optional\n",
    "\n",
    "from sqlmodel import Session, select\n",
    "from pydantic import BaseModel\n",
    "\n",
    "from app.models import Service\n",
    "from app import database"
   ]
  },
  {
   "cell_type": "code",
   "execution_count": 69,
   "id": "8342168a",
   "metadata": {},
   "outputs": [
    {
     "data": {
      "application/javascript": [
       "\n",
       "            setTimeout(function() {\n",
       "                var nbb_cell_id = 69;\n",
       "                var nbb_unformatted_code = \"class TokenBase(BaseModel):\\n    type: str\\n\\n\\nclass UserToken(TokenBase):\\n    user: str\\n\\n\\nclass ServiceToken(TokenBase):\\n    service: str\\n    origin: str\\n    user: str\\n    service_from_db: Optional[Service]\\n\\n    @property\\n    def service_exists_in_database(self):\\n        service = self.fetch_service_from_db()\\n        return service is not None\\n\\n    def fetch_service_from_db(self):\\n        with Session(database.engine) as session:\\n            # protect against validating an access_token from a deleted service\\n            service = session.exec(\\n                select(Service).where(Service.name == self.name)\\n            ).first()\\n        self.service_from_db = service\\n        return service\\n\\n\\nclass DeploymentToken(TokenBase):\\n    deployment: int\";\n",
       "                var nbb_formatted_code = \"class TokenBase(BaseModel):\\n    type: str\\n\\n\\nclass UserToken(TokenBase):\\n    user: str\\n\\n\\nclass ServiceToken(TokenBase):\\n    service: str\\n    origin: str\\n    user: str\\n    service_from_db: Optional[Service]\\n\\n    @property\\n    def service_exists_in_database(self):\\n        service = self.fetch_service_from_db()\\n        return service is not None\\n\\n    def fetch_service_from_db(self):\\n        with Session(database.engine) as session:\\n            # protect against validating an access_token from a deleted service\\n            service = session.exec(\\n                select(Service).where(Service.name == self.name)\\n            ).first()\\n        self.service_from_db = service\\n        return service\\n\\n\\nclass DeploymentToken(TokenBase):\\n    deployment: int\";\n",
       "                var nbb_cells = Jupyter.notebook.get_cells();\n",
       "                for (var i = 0; i < nbb_cells.length; ++i) {\n",
       "                    if (nbb_cells[i].input_prompt_number == nbb_cell_id) {\n",
       "                        if (nbb_cells[i].get_text() == nbb_unformatted_code) {\n",
       "                             nbb_cells[i].set_text(nbb_formatted_code);\n",
       "                        }\n",
       "                        break;\n",
       "                    }\n",
       "                }\n",
       "            }, 500);\n",
       "            "
      ],
      "text/plain": [
       "<IPython.core.display.Javascript object>"
      ]
     },
     "metadata": {},
     "output_type": "display_data"
    }
   ],
   "source": [
    "class TokenBase(BaseModel):\n",
    "    type: str\n",
    "\n",
    "\n",
    "class UserToken(TokenBase):\n",
    "    user: str\n",
    "\n",
    "\n",
    "class ServiceToken(TokenBase):\n",
    "    service: str\n",
    "    origin: str\n",
    "    user: str\n",
    "    service_from_db: Optional[Service]\n",
    "\n",
    "    @property\n",
    "    def service_exists_in_database(self):\n",
    "        service = self.fetch_service_from_db()\n",
    "        return service is not None\n",
    "\n",
    "    def fetch_service_from_db(self):\n",
    "        with Session(database.engine) as session:\n",
    "            # protect against validating an access_token from a deleted service\n",
    "            service = session.exec(\n",
    "                select(Service).where(Service.name == self.name)\n",
    "            ).first()\n",
    "        self.service_from_db = service\n",
    "        return service\n",
    "\n",
    "\n",
    "class DeploymentToken(TokenBase):\n",
    "    deployment: int"
   ]
  },
  {
   "cell_type": "code",
   "execution_count": 73,
   "id": "2278787b",
   "metadata": {},
   "outputs": [
    {
     "name": "stdout",
     "output_type": "stream",
     "text": [
      "type='user' user='foobar'\n",
      "type='service' service='fastdeploy' origin='GitHub' user='foo' service_from_db=None\n",
      "type='deployment' deployment=10\n"
     ]
    },
    {
     "data": {
      "application/javascript": [
       "\n",
       "            setTimeout(function() {\n",
       "                var nbb_cell_id = 73;\n",
       "                var nbb_unformatted_code = \"payloads = [\\n    {\\\"type\\\": \\\"user\\\", \\\"user\\\": \\\"foobar\\\"},\\n    {\\n        \\\"type\\\": \\\"service\\\",\\n        \\\"service\\\": \\\"fastdeploy\\\",\\n        \\\"origin\\\": \\\"GitHub\\\",\\n        \\\"user\\\": \\\"foo\\\",\\n    },\\n    {\\\"type\\\": \\\"deployment\\\", \\\"deployment\\\": 10}\\n]\\n\\n\\ndef payload_to_token(payload):\\n    type_to_token = {\\n        \\\"user\\\": UserToken,\\n        \\\"service\\\": ServiceToken,\\n        \\\"deployment\\\": DeploymentToken,\\n    }\\n    return type_to_token[payload.get(\\\"type\\\")].parse_obj(payload)\\n\\n\\nfor payload in payloads:\\n    print(payload_to_token(payload))\";\n",
       "                var nbb_formatted_code = \"payloads = [\\n    {\\\"type\\\": \\\"user\\\", \\\"user\\\": \\\"foobar\\\"},\\n    {\\n        \\\"type\\\": \\\"service\\\",\\n        \\\"service\\\": \\\"fastdeploy\\\",\\n        \\\"origin\\\": \\\"GitHub\\\",\\n        \\\"user\\\": \\\"foo\\\",\\n    },\\n    {\\\"type\\\": \\\"deployment\\\", \\\"deployment\\\": 10},\\n]\\n\\n\\ndef payload_to_token(payload):\\n    type_to_token = {\\n        \\\"user\\\": UserToken,\\n        \\\"service\\\": ServiceToken,\\n        \\\"deployment\\\": DeploymentToken,\\n    }\\n    return type_to_token[payload.get(\\\"type\\\")].parse_obj(payload)\\n\\n\\nfor payload in payloads:\\n    print(payload_to_token(payload))\";\n",
       "                var nbb_cells = Jupyter.notebook.get_cells();\n",
       "                for (var i = 0; i < nbb_cells.length; ++i) {\n",
       "                    if (nbb_cells[i].input_prompt_number == nbb_cell_id) {\n",
       "                        if (nbb_cells[i].get_text() == nbb_unformatted_code) {\n",
       "                             nbb_cells[i].set_text(nbb_formatted_code);\n",
       "                        }\n",
       "                        break;\n",
       "                    }\n",
       "                }\n",
       "            }, 500);\n",
       "            "
      ],
      "text/plain": [
       "<IPython.core.display.Javascript object>"
      ]
     },
     "metadata": {},
     "output_type": "display_data"
    }
   ],
   "source": [
    "payloads = [\n",
    "    {\"type\": \"user\", \"user\": \"foobar\"},\n",
    "    {\n",
    "        \"type\": \"service\",\n",
    "        \"service\": \"fastdeploy\",\n",
    "        \"origin\": \"GitHub\",\n",
    "        \"user\": \"foo\",\n",
    "    },\n",
    "    {\"type\": \"deployment\", \"deployment\": 10},\n",
    "]\n",
    "\n",
    "\n",
    "def payload_to_token(payload):\n",
    "    type_to_token = {\n",
    "        \"user\": UserToken,\n",
    "        \"service\": ServiceToken,\n",
    "        \"deployment\": DeploymentToken,\n",
    "    }\n",
    "    return type_to_token[payload.get(\"type\")].parse_obj(payload)\n",
    "\n",
    "\n",
    "for payload in payloads:\n",
    "    print(payload_to_token(payload))"
   ]
  },
  {
   "cell_type": "code",
   "execution_count": 67,
   "id": "ebe69b4b",
   "metadata": {},
   "outputs": [
    {
     "name": "stdout",
     "output_type": "stream",
     "text": [
      "asdfajsdlfkajsdlfkasjdflaskdjflwq\n",
      "kwargs:  {'type': 'service', 'name': 'fastdeploy', 'origin': 'GitHub', 'user': 'foo'}\n",
      "service:  name='fastdeploy' id=1\n"
     ]
    },
    {
     "data": {
      "application/javascript": [
       "\n",
       "            setTimeout(function() {\n",
       "                var nbb_cell_id = 67;\n",
       "                var nbb_unformatted_code = \"st = ServiceToken.parse_obj(\\n    {\\n        \\\"type\\\": \\\"service\\\",\\n        \\\"name\\\": \\\"fastdeploy\\\",\\n        \\\"origin\\\": \\\"GitHub\\\",\\n        \\\"user\\\": \\\"foo\\\",\\n    }\\n)\";\n",
       "                var nbb_formatted_code = \"st = ServiceToken.parse_obj(\\n    {\\n        \\\"type\\\": \\\"service\\\",\\n        \\\"name\\\": \\\"fastdeploy\\\",\\n        \\\"origin\\\": \\\"GitHub\\\",\\n        \\\"user\\\": \\\"foo\\\",\\n    }\\n)\";\n",
       "                var nbb_cells = Jupyter.notebook.get_cells();\n",
       "                for (var i = 0; i < nbb_cells.length; ++i) {\n",
       "                    if (nbb_cells[i].input_prompt_number == nbb_cell_id) {\n",
       "                        if (nbb_cells[i].get_text() == nbb_unformatted_code) {\n",
       "                             nbb_cells[i].set_text(nbb_formatted_code);\n",
       "                        }\n",
       "                        break;\n",
       "                    }\n",
       "                }\n",
       "            }, 500);\n",
       "            "
      ],
      "text/plain": [
       "<IPython.core.display.Javascript object>"
      ]
     },
     "metadata": {},
     "output_type": "display_data"
    }
   ],
   "source": [
    "st = ServiceToken.parse_obj(\n",
    "    {\n",
    "        \"type\": \"service\",\n",
    "        \"name\": \"fastdeploy\",\n",
    "        \"origin\": \"GitHub\",\n",
    "        \"user\": \"foo\",\n",
    "    }\n",
    ")"
   ]
  },
  {
   "cell_type": "code",
   "execution_count": 68,
   "id": "3ed7509f",
   "metadata": {},
   "outputs": [
    {
     "name": "stdout",
     "output_type": "stream",
     "text": [
      "name='fastdeploy' id=1\n"
     ]
    },
    {
     "data": {
      "application/javascript": [
       "\n",
       "            setTimeout(function() {\n",
       "                var nbb_cell_id = 68;\n",
       "                var nbb_unformatted_code = \"print(st.service)\";\n",
       "                var nbb_formatted_code = \"print(st.service)\";\n",
       "                var nbb_cells = Jupyter.notebook.get_cells();\n",
       "                for (var i = 0; i < nbb_cells.length; ++i) {\n",
       "                    if (nbb_cells[i].input_prompt_number == nbb_cell_id) {\n",
       "                        if (nbb_cells[i].get_text() == nbb_unformatted_code) {\n",
       "                             nbb_cells[i].set_text(nbb_formatted_code);\n",
       "                        }\n",
       "                        break;\n",
       "                    }\n",
       "                }\n",
       "            }, 500);\n",
       "            "
      ],
      "text/plain": [
       "<IPython.core.display.Javascript object>"
      ]
     },
     "metadata": {},
     "output_type": "display_data"
    }
   ],
   "source": [
    "print(st.service)"
   ]
  },
  {
   "cell_type": "code",
   "execution_count": 64,
   "id": "c5fec813",
   "metadata": {},
   "outputs": [
    {
     "data": {
      "application/javascript": [
       "\n",
       "            setTimeout(function() {\n",
       "                var nbb_cell_id = 64;\n",
       "                var nbb_unformatted_code = \"with Session(database.engine) as session:\\n    # protect against validating an access_token from a deleted service\\n    services = session.exec(\\n        select(Service)\\n    ).all()\";\n",
       "                var nbb_formatted_code = \"with Session(database.engine) as session:\\n    # protect against validating an access_token from a deleted service\\n    services = session.exec(select(Service)).all()\";\n",
       "                var nbb_cells = Jupyter.notebook.get_cells();\n",
       "                for (var i = 0; i < nbb_cells.length; ++i) {\n",
       "                    if (nbb_cells[i].input_prompt_number == nbb_cell_id) {\n",
       "                        if (nbb_cells[i].get_text() == nbb_unformatted_code) {\n",
       "                             nbb_cells[i].set_text(nbb_formatted_code);\n",
       "                        }\n",
       "                        break;\n",
       "                    }\n",
       "                }\n",
       "            }, 500);\n",
       "            "
      ],
      "text/plain": [
       "<IPython.core.display.Javascript object>"
      ]
     },
     "metadata": {},
     "output_type": "display_data"
    }
   ],
   "source": [
    "with Session(database.engine) as session:\n",
    "    # protect against validating an access_token from a deleted service\n",
    "    services = session.exec(\n",
    "        select(Service)\n",
    "    ).all()\n",
    "\n"
   ]
  },
  {
   "cell_type": "code",
   "execution_count": 65,
   "id": "17e0325b",
   "metadata": {},
   "outputs": [
    {
     "data": {
      "text/plain": [
       "[Service(name='fastdeploy', id=1)]"
      ]
     },
     "execution_count": 65,
     "metadata": {},
     "output_type": "execute_result"
    },
    {
     "data": {
      "application/javascript": [
       "\n",
       "            setTimeout(function() {\n",
       "                var nbb_cell_id = 65;\n",
       "                var nbb_unformatted_code = \"services\";\n",
       "                var nbb_formatted_code = \"services\";\n",
       "                var nbb_cells = Jupyter.notebook.get_cells();\n",
       "                for (var i = 0; i < nbb_cells.length; ++i) {\n",
       "                    if (nbb_cells[i].input_prompt_number == nbb_cell_id) {\n",
       "                        if (nbb_cells[i].get_text() == nbb_unformatted_code) {\n",
       "                             nbb_cells[i].set_text(nbb_formatted_code);\n",
       "                        }\n",
       "                        break;\n",
       "                    }\n",
       "                }\n",
       "            }, 500);\n",
       "            "
      ],
      "text/plain": [
       "<IPython.core.display.Javascript object>"
      ]
     },
     "metadata": {},
     "output_type": "display_data"
    }
   ],
   "source": [
    "services"
   ]
  },
  {
   "cell_type": "code",
   "execution_count": 77,
   "id": "70b8a5ae",
   "metadata": {},
   "outputs": [
    {
     "data": {
      "application/javascript": [
       "\n",
       "            setTimeout(function() {\n",
       "                var nbb_cell_id = 77;\n",
       "                var nbb_unformatted_code = \"from time import time\\nfrom datetime import datetime\";\n",
       "                var nbb_formatted_code = \"from time import time\\nfrom datetime import datetime\";\n",
       "                var nbb_cells = Jupyter.notebook.get_cells();\n",
       "                for (var i = 0; i < nbb_cells.length; ++i) {\n",
       "                    if (nbb_cells[i].input_prompt_number == nbb_cell_id) {\n",
       "                        if (nbb_cells[i].get_text() == nbb_unformatted_code) {\n",
       "                             nbb_cells[i].set_text(nbb_formatted_code);\n",
       "                        }\n",
       "                        break;\n",
       "                    }\n",
       "                }\n",
       "            }, 500);\n",
       "            "
      ],
      "text/plain": [
       "<IPython.core.display.Javascript object>"
      ]
     },
     "metadata": {},
     "output_type": "display_data"
    }
   ],
   "source": [
    "from time import time\n",
    "from datetime import datetime"
   ]
  },
  {
   "cell_type": "code",
   "execution_count": 78,
   "id": "c4745b08",
   "metadata": {},
   "outputs": [
    {
     "data": {
      "text/plain": [
       "1635660587.693299"
      ]
     },
     "execution_count": 78,
     "metadata": {},
     "output_type": "execute_result"
    },
    {
     "data": {
      "application/javascript": [
       "\n",
       "            setTimeout(function() {\n",
       "                var nbb_cell_id = 78;\n",
       "                var nbb_unformatted_code = \"time()\";\n",
       "                var nbb_formatted_code = \"time()\";\n",
       "                var nbb_cells = Jupyter.notebook.get_cells();\n",
       "                for (var i = 0; i < nbb_cells.length; ++i) {\n",
       "                    if (nbb_cells[i].input_prompt_number == nbb_cell_id) {\n",
       "                        if (nbb_cells[i].get_text() == nbb_unformatted_code) {\n",
       "                             nbb_cells[i].set_text(nbb_formatted_code);\n",
       "                        }\n",
       "                        break;\n",
       "                    }\n",
       "                }\n",
       "            }, 500);\n",
       "            "
      ],
      "text/plain": [
       "<IPython.core.display.Javascript object>"
      ]
     },
     "metadata": {},
     "output_type": "display_data"
    }
   ],
   "source": [
    "time()"
   ]
  },
  {
   "cell_type": "code",
   "execution_count": null,
   "id": "c555d939",
   "metadata": {},
   "outputs": [],
   "source": []
  }
 ],
 "metadata": {
  "kernelspec": {
   "display_name": "Python 3 (ipykernel)",
   "language": "python",
   "name": "python3"
  },
  "language_info": {
   "codemirror_mode": {
    "name": "ipython",
    "version": 3
   },
   "file_extension": ".py",
   "mimetype": "text/x-python",
   "name": "python",
   "nbconvert_exporter": "python",
   "pygments_lexer": "ipython3",
   "version": "3.10.0"
  }
 },
 "nbformat": 4,
 "nbformat_minor": 5
}
