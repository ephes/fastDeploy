{
 "cells": [
  {
   "cell_type": "code",
   "execution_count": 8,
   "id": "2b5439b0",
   "metadata": {},
   "outputs": [
    {
     "name": "stdout",
     "output_type": "stream",
     "text": [
      "The nb_black extension is already loaded. To reload it, use:\n",
      "  %reload_ext nb_black\n"
     ]
    },
    {
     "data": {
      "application/javascript": [
       "\n",
       "            setTimeout(function() {\n",
       "                var nbb_cell_id = 8;\n",
       "                var nbb_unformatted_code = \"%load_ext nb_black\";\n",
       "                var nbb_formatted_code = \"%load_ext nb_black\";\n",
       "                var nbb_cells = Jupyter.notebook.get_cells();\n",
       "                for (var i = 0; i < nbb_cells.length; ++i) {\n",
       "                    if (nbb_cells[i].input_prompt_number == nbb_cell_id) {\n",
       "                        if (nbb_cells[i].get_text() == nbb_unformatted_code) {\n",
       "                             nbb_cells[i].set_text(nbb_formatted_code);\n",
       "                        }\n",
       "                        break;\n",
       "                    }\n",
       "                }\n",
       "            }, 500);\n",
       "            "
      ],
      "text/plain": [
       "<IPython.core.display.Javascript object>"
      ]
     },
     "metadata": {},
     "output_type": "display_data"
    }
   ],
   "source": [
    "%load_ext nb_black"
   ]
  },
  {
   "cell_type": "code",
   "execution_count": 80,
   "id": "fe057062",
   "metadata": {},
   "outputs": [
    {
     "data": {
      "application/javascript": [
       "\n",
       "            setTimeout(function() {\n",
       "                var nbb_cell_id = 80;\n",
       "                var nbb_unformatted_code = \"from typing import Optional\\n\\nfrom sqlmodel import Session, select\\nfrom pydantic import BaseModel\\n\\nfrom app.models import Service\\nfrom app import database\\nfrom app.main import app\";\n",
       "                var nbb_formatted_code = \"from typing import Optional\\n\\nfrom sqlmodel import Session, select\\nfrom pydantic import BaseModel\\n\\nfrom app.models import Service\\nfrom app import database\\nfrom app.main import app\";\n",
       "                var nbb_cells = Jupyter.notebook.get_cells();\n",
       "                for (var i = 0; i < nbb_cells.length; ++i) {\n",
       "                    if (nbb_cells[i].input_prompt_number == nbb_cell_id) {\n",
       "                        if (nbb_cells[i].get_text() == nbb_unformatted_code) {\n",
       "                             nbb_cells[i].set_text(nbb_formatted_code);\n",
       "                        }\n",
       "                        break;\n",
       "                    }\n",
       "                }\n",
       "            }, 500);\n",
       "            "
      ],
      "text/plain": [
       "<IPython.core.display.Javascript object>"
      ]
     },
     "metadata": {},
     "output_type": "display_data"
    }
   ],
   "source": [
    "from typing import Optional\n",
    "\n",
    "from sqlmodel import Session, select\n",
    "from pydantic import BaseModel\n",
    "\n",
    "from app.models import Service\n",
    "from app import database\n",
    "from app.main import app"
   ]
  },
  {
   "cell_type": "code",
   "execution_count": 69,
   "id": "97cae641",
   "metadata": {},
   "outputs": [
    {
     "data": {
      "application/javascript": [
       "\n",
       "            setTimeout(function() {\n",
       "                var nbb_cell_id = 69;\n",
       "                var nbb_unformatted_code = \"class TokenBase(BaseModel):\\n    type: str\\n\\n\\nclass UserToken(TokenBase):\\n    user: str\\n\\n\\nclass ServiceToken(TokenBase):\\n    service: str\\n    origin: str\\n    user: str\\n    service_from_db: Optional[Service]\\n\\n    @property\\n    def service_exists_in_database(self):\\n        service = self.fetch_service_from_db()\\n        return service is not None\\n\\n    def fetch_service_from_db(self):\\n        with Session(database.engine) as session:\\n            # protect against validating an access_token from a deleted service\\n            service = session.exec(\\n                select(Service).where(Service.name == self.name)\\n            ).first()\\n        self.service_from_db = service\\n        return service\\n\\n\\nclass DeploymentToken(TokenBase):\\n    deployment: int\";\n",
       "                var nbb_formatted_code = \"class TokenBase(BaseModel):\\n    type: str\\n\\n\\nclass UserToken(TokenBase):\\n    user: str\\n\\n\\nclass ServiceToken(TokenBase):\\n    service: str\\n    origin: str\\n    user: str\\n    service_from_db: Optional[Service]\\n\\n    @property\\n    def service_exists_in_database(self):\\n        service = self.fetch_service_from_db()\\n        return service is not None\\n\\n    def fetch_service_from_db(self):\\n        with Session(database.engine) as session:\\n            # protect against validating an access_token from a deleted service\\n            service = session.exec(\\n                select(Service).where(Service.name == self.name)\\n            ).first()\\n        self.service_from_db = service\\n        return service\\n\\n\\nclass DeploymentToken(TokenBase):\\n    deployment: int\";\n",
       "                var nbb_cells = Jupyter.notebook.get_cells();\n",
       "                for (var i = 0; i < nbb_cells.length; ++i) {\n",
       "                    if (nbb_cells[i].input_prompt_number == nbb_cell_id) {\n",
       "                        if (nbb_cells[i].get_text() == nbb_unformatted_code) {\n",
       "                             nbb_cells[i].set_text(nbb_formatted_code);\n",
       "                        }\n",
       "                        break;\n",
       "                    }\n",
       "                }\n",
       "            }, 500);\n",
       "            "
      ],
      "text/plain": [
       "<IPython.core.display.Javascript object>"
      ]
     },
     "metadata": {},
     "output_type": "display_data"
    }
   ],
   "source": [
    "class TokenBase(BaseModel):\n",
    "    type: str\n",
    "\n",
    "\n",
    "class UserToken(TokenBase):\n",
    "    user: str\n",
    "\n",
    "\n",
    "class ServiceToken(TokenBase):\n",
    "    service: str\n",
    "    origin: str\n",
    "    user: str\n",
    "    service_from_db: Optional[Service]\n",
    "\n",
    "    @property\n",
    "    def service_exists_in_database(self):\n",
    "        service = self.fetch_service_from_db()\n",
    "        return service is not None\n",
    "\n",
    "    def fetch_service_from_db(self):\n",
    "        with Session(database.engine) as session:\n",
    "            # protect against validating an access_token from a deleted service\n",
    "            service = session.exec(\n",
    "                select(Service).where(Service.name == self.name)\n",
    "            ).first()\n",
    "        self.service_from_db = service\n",
    "        return service\n",
    "\n",
    "\n",
    "class DeploymentToken(TokenBase):\n",
    "    deployment: int"
   ]
  },
  {
   "cell_type": "code",
   "execution_count": 73,
   "id": "49f5d0ec",
   "metadata": {},
   "outputs": [
    {
     "name": "stdout",
     "output_type": "stream",
     "text": [
      "type='user' user='foobar'\n",
      "type='service' service='fastdeploy' origin='GitHub' user='foo' service_from_db=None\n",
      "type='deployment' deployment=10\n"
     ]
    },
    {
     "data": {
      "application/javascript": [
       "\n",
       "            setTimeout(function() {\n",
       "                var nbb_cell_id = 73;\n",
       "                var nbb_unformatted_code = \"payloads = [\\n    {\\\"type\\\": \\\"user\\\", \\\"user\\\": \\\"foobar\\\"},\\n    {\\n        \\\"type\\\": \\\"service\\\",\\n        \\\"service\\\": \\\"fastdeploy\\\",\\n        \\\"origin\\\": \\\"GitHub\\\",\\n        \\\"user\\\": \\\"foo\\\",\\n    },\\n    {\\\"type\\\": \\\"deployment\\\", \\\"deployment\\\": 10}\\n]\\n\\n\\ndef payload_to_token(payload):\\n    type_to_token = {\\n        \\\"user\\\": UserToken,\\n        \\\"service\\\": ServiceToken,\\n        \\\"deployment\\\": DeploymentToken,\\n    }\\n    return type_to_token[payload.get(\\\"type\\\")].parse_obj(payload)\\n\\n\\nfor payload in payloads:\\n    print(payload_to_token(payload))\";\n",
       "                var nbb_formatted_code = \"payloads = [\\n    {\\\"type\\\": \\\"user\\\", \\\"user\\\": \\\"foobar\\\"},\\n    {\\n        \\\"type\\\": \\\"service\\\",\\n        \\\"service\\\": \\\"fastdeploy\\\",\\n        \\\"origin\\\": \\\"GitHub\\\",\\n        \\\"user\\\": \\\"foo\\\",\\n    },\\n    {\\\"type\\\": \\\"deployment\\\", \\\"deployment\\\": 10},\\n]\\n\\n\\ndef payload_to_token(payload):\\n    type_to_token = {\\n        \\\"user\\\": UserToken,\\n        \\\"service\\\": ServiceToken,\\n        \\\"deployment\\\": DeploymentToken,\\n    }\\n    return type_to_token[payload.get(\\\"type\\\")].parse_obj(payload)\\n\\n\\nfor payload in payloads:\\n    print(payload_to_token(payload))\";\n",
       "                var nbb_cells = Jupyter.notebook.get_cells();\n",
       "                for (var i = 0; i < nbb_cells.length; ++i) {\n",
       "                    if (nbb_cells[i].input_prompt_number == nbb_cell_id) {\n",
       "                        if (nbb_cells[i].get_text() == nbb_unformatted_code) {\n",
       "                             nbb_cells[i].set_text(nbb_formatted_code);\n",
       "                        }\n",
       "                        break;\n",
       "                    }\n",
       "                }\n",
       "            }, 500);\n",
       "            "
      ],
      "text/plain": [
       "<IPython.core.display.Javascript object>"
      ]
     },
     "metadata": {},
     "output_type": "display_data"
    }
   ],
   "source": [
    "payloads = [\n",
    "    {\"type\": \"user\", \"user\": \"foobar\"},\n",
    "    {\n",
    "        \"type\": \"service\",\n",
    "        \"service\": \"fastdeploy\",\n",
    "        \"origin\": \"GitHub\",\n",
    "        \"user\": \"foo\",\n",
    "    },\n",
    "    {\"type\": \"deployment\", \"deployment\": 10},\n",
    "]\n",
    "\n",
    "\n",
    "def payload_to_token(payload):\n",
    "    type_to_token = {\n",
    "        \"user\": UserToken,\n",
    "        \"service\": ServiceToken,\n",
    "        \"deployment\": DeploymentToken,\n",
    "    }\n",
    "    return type_to_token[payload.get(\"type\")].parse_obj(payload)\n",
    "\n",
    "\n",
    "for payload in payloads:\n",
    "    print(payload_to_token(payload))"
   ]
  },
  {
   "cell_type": "code",
   "execution_count": 67,
   "id": "b1a105f9",
   "metadata": {},
   "outputs": [
    {
     "name": "stdout",
     "output_type": "stream",
     "text": [
      "asdfajsdlfkajsdlfkasjdflaskdjflwq\n",
      "kwargs:  {'type': 'service', 'name': 'fastdeploy', 'origin': 'GitHub', 'user': 'foo'}\n",
      "service:  name='fastdeploy' id=1\n"
     ]
    },
    {
     "data": {
      "application/javascript": [
       "\n",
       "            setTimeout(function() {\n",
       "                var nbb_cell_id = 67;\n",
       "                var nbb_unformatted_code = \"st = ServiceToken.parse_obj(\\n    {\\n        \\\"type\\\": \\\"service\\\",\\n        \\\"name\\\": \\\"fastdeploy\\\",\\n        \\\"origin\\\": \\\"GitHub\\\",\\n        \\\"user\\\": \\\"foo\\\",\\n    }\\n)\";\n",
       "                var nbb_formatted_code = \"st = ServiceToken.parse_obj(\\n    {\\n        \\\"type\\\": \\\"service\\\",\\n        \\\"name\\\": \\\"fastdeploy\\\",\\n        \\\"origin\\\": \\\"GitHub\\\",\\n        \\\"user\\\": \\\"foo\\\",\\n    }\\n)\";\n",
       "                var nbb_cells = Jupyter.notebook.get_cells();\n",
       "                for (var i = 0; i < nbb_cells.length; ++i) {\n",
       "                    if (nbb_cells[i].input_prompt_number == nbb_cell_id) {\n",
       "                        if (nbb_cells[i].get_text() == nbb_unformatted_code) {\n",
       "                             nbb_cells[i].set_text(nbb_formatted_code);\n",
       "                        }\n",
       "                        break;\n",
       "                    }\n",
       "                }\n",
       "            }, 500);\n",
       "            "
      ],
      "text/plain": [
       "<IPython.core.display.Javascript object>"
      ]
     },
     "metadata": {},
     "output_type": "display_data"
    }
   ],
   "source": [
    "st = ServiceToken.parse_obj(\n",
    "    {\n",
    "        \"type\": \"service\",\n",
    "        \"name\": \"fastdeploy\",\n",
    "        \"origin\": \"GitHub\",\n",
    "        \"user\": \"foo\",\n",
    "    }\n",
    ")"
   ]
  },
  {
   "cell_type": "code",
   "execution_count": 68,
   "id": "055f571c",
   "metadata": {},
   "outputs": [
    {
     "name": "stdout",
     "output_type": "stream",
     "text": [
      "name='fastdeploy' id=1\n"
     ]
    },
    {
     "data": {
      "application/javascript": [
       "\n",
       "            setTimeout(function() {\n",
       "                var nbb_cell_id = 68;\n",
       "                var nbb_unformatted_code = \"print(st.service)\";\n",
       "                var nbb_formatted_code = \"print(st.service)\";\n",
       "                var nbb_cells = Jupyter.notebook.get_cells();\n",
       "                for (var i = 0; i < nbb_cells.length; ++i) {\n",
       "                    if (nbb_cells[i].input_prompt_number == nbb_cell_id) {\n",
       "                        if (nbb_cells[i].get_text() == nbb_unformatted_code) {\n",
       "                             nbb_cells[i].set_text(nbb_formatted_code);\n",
       "                        }\n",
       "                        break;\n",
       "                    }\n",
       "                }\n",
       "            }, 500);\n",
       "            "
      ],
      "text/plain": [
       "<IPython.core.display.Javascript object>"
      ]
     },
     "metadata": {},
     "output_type": "display_data"
    }
   ],
   "source": [
    "print(st.service)"
   ]
  },
  {
   "cell_type": "code",
   "execution_count": 64,
   "id": "45e4ddb5",
   "metadata": {},
   "outputs": [
    {
     "data": {
      "application/javascript": [
       "\n",
       "            setTimeout(function() {\n",
       "                var nbb_cell_id = 64;\n",
       "                var nbb_unformatted_code = \"with Session(database.engine) as session:\\n    # protect against validating an access_token from a deleted service\\n    services = session.exec(\\n        select(Service)\\n    ).all()\";\n",
       "                var nbb_formatted_code = \"with Session(database.engine) as session:\\n    # protect against validating an access_token from a deleted service\\n    services = session.exec(select(Service)).all()\";\n",
       "                var nbb_cells = Jupyter.notebook.get_cells();\n",
       "                for (var i = 0; i < nbb_cells.length; ++i) {\n",
       "                    if (nbb_cells[i].input_prompt_number == nbb_cell_id) {\n",
       "                        if (nbb_cells[i].get_text() == nbb_unformatted_code) {\n",
       "                             nbb_cells[i].set_text(nbb_formatted_code);\n",
       "                        }\n",
       "                        break;\n",
       "                    }\n",
       "                }\n",
       "            }, 500);\n",
       "            "
      ],
      "text/plain": [
       "<IPython.core.display.Javascript object>"
      ]
     },
     "metadata": {},
     "output_type": "display_data"
    }
   ],
   "source": [
    "with Session(database.engine) as session:\n",
    "    # protect against validating an access_token from a deleted service\n",
    "    services = session.exec(\n",
    "        select(Service)\n",
    "    ).all()\n",
    "\n"
   ]
  },
  {
   "cell_type": "code",
   "execution_count": 65,
   "id": "1e74432c",
   "metadata": {},
   "outputs": [
    {
     "data": {
      "text/plain": [
       "[Service(name='fastdeploy', id=1)]"
      ]
     },
     "execution_count": 65,
     "metadata": {},
     "output_type": "execute_result"
    },
    {
     "data": {
      "application/javascript": [
       "\n",
       "            setTimeout(function() {\n",
       "                var nbb_cell_id = 65;\n",
       "                var nbb_unformatted_code = \"services\";\n",
       "                var nbb_formatted_code = \"services\";\n",
       "                var nbb_cells = Jupyter.notebook.get_cells();\n",
       "                for (var i = 0; i < nbb_cells.length; ++i) {\n",
       "                    if (nbb_cells[i].input_prompt_number == nbb_cell_id) {\n",
       "                        if (nbb_cells[i].get_text() == nbb_unformatted_code) {\n",
       "                             nbb_cells[i].set_text(nbb_formatted_code);\n",
       "                        }\n",
       "                        break;\n",
       "                    }\n",
       "                }\n",
       "            }, 500);\n",
       "            "
      ],
      "text/plain": [
       "<IPython.core.display.Javascript object>"
      ]
     },
     "metadata": {},
     "output_type": "display_data"
    }
   ],
   "source": [
    "services"
   ]
  },
  {
   "cell_type": "code",
   "execution_count": 77,
   "id": "4f80af76",
   "metadata": {},
   "outputs": [
    {
     "data": {
      "application/javascript": [
       "\n",
       "            setTimeout(function() {\n",
       "                var nbb_cell_id = 77;\n",
       "                var nbb_unformatted_code = \"from time import time\\nfrom datetime import datetime\";\n",
       "                var nbb_formatted_code = \"from time import time\\nfrom datetime import datetime\";\n",
       "                var nbb_cells = Jupyter.notebook.get_cells();\n",
       "                for (var i = 0; i < nbb_cells.length; ++i) {\n",
       "                    if (nbb_cells[i].input_prompt_number == nbb_cell_id) {\n",
       "                        if (nbb_cells[i].get_text() == nbb_unformatted_code) {\n",
       "                             nbb_cells[i].set_text(nbb_formatted_code);\n",
       "                        }\n",
       "                        break;\n",
       "                    }\n",
       "                }\n",
       "            }, 500);\n",
       "            "
      ],
      "text/plain": [
       "<IPython.core.display.Javascript object>"
      ]
     },
     "metadata": {},
     "output_type": "display_data"
    }
   ],
   "source": [
    "from time import time\n",
    "from datetime import datetime"
   ]
  },
  {
   "cell_type": "code",
   "execution_count": 78,
   "id": "b8f93dc8",
   "metadata": {},
   "outputs": [
    {
     "data": {
      "text/plain": [
       "1635660587.693299"
      ]
     },
     "execution_count": 78,
     "metadata": {},
     "output_type": "execute_result"
    },
    {
     "data": {
      "application/javascript": [
       "\n",
       "            setTimeout(function() {\n",
       "                var nbb_cell_id = 78;\n",
       "                var nbb_unformatted_code = \"time()\";\n",
       "                var nbb_formatted_code = \"time()\";\n",
       "                var nbb_cells = Jupyter.notebook.get_cells();\n",
       "                for (var i = 0; i < nbb_cells.length; ++i) {\n",
       "                    if (nbb_cells[i].input_prompt_number == nbb_cell_id) {\n",
       "                        if (nbb_cells[i].get_text() == nbb_unformatted_code) {\n",
       "                             nbb_cells[i].set_text(nbb_formatted_code);\n",
       "                        }\n",
       "                        break;\n",
       "                    }\n",
       "                }\n",
       "            }, 500);\n",
       "            "
      ],
      "text/plain": [
       "<IPython.core.display.Javascript object>"
      ]
     },
     "metadata": {},
     "output_type": "display_data"
    }
   ],
   "source": [
    "time()"
   ]
  },
  {
   "cell_type": "code",
   "execution_count": 82,
   "id": "459a4132",
   "metadata": {},
   "outputs": [
    {
     "ename": "TypeError",
     "evalue": "Starlette.url_path_for() takes 2 positional arguments but 3 were given",
     "output_type": "error",
     "traceback": [
      "\u001b[0;31m---------------------------------------------------------------------------\u001b[0m",
      "\u001b[0;31mTypeError\u001b[0m                                 Traceback (most recent call last)",
      "\u001b[0;32m/var/folders/35/mhty_0hd42ddfvyk3_09f1hc0000gn/T/ipykernel_61759/4176745420.py\u001b[0m in \u001b[0;36m<module>\u001b[0;34m\u001b[0m\n\u001b[0;32m----> 1\u001b[0;31m \u001b[0mapp\u001b[0m\u001b[0;34m.\u001b[0m\u001b[0murl_path_for\u001b[0m\u001b[0;34m(\u001b[0m\u001b[0;34m\"steps\"\u001b[0m\u001b[0;34m,\u001b[0m \u001b[0;36m3\u001b[0m\u001b[0;34m)\u001b[0m\u001b[0;34m\u001b[0m\u001b[0;34m\u001b[0m\u001b[0m\n\u001b[0m",
      "\u001b[0;31mTypeError\u001b[0m: Starlette.url_path_for() takes 2 positional arguments but 3 were given"
     ]
    },
    {
     "data": {
      "application/javascript": [
       "\n",
       "            setTimeout(function() {\n",
       "                var nbb_cell_id = 82;\n",
       "                var nbb_unformatted_code = \"app.url_path_for(\\\"steps\\\", 3)\";\n",
       "                var nbb_formatted_code = \"app.url_path_for(\\\"steps\\\", 3)\";\n",
       "                var nbb_cells = Jupyter.notebook.get_cells();\n",
       "                for (var i = 0; i < nbb_cells.length; ++i) {\n",
       "                    if (nbb_cells[i].input_prompt_number == nbb_cell_id) {\n",
       "                        if (nbb_cells[i].get_text() == nbb_unformatted_code) {\n",
       "                             nbb_cells[i].set_text(nbb_formatted_code);\n",
       "                        }\n",
       "                        break;\n",
       "                    }\n",
       "                }\n",
       "            }, 500);\n",
       "            "
      ],
      "text/plain": [
       "<IPython.core.display.Javascript object>"
      ]
     },
     "metadata": {},
     "output_type": "display_data"
    }
   ],
   "source": [
    "app.url_path_for(\"steps\", 3)"
   ]
  },
  {
   "cell_type": "code",
   "execution_count": 84,
   "id": "b30c3162",
   "metadata": {},
   "outputs": [
    {
     "data": {
      "text/plain": [
       "'/steps/1'"
      ]
     },
     "execution_count": 84,
     "metadata": {},
     "output_type": "execute_result"
    },
    {
     "data": {
      "application/javascript": [
       "\n",
       "            setTimeout(function() {\n",
       "                var nbb_cell_id = 84;\n",
       "                var nbb_unformatted_code = \"app.url_path_for(\\\"steps\\\", step_id=1)\";\n",
       "                var nbb_formatted_code = \"app.url_path_for(\\\"steps\\\", step_id=1)\";\n",
       "                var nbb_cells = Jupyter.notebook.get_cells();\n",
       "                for (var i = 0; i < nbb_cells.length; ++i) {\n",
       "                    if (nbb_cells[i].input_prompt_number == nbb_cell_id) {\n",
       "                        if (nbb_cells[i].get_text() == nbb_unformatted_code) {\n",
       "                             nbb_cells[i].set_text(nbb_formatted_code);\n",
       "                        }\n",
       "                        break;\n",
       "                    }\n",
       "                }\n",
       "            }, 500);\n",
       "            "
      ],
      "text/plain": [
       "<IPython.core.display.Javascript object>"
      ]
     },
     "metadata": {},
     "output_type": "display_data"
    }
   ],
   "source": [
    "app.url_path_for(\"steps\", step_id=1)"
   ]
  },
  {
   "cell_type": "code",
   "execution_count": null,
   "id": "31d4b87b",
   "metadata": {},
   "outputs": [],
   "source": []
  }
 ],
 "metadata": {
  "kernelspec": {
   "display_name": "Python 3 (ipykernel)",
   "language": "python",
   "name": "python3"
  },
  "language_info": {
   "codemirror_mode": {
    "name": "ipython",
    "version": 3
   },
   "file_extension": ".py",
   "mimetype": "text/x-python",
   "name": "python",
   "nbconvert_exporter": "python",
   "pygments_lexer": "ipython3",
   "version": "3.10.0"
  }
 },
 "nbformat": 4,
 "nbformat_minor": 5
}
